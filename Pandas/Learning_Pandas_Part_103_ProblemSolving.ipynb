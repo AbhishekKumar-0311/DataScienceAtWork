{
 "cells": [
  {
   "cell_type": "code",
   "execution_count": 1,
   "metadata": {},
   "outputs": [],
   "source": [
    "# To get multiple outputs in the same cell\n",
    "\n",
    "from IPython.core.interactiveshell import InteractiveShell\n",
    "InteractiveShell.ast_node_interactivity = \"all\""
   ]
  },
  {
   "cell_type": "code",
   "execution_count": 2,
   "metadata": {},
   "outputs": [],
   "source": [
    "# Import the required libraries\n",
    "\n",
    "import numpy as np\n",
    "import pandas as pd\n",
    "import matplotlib.pyplot as plt\n",
    "import seaborn as sns\n",
    "%matplotlib inline"
   ]
  },
  {
   "cell_type": "code",
   "execution_count": 3,
   "metadata": {},
   "outputs": [
    {
     "data": {
      "text/html": [
       "<div>\n",
       "<style scoped>\n",
       "    .dataframe tbody tr th:only-of-type {\n",
       "        vertical-align: middle;\n",
       "    }\n",
       "\n",
       "    .dataframe tbody tr th {\n",
       "        vertical-align: top;\n",
       "    }\n",
       "\n",
       "    .dataframe thead th {\n",
       "        text-align: right;\n",
       "    }\n",
       "</style>\n",
       "<table border=\"1\" class=\"dataframe\">\n",
       "  <thead>\n",
       "    <tr style=\"text-align: right;\">\n",
       "      <th></th>\n",
       "      <th>id</th>\n",
       "      <th>name</th>\n",
       "      <th>prem1</th>\n",
       "      <th>prem2</th>\n",
       "      <th>prem3</th>\n",
       "      <th>disc1</th>\n",
       "      <th>disc2</th>\n",
       "      <th>disc3</th>\n",
       "    </tr>\n",
       "  </thead>\n",
       "  <tbody>\n",
       "    <tr>\n",
       "      <th>0</th>\n",
       "      <td>1</td>\n",
       "      <td>a</td>\n",
       "      <td>100</td>\n",
       "      <td>NaN</td>\n",
       "      <td>300.0</td>\n",
       "      <td>20</td>\n",
       "      <td>NaN</td>\n",
       "      <td>50.0</td>\n",
       "    </tr>\n",
       "    <tr>\n",
       "      <th>1</th>\n",
       "      <td>2</td>\n",
       "      <td>b</td>\n",
       "      <td>280</td>\n",
       "      <td>180.0</td>\n",
       "      <td>NaN</td>\n",
       "      <td>40</td>\n",
       "      <td>30.0</td>\n",
       "      <td>NaN</td>\n",
       "    </tr>\n",
       "  </tbody>\n",
       "</table>\n",
       "</div>"
      ],
      "text/plain": [
       "   id name  prem1  prem2  prem3  disc1  disc2  disc3\n",
       "0   1    a    100    NaN  300.0     20    NaN   50.0\n",
       "1   2    b    280  180.0    NaN     40   30.0    NaN"
      ]
     },
     "execution_count": 3,
     "metadata": {},
     "output_type": "execute_result"
    }
   ],
   "source": [
    "df1 = pd.DataFrame({'id': [1,2],\n",
    "                   'name': ['a','b'],\n",
    "                   'prem1' : [100,280],\n",
    "                   'prem2' : [np.NaN,180],\n",
    "                   'prem3' : [300,np.NaN],\n",
    "                   'disc1' : [20,40],\n",
    "                   'disc2' : [np.NaN,30],\n",
    "                   'disc3' : [50,np.NaN],})\n",
    "df1"
   ]
  },
  {
   "cell_type": "code",
   "execution_count": 4,
   "metadata": {},
   "outputs": [
    {
     "data": {
      "text/html": [
       "<div>\n",
       "<style scoped>\n",
       "    .dataframe tbody tr th:only-of-type {\n",
       "        vertical-align: middle;\n",
       "    }\n",
       "\n",
       "    .dataframe tbody tr th {\n",
       "        vertical-align: top;\n",
       "    }\n",
       "\n",
       "    .dataframe thead th {\n",
       "        text-align: right;\n",
       "    }\n",
       "</style>\n",
       "<table border=\"1\" class=\"dataframe\">\n",
       "  <thead>\n",
       "    <tr style=\"text-align: right;\">\n",
       "      <th></th>\n",
       "      <th>disc3</th>\n",
       "      <th>disc2</th>\n",
       "      <th>disc1</th>\n",
       "      <th>prem3</th>\n",
       "      <th>prem2</th>\n",
       "      <th>prem1</th>\n",
       "      <th>name</th>\n",
       "      <th>id</th>\n",
       "    </tr>\n",
       "  </thead>\n",
       "  <tbody>\n",
       "    <tr>\n",
       "      <th>1</th>\n",
       "      <td>NaN</td>\n",
       "      <td>30.0</td>\n",
       "      <td>40</td>\n",
       "      <td>NaN</td>\n",
       "      <td>180.0</td>\n",
       "      <td>280</td>\n",
       "      <td>b</td>\n",
       "      <td>2</td>\n",
       "    </tr>\n",
       "    <tr>\n",
       "      <th>0</th>\n",
       "      <td>50.0</td>\n",
       "      <td>NaN</td>\n",
       "      <td>20</td>\n",
       "      <td>300.0</td>\n",
       "      <td>NaN</td>\n",
       "      <td>100</td>\n",
       "      <td>a</td>\n",
       "      <td>1</td>\n",
       "    </tr>\n",
       "  </tbody>\n",
       "</table>\n",
       "</div>"
      ],
      "text/plain": [
       "   disc3  disc2  disc1  prem3  prem2  prem1 name  id\n",
       "1    NaN   30.0     40    NaN  180.0    280    b   2\n",
       "0   50.0    NaN     20  300.0    NaN    100    a   1"
      ]
     },
     "execution_count": 4,
     "metadata": {},
     "output_type": "execute_result"
    }
   ],
   "source": [
    "df1.iloc[::-1,::-1]"
   ]
  },
  {
   "cell_type": "code",
   "execution_count": 5,
   "metadata": {},
   "outputs": [
    {
     "data": {
      "text/html": [
       "<div>\n",
       "<style scoped>\n",
       "    .dataframe tbody tr th:only-of-type {\n",
       "        vertical-align: middle;\n",
       "    }\n",
       "\n",
       "    .dataframe tbody tr th {\n",
       "        vertical-align: top;\n",
       "    }\n",
       "\n",
       "    .dataframe thead th {\n",
       "        text-align: right;\n",
       "    }\n",
       "</style>\n",
       "<table border=\"1\" class=\"dataframe\">\n",
       "  <thead>\n",
       "    <tr style=\"text-align: right;\">\n",
       "      <th></th>\n",
       "      <th>salesperson</th>\n",
       "      <th>beer_item</th>\n",
       "      <th>wine_item</th>\n",
       "      <th>spirit_item</th>\n",
       "    </tr>\n",
       "  </thead>\n",
       "  <tbody>\n",
       "    <tr>\n",
       "      <th>0</th>\n",
       "      <td>Nico</td>\n",
       "      <td>10.0</td>\n",
       "      <td>10.0</td>\n",
       "      <td>10.0</td>\n",
       "    </tr>\n",
       "    <tr>\n",
       "      <th>1</th>\n",
       "      <td>Carlos</td>\n",
       "      <td>120.0</td>\n",
       "      <td>120.0</td>\n",
       "      <td>120.0</td>\n",
       "    </tr>\n",
       "    <tr>\n",
       "      <th>2</th>\n",
       "      <td>Juan</td>\n",
       "      <td>130.0</td>\n",
       "      <td>130.0</td>\n",
       "      <td>130.0</td>\n",
       "    </tr>\n",
       "    <tr>\n",
       "      <th>3</th>\n",
       "      <td>Nico</td>\n",
       "      <td>200.0</td>\n",
       "      <td>200.0</td>\n",
       "      <td>200.0</td>\n",
       "    </tr>\n",
       "    <tr>\n",
       "      <th>4</th>\n",
       "      <td>Nico</td>\n",
       "      <td>300.0</td>\n",
       "      <td>300.0</td>\n",
       "      <td>300.0</td>\n",
       "    </tr>\n",
       "    <tr>\n",
       "      <th>5</th>\n",
       "      <td>Juan</td>\n",
       "      <td>550.0</td>\n",
       "      <td>550.0</td>\n",
       "      <td>550.0</td>\n",
       "    </tr>\n",
       "    <tr>\n",
       "      <th>6</th>\n",
       "      <td>Maria</td>\n",
       "      <td>12.3</td>\n",
       "      <td>12.3</td>\n",
       "      <td>12.3</td>\n",
       "    </tr>\n",
       "    <tr>\n",
       "      <th>7</th>\n",
       "      <td>Carlos</td>\n",
       "      <td>200.0</td>\n",
       "      <td>200.0</td>\n",
       "      <td>200.0</td>\n",
       "    </tr>\n",
       "  </tbody>\n",
       "</table>\n",
       "</div>"
      ],
      "text/plain": [
       "  salesperson  beer_item  wine_item  spirit_item\n",
       "0        Nico       10.0       10.0         10.0\n",
       "1      Carlos      120.0      120.0        120.0\n",
       "2        Juan      130.0      130.0        130.0\n",
       "3        Nico      200.0      200.0        200.0\n",
       "4        Nico      300.0      300.0        300.0\n",
       "5        Juan      550.0      550.0        550.0\n",
       "6       Maria       12.3       12.3         12.3\n",
       "7      Carlos      200.0      200.0        200.0"
      ]
     },
     "execution_count": 5,
     "metadata": {},
     "output_type": "execute_result"
    },
    {
     "data": {
      "text/html": [
       "<div>\n",
       "<style scoped>\n",
       "    .dataframe tbody tr th:only-of-type {\n",
       "        vertical-align: middle;\n",
       "    }\n",
       "\n",
       "    .dataframe tbody tr th {\n",
       "        vertical-align: top;\n",
       "    }\n",
       "\n",
       "    .dataframe thead th {\n",
       "        text-align: right;\n",
       "    }\n",
       "</style>\n",
       "<table border=\"1\" class=\"dataframe\">\n",
       "  <thead>\n",
       "    <tr style=\"text-align: right;\">\n",
       "      <th></th>\n",
       "      <th>salesperson</th>\n",
       "      <th>wine_item</th>\n",
       "    </tr>\n",
       "  </thead>\n",
       "  <tbody>\n",
       "    <tr>\n",
       "      <th>0</th>\n",
       "      <td>Nico</td>\n",
       "      <td>10.0</td>\n",
       "    </tr>\n",
       "    <tr>\n",
       "      <th>1</th>\n",
       "      <td>Carlos</td>\n",
       "      <td>120.0</td>\n",
       "    </tr>\n",
       "    <tr>\n",
       "      <th>2</th>\n",
       "      <td>Juan</td>\n",
       "      <td>130.0</td>\n",
       "    </tr>\n",
       "    <tr>\n",
       "      <th>3</th>\n",
       "      <td>Nico</td>\n",
       "      <td>200.0</td>\n",
       "    </tr>\n",
       "    <tr>\n",
       "      <th>4</th>\n",
       "      <td>Nico</td>\n",
       "      <td>300.0</td>\n",
       "    </tr>\n",
       "    <tr>\n",
       "      <th>5</th>\n",
       "      <td>Juan</td>\n",
       "      <td>550.0</td>\n",
       "    </tr>\n",
       "    <tr>\n",
       "      <th>6</th>\n",
       "      <td>Maria</td>\n",
       "      <td>12.3</td>\n",
       "    </tr>\n",
       "    <tr>\n",
       "      <th>7</th>\n",
       "      <td>Carlos</td>\n",
       "      <td>200.0</td>\n",
       "    </tr>\n",
       "  </tbody>\n",
       "</table>\n",
       "</div>"
      ],
      "text/plain": [
       "  salesperson  wine_item\n",
       "0        Nico       10.0\n",
       "1      Carlos      120.0\n",
       "2        Juan      130.0\n",
       "3        Nico      200.0\n",
       "4        Nico      300.0\n",
       "5        Juan      550.0\n",
       "6       Maria       12.3\n",
       "7      Carlos      200.0"
      ]
     },
     "execution_count": 5,
     "metadata": {},
     "output_type": "execute_result"
    }
   ],
   "source": [
    "d = {\"salesperson\":[\"Nico\", \"Carlos\", \"Juan\", \"Nico\", \"Nico\", \"Juan\", \"Maria\", \"Carlos\"], \"beer_item\":[10, 120, 130, 200, 300, 550, 12.3, 200],\n",
    "    \"wine_item\":[10, 120, 130, 200, 300, 550, 12.3, 200], \"spirit_item\":[10, 120, 130, 200, 300, 550, 12.3, 200]}\n",
    "df = pd.DataFrame(d)\n",
    "df\n",
    "\n",
    "drink = 'wine'\n",
    "#drink = ['wine','beer']\n",
    "df[[f\"salesperson\",f\"{drink}_item\"]]"
   ]
  },
  {
   "cell_type": "markdown",
   "metadata": {},
   "source": [
    "## Validate EMAIL ID"
   ]
  },
  {
   "cell_type": "markdown",
   "metadata": {},
   "source": [
    "Valid email ID\n",
    "Description\n",
    "Consider that email IDs are supposed to be for the following format:\n",
    "username@website.extension.\n",
    "Here, there are three conditions to keep in mind:\n",
    "1. The username can only contain characters 0-9, a-z and A-Z.\n",
    "2. The website name can contain only characters a-z\n",
    "3. The extension can have 2 or 3 alphabets(a-z).\n",
    "\n",
    "Given an email ID, you have to determine if it is valid or not.\n",
    "\n",
    "Sample Input:\n",
    "prerna@upgrad.com\n",
    "\n",
    "Sample Output:\n",
    "valid"
   ]
  },
  {
   "cell_type": "code",
   "execution_count": 6,
   "metadata": {},
   "outputs": [
    {
     "name": "stdout",
     "output_type": "stream",
     "text": [
      "invalid\n"
     ]
    }
   ],
   "source": [
    "import re\n",
    "\n",
    "def checkmail(email):\n",
    "    #complete the function\n",
    "    #the function should return the strings \"invalid\" or \"valid\" based on the email ID entered\n",
    "    mo = re.search(r'\\A[a-zA-Z0-9]+@[a-z]+\\.[a-z]{2,3}$',email)\n",
    "    if mo == None:\n",
    "        return 'invalid'\n",
    "    else:\n",
    "        return 'valid'\n",
    "\n",
    "\n",
    "\n",
    "email='hi*gail.com'\n",
    "print(checkmail(email))"
   ]
  },
  {
   "cell_type": "markdown",
   "metadata": {},
   "source": [
    "## Flatten a list"
   ]
  },
  {
   "cell_type": "markdown",
   "metadata": {},
   "source": [
    "Flatten a list\n",
    "Description\n",
    "Given a nested list, write python code to flatten the list.\n",
    "Note: The input list will strictly have 2 levels, i.e. the list will be of the form [[1,2],[3,4]]. Inputs like [1,[2,3]] and [[1,[2,3],4],5] are not applicable.\n",
    "\n",
    "For example: If the input list is :\n",
    "[[1,2,3],[4,5],[6,7,8,9]]\n",
    "Then the output should be:\n",
    "[1,2,3,4,5,6,7,8,9]"
   ]
  },
  {
   "cell_type": "code",
   "execution_count": 7,
   "metadata": {},
   "outputs": [
    {
     "data": {
      "text/plain": [
       "[1, 2, 3, 4, 5, 6, 7, 8, 9]"
      ]
     },
     "execution_count": 7,
     "metadata": {},
     "output_type": "execute_result"
    }
   ],
   "source": [
    "lst = [[1,2,3],[4,5],[6,7,8,9]]\n",
    "\n",
    "fl = [y for x in lst for y in x]\n",
    "fl"
   ]
  },
  {
   "cell_type": "markdown",
   "metadata": {},
   "source": [
    "## Calculate squares conditionally"
   ]
  },
  {
   "cell_type": "markdown",
   "metadata": {},
   "source": [
    "\n",
    "Description\n",
    "Given a list of positive integers, you have to find numbers divisible by 3 and replace them with their squares. \n",
    "For example, consider the list below:\n",
    "Input: [1,2,3,4,5,6]\n",
    "The output for the above list would be: [1,2,9,4,5,36]. Because 3 and 6 were divisible by 3, these numbers were replaced with their squares."
   ]
  },
  {
   "cell_type": "code",
   "execution_count": 8,
   "metadata": {},
   "outputs": [
    {
     "data": {
      "text/plain": [
       "[1, 2, 3, 4, 5, 6]"
      ]
     },
     "execution_count": 8,
     "metadata": {},
     "output_type": "execute_result"
    }
   ],
   "source": [
    "lst =  [1,2,3,4,5,6]\n",
    "lst"
   ]
  },
  {
   "cell_type": "code",
   "execution_count": 9,
   "metadata": {},
   "outputs": [
    {
     "data": {
      "text/plain": [
       "[1, 2, 9, 4, 5, 36]"
      ]
     },
     "execution_count": 9,
     "metadata": {},
     "output_type": "execute_result"
    }
   ],
   "source": [
    "sq_lst = [x**2 if x % 3 == 0 else x for x in lst]\n",
    "sq_lst"
   ]
  },
  {
   "cell_type": "markdown",
   "metadata": {},
   "source": [
    "## A weird sum\n",
    "Description\n",
    "\n",
    "    Write a program that computes the value of n+nn+nnn+nnnn with a given digit as the value of n.\n",
    "    For example, if n=9 , then you have to find the value of 9+99+999+9999."
   ]
  },
  {
   "cell_type": "code",
   "execution_count": 10,
   "metadata": {},
   "outputs": [
    {
     "name": "stdout",
     "output_type": "stream",
     "text": [
      "1\n",
      "1\n",
      "11\n",
      "111\n",
      "1111\n",
      "1234\n"
     ]
    }
   ],
   "source": [
    "inp=input()\n",
    "\n",
    "sums = int()\n",
    "for i in range(1,5):\n",
    "    s = ''\n",
    "    for j in range(i):\n",
    "        s += inp\n",
    "    sums += int(s)\n",
    "    print(s)\n",
    "print(sums)"
   ]
  },
  {
   "cell_type": "code",
   "execution_count": 11,
   "metadata": {
    "lines_to_next_cell": 0
   },
   "outputs": [
    {
     "name": "stdout",
     "output_type": "stream",
     "text": [
      "1\n",
      "1234\n"
     ]
    }
   ],
   "source": [
    "n=input()\n",
    "n1 = int( \"%s\" % n)\n",
    "n2 = int( \"%s%s\" % (n,n) )\n",
    "n3 = int( \"%s%s%s\" % (n,n,n) )\n",
    "n4 = int( \"%s%s%s%s\" % (n,n,n,n) )\n",
    "\n",
    "print (n1+n2+n3+n4)"
   ]
  },
  {
   "cell_type": "code",
   "execution_count": null,
   "metadata": {
    "lines_to_next_cell": 2
   },
   "outputs": [],
   "source": []
  },
  {
   "cell_type": "markdown",
   "metadata": {},
   "source": [
    "## Frequent Letters\n",
    "\n",
    "Description\n",
    "\n",
    "    Given a string, you have to find the first n most frequent characters in it.\n",
    "\n",
    "    You have to print these n letters in alphabetically sorted order.\n",
    "\n",
    "    The input will contain two lines, the first line will contain a string and the second line will contain the letter n.\n",
    "\n",
    "    The output should be a list of n most frequent letters in alphabetically sorted order.\n",
    "\n",
    "    Note: If there are two letters with the same frequency, then the alphabetically preceding alphabet should be picked first. (For example, in \"aabbccc\", if n=2, then output list would have c and a.)\n",
    "\n",
    "    Sample Input:\n",
    "\n",
    "    ddddaacccb\n",
    "\n",
    "    3\n",
    "\n",
    "    Sample Output:\n",
    "\n",
    "    ['a', 'c', 'd']"
   ]
  },
  {
   "cell_type": "code",
   "execution_count": 12,
   "metadata": {},
   "outputs": [
    {
     "name": "stdout",
     "output_type": "stream",
     "text": [
      "1\n",
      "1\n"
     ]
    },
    {
     "data": {
      "text/plain": [
       "{1: '1'}"
      ]
     },
     "execution_count": 12,
     "metadata": {},
     "output_type": "execute_result"
    },
    {
     "name": "stdout",
     "output_type": "stream",
     "text": [
      "['1']\n"
     ]
    }
   ],
   "source": [
    "string=input()\n",
    "n=int(input())\n",
    "#write your code here\n",
    "\n",
    "#''.join(sorted(test_str))\n",
    "uniq_char = sorted(list(set(string)), reverse=True)\n",
    "#uniq_char\n",
    "#type(uniq_char)\n",
    "\n",
    "d = {}\n",
    "#type(d)\n",
    "\n",
    "for c in uniq_char:\n",
    "    counter = string.count(c)\n",
    "    #c\n",
    "    #counter\n",
    "    d[counter] = c\n",
    "#d\n",
    "\n",
    "sorted_dict = {r: d[r] for r in sorted(d, reverse=False)}\n",
    "sorted_dict\n",
    "\n",
    "ls = list(sorted_dict.values())\n",
    "print(ls[-n:])"
   ]
  },
  {
   "cell_type": "code",
   "execution_count": 13,
   "metadata": {},
   "outputs": [
    {
     "name": "stdout",
     "output_type": "stream",
     "text": [
      "1\n",
      "1\n",
      "['1']\n"
     ]
    }
   ],
   "source": [
    "string=input()\n",
    "n=int(input())\n",
    "import collections\n",
    "out=[collections.Counter(string).most_common(i+1)[i][0] for i in range(n)]\n",
    "out.sort()\n",
    "print(out)"
   ]
  },
  {
   "cell_type": "markdown",
   "metadata": {},
   "source": [
    "## 2D array\n",
    "Description\n",
    "    \n",
    "    Write Python code which takes 2 numbers x and y as input and generates a 2-dimensional numpy array where value in the i-th row and j-th column of the array should be (i+j)/2.\n",
    "\n",
    "    Note: i=0,1,...x-1 and j=0,1....,y-1\n",
    "        The input will have two lines with x and y respectively.\n",
    "        The output should be a 2D numpy array.\n",
    "\n",
    "Sample Input:\n",
    "\n",
    "3\n",
    "\n",
    "4\n",
    "\n",
    "Sample Output:\n",
    "\n",
    "[[0.  0.5 1.  1.5]\n",
    " [0.5 1.  1.5 2. ]\n",
    " [1.  1.5 2.  2.5]]"
   ]
  },
  {
   "cell_type": "code",
   "execution_count": 14,
   "metadata": {},
   "outputs": [
    {
     "data": {
      "text/plain": [
       "array([[1., 1., 1., 1.],\n",
       "       [1., 1., 1., 1.],\n",
       "       [1., 1., 1., 1.]])"
      ]
     },
     "execution_count": 14,
     "metadata": {},
     "output_type": "execute_result"
    }
   ],
   "source": [
    "x=3\n",
    "y=4\n",
    "arr = np.ones([x,y])\n",
    "arr"
   ]
  },
  {
   "cell_type": "code",
   "execution_count": 15,
   "metadata": {},
   "outputs": [
    {
     "data": {
      "text/plain": [
       "array([[1., 1., 1., 1.],\n",
       "       [1., 1., 1., 1.],\n",
       "       [1., 1., 1., 1.]])"
      ]
     },
     "execution_count": 15,
     "metadata": {},
     "output_type": "execute_result"
    }
   ],
   "source": [
    "arr1 = np.empty([x,y])\n",
    "arr1"
   ]
  },
  {
   "cell_type": "code",
   "execution_count": 16,
   "metadata": {},
   "outputs": [
    {
     "data": {
      "text/plain": [
       "array([[0. , 0.5, 1. , 1.5],\n",
       "       [0.5, 1. , 1.5, 2. ],\n",
       "       [1. , 1.5, 2. , 2.5]])"
      ]
     },
     "execution_count": 16,
     "metadata": {},
     "output_type": "execute_result"
    }
   ],
   "source": [
    "for i in range(x):\n",
    "    for j in range(y):\n",
    "        arr[i,j] = (i+j)/2\n",
    "arr"
   ]
  },
  {
   "cell_type": "code",
   "execution_count": 17,
   "metadata": {},
   "outputs": [
    {
     "name": "stdout",
     "output_type": "stream",
     "text": [
      "1\n",
      "1\n",
      "[[0.]]\n"
     ]
    }
   ],
   "source": [
    "x=int(input())\n",
    "y=int(input())\n",
    "from numpy import zeros\n",
    "a = zeros([x,y])\n",
    "for row in range(x):\n",
    "    for col in range(y):\n",
    "        a[row][col]= (row+col)/2\n",
    "print(a)"
   ]
  },
  {
   "cell_type": "code",
   "execution_count": null,
   "metadata": {},
   "outputs": [],
   "source": []
  }
 ],
 "metadata": {
  "jupytext": {
   "formats": "ipynb,py"
  },
  "kernelspec": {
   "display_name": "Python 3",
   "language": "python",
   "name": "python3"
  },
  "language_info": {
   "codemirror_mode": {
    "name": "ipython",
    "version": 3
   },
   "file_extension": ".py",
   "mimetype": "text/x-python",
   "name": "python",
   "nbconvert_exporter": "python",
   "pygments_lexer": "ipython3",
   "version": "3.8.5"
  }
 },
 "nbformat": 4,
 "nbformat_minor": 2
}
