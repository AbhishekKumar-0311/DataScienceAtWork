{
 "cells": [
  {
   "cell_type": "markdown",
   "metadata": {},
   "source": [
    "### Prepared by Abhishek Kumar\n",
    "### https://www.linkedin.com/in/abhishekkumar-0311/\n"
   ]
  },
  {
   "cell_type": "code",
   "execution_count": 1,
   "metadata": {},
   "outputs": [],
   "source": [
    "import pandas as pd\n",
    "import numpy as np\n",
    "import matplotlib.pyplot as plt"
   ]
  },
  {
   "cell_type": "code",
   "execution_count": 2,
   "metadata": {},
   "outputs": [],
   "source": [
    "# To get multiple outputs in the same cell\n",
    "\n",
    "from IPython.core.interactiveshell import InteractiveShell\n",
    "InteractiveShell.ast_node_interactivity = \"all\"\n",
    "\n",
    "%matplotlib inline"
   ]
  },
  {
   "cell_type": "code",
   "execution_count": 3,
   "metadata": {},
   "outputs": [
    {
     "data": {
      "text/html": [
       "<div>\n",
       "<style scoped>\n",
       "    .dataframe tbody tr th:only-of-type {\n",
       "        vertical-align: middle;\n",
       "    }\n",
       "\n",
       "    .dataframe tbody tr th {\n",
       "        vertical-align: top;\n",
       "    }\n",
       "\n",
       "    .dataframe thead th {\n",
       "        text-align: right;\n",
       "    }\n",
       "</style>\n",
       "<table border=\"1\" class=\"dataframe\">\n",
       "  <thead>\n",
       "    <tr style=\"text-align: right;\">\n",
       "      <th></th>\n",
       "      <th>Emp_Id</th>\n",
       "      <th>Emp_Name</th>\n",
       "      <th>Department</th>\n",
       "      <th>Role</th>\n",
       "      <th>Gender</th>\n",
       "      <th>WFH Status</th>\n",
       "      <th>DOB</th>\n",
       "      <th>Salary</th>\n",
       "    </tr>\n",
       "  </thead>\n",
       "  <tbody>\n",
       "    <tr>\n",
       "      <th>0</th>\n",
       "      <td>1</td>\n",
       "      <td>Abhishek Kumar</td>\n",
       "      <td>AIML</td>\n",
       "      <td>Machine Learning Engineer</td>\n",
       "      <td>M</td>\n",
       "      <td>Y</td>\n",
       "      <td>04051990</td>\n",
       "      <td>1121000.0</td>\n",
       "    </tr>\n",
       "    <tr>\n",
       "      <th>1</th>\n",
       "      <td>2</td>\n",
       "      <td>Arjun Kumar</td>\n",
       "      <td>DM</td>\n",
       "      <td>Tech Lead</td>\n",
       "      <td>M</td>\n",
       "      <td>Y</td>\n",
       "      <td>09031992</td>\n",
       "      <td>109000.0</td>\n",
       "    </tr>\n",
       "    <tr>\n",
       "      <th>2</th>\n",
       "      <td>3</td>\n",
       "      <td>Vivek Raj</td>\n",
       "      <td>DM</td>\n",
       "      <td>Devops Engineer</td>\n",
       "      <td>M</td>\n",
       "      <td>N</td>\n",
       "      <td>NaN</td>\n",
       "      <td>827000.0</td>\n",
       "    </tr>\n",
       "    <tr>\n",
       "      <th>3</th>\n",
       "      <td>4</td>\n",
       "      <td>Mika Singh</td>\n",
       "      <td>DM</td>\n",
       "      <td>Data Analyst</td>\n",
       "      <td>F</td>\n",
       "      <td>Y</td>\n",
       "      <td>15101991</td>\n",
       "      <td>NaN</td>\n",
       "    </tr>\n",
       "    <tr>\n",
       "      <th>4</th>\n",
       "      <td>5</td>\n",
       "      <td>Anusha Yenduri</td>\n",
       "      <td>AIML</td>\n",
       "      <td>Data Scientist</td>\n",
       "      <td>F</td>\n",
       "      <td>Y</td>\n",
       "      <td>01011989</td>\n",
       "      <td>921000.0</td>\n",
       "    </tr>\n",
       "    <tr>\n",
       "      <th>5</th>\n",
       "      <td>6</td>\n",
       "      <td>Ritesh Srivastava</td>\n",
       "      <td>AIML</td>\n",
       "      <td>Data Engineer</td>\n",
       "      <td>M</td>\n",
       "      <td>Y</td>\n",
       "      <td>NaN</td>\n",
       "      <td>785000.0</td>\n",
       "    </tr>\n",
       "  </tbody>\n",
       "</table>\n",
       "</div>"
      ],
      "text/plain": [
       "  Emp_Id           Emp_Name Department                       Role Gender  \\\n",
       "0      1     Abhishek Kumar       AIML  Machine Learning Engineer      M   \n",
       "1      2        Arjun Kumar         DM                  Tech Lead      M   \n",
       "2      3          Vivek Raj         DM            Devops Engineer      M   \n",
       "3      4         Mika Singh         DM               Data Analyst      F   \n",
       "4      5     Anusha Yenduri       AIML             Data Scientist      F   \n",
       "5      6  Ritesh Srivastava       AIML              Data Engineer      M   \n",
       "\n",
       "  WFH Status       DOB     Salary  \n",
       "0          Y  04051990  1121000.0  \n",
       "1          Y  09031992   109000.0  \n",
       "2          N       NaN   827000.0  \n",
       "3          Y  15101991        NaN  \n",
       "4          Y  01011989   921000.0  \n",
       "5          Y       NaN   785000.0  "
      ]
     },
     "execution_count": 3,
     "metadata": {},
     "output_type": "execute_result"
    }
   ],
   "source": [
    "# Setup : DataFrame creation\n",
    "\n",
    "salary = [['1','Abhishek Kumar','AIML', 'Machine Learning Engineer','M', 'Y', '04051990', 1121000],\n",
    "          ['2','Arjun Kumar','DM', 'Tech Lead','M', 'Y', '09031992', 109000],\n",
    "          ['3','Vivek Raj','DM', 'Devops Engineer','M', 'N', np.NaN , 827000],\n",
    "          ['4','Mika Singh','DM', 'Data Analyst','F', 'Y', '15101991',  np.NaN],\n",
    "          ['5','Anusha Yenduri','AIML', 'Data Scientist','F', 'Y', '01011989',  921000],\n",
    "          ['6','Ritesh Srivastava','AIML', 'Data Engineer','M', 'Y', np.NaN, 785000]]\n",
    "\n",
    "columns_name=['Emp_Id','Emp_Name','Department','Role','Gender', 'WFH Status', 'DOB', 'Salary']\n",
    "\n",
    "emp_df = pd.DataFrame(salary,columns=columns_name)\n",
    "emp_df"
   ]
  },
  {
   "cell_type": "code",
   "execution_count": 4,
   "metadata": {},
   "outputs": [
    {
     "data": {
      "text/html": [
       "<div>\n",
       "<style scoped>\n",
       "    .dataframe tbody tr th:only-of-type {\n",
       "        vertical-align: middle;\n",
       "    }\n",
       "\n",
       "    .dataframe tbody tr th {\n",
       "        vertical-align: top;\n",
       "    }\n",
       "\n",
       "    .dataframe thead th {\n",
       "        text-align: right;\n",
       "    }\n",
       "</style>\n",
       "<table border=\"1\" class=\"dataframe\">\n",
       "  <thead>\n",
       "    <tr style=\"text-align: right;\">\n",
       "      <th></th>\n",
       "      <th>col_a</th>\n",
       "      <th>col_b</th>\n",
       "      <th>col_c</th>\n",
       "      <th>col_d</th>\n",
       "    </tr>\n",
       "  </thead>\n",
       "  <tbody>\n",
       "    <tr>\n",
       "      <th>0</th>\n",
       "      <td>Houston,TX</td>\n",
       "      <td>62K-70K</td>\n",
       "      <td>A</td>\n",
       "      <td>1x</td>\n",
       "    </tr>\n",
       "    <tr>\n",
       "      <th>1</th>\n",
       "      <td>Dallas,TX</td>\n",
       "      <td>62K-70K</td>\n",
       "      <td>B</td>\n",
       "      <td>1y</td>\n",
       "    </tr>\n",
       "    <tr>\n",
       "      <th>2</th>\n",
       "      <td>Chicago,IL</td>\n",
       "      <td>69K-76K</td>\n",
       "      <td>A</td>\n",
       "      <td>2x</td>\n",
       "    </tr>\n",
       "    <tr>\n",
       "      <th>3</th>\n",
       "      <td>Phoenix,AZ</td>\n",
       "      <td>62K-72K</td>\n",
       "      <td>a</td>\n",
       "      <td>1x</td>\n",
       "    </tr>\n",
       "    <tr>\n",
       "      <th>4</th>\n",
       "      <td>San Diego,CA</td>\n",
       "      <td>71K-78K</td>\n",
       "      <td>c</td>\n",
       "      <td>1y</td>\n",
       "    </tr>\n",
       "  </tbody>\n",
       "</table>\n",
       "</div>"
      ],
      "text/plain": [
       "          col_a    col_b col_c col_d\n",
       "0    Houston,TX  62K-70K     A    1x\n",
       "1     Dallas,TX  62K-70K     B    1y\n",
       "2    Chicago,IL  69K-76K     A  2x  \n",
       "3    Phoenix,AZ  62K-72K     a    1x\n",
       "4  San Diego,CA  71K-78K     c  1y  "
      ]
     },
     "execution_count": 4,
     "metadata": {},
     "output_type": "execute_result"
    }
   ],
   "source": [
    "import numpy as np\n",
    "import pandas as pd\n",
    "sample = {\n",
    "'col_a':['Houston,TX', 'Dallas,TX', 'Chicago,IL', 'Phoenix,AZ',      'San Diego,CA'],\n",
    "'col_b':['62K-70K', '62K-70K', '69K-76K', '62K-72K', '71K-78K' ],\n",
    "'col_c':['A','B','A','a','c'],\n",
    "'col_d':['  1x', ' 1y', '2x  ', '1x', '1y  ']\n",
    "}\n",
    "df_sample = pd.DataFrame(sample)\n",
    "df_sample"
   ]
  },
  {
   "cell_type": "markdown",
   "metadata": {},
   "source": [
    "### WarmUp"
   ]
  },
  {
   "cell_type": "code",
   "execution_count": 5,
   "metadata": {},
   "outputs": [
    {
     "data": {
      "text/plain": [
       "Timestamp('2012-04-12 00:00:00')"
      ]
     },
     "execution_count": 5,
     "metadata": {},
     "output_type": "execute_result"
    }
   ],
   "source": [
    "date = pd.to_datetime('12Apr2012')\n",
    "date\n",
    "type(date)"
   ]
  },
  {
   "cell_type": "code",
   "execution_count": 7,
   "metadata": {},
   "outputs": [
    {
     "data": {
      "text/plain": [
       "Timedelta('0 days 00:00:00.000000002')"
      ]
     },
     "execution_count": 7,
     "metadata": {},
     "output_type": "execute_result"
    }
   ],
   "source": [
    "date = pd.to_timedelta(2)\n",
    "date"
   ]
  },
  {
   "cell_type": "code",
   "execution_count": 9,
   "metadata": {},
   "outputs": [
    {
     "data": {
      "text/plain": [
       "datetime.datetime(2021, 5, 25, 22, 37, 9, 643423)"
      ]
     },
     "execution_count": 9,
     "metadata": {},
     "output_type": "execute_result"
    }
   ],
   "source": [
    "import datetime as dt\n",
    "dtobj = dt.datetime.now()\n",
    "dtobj"
   ]
  },
  {
   "cell_type": "code",
   "execution_count": 10,
   "metadata": {},
   "outputs": [
    {
     "data": {
      "text/plain": [
       "datetime.datetime(2021, 5, 25, 22, 37, 9, 657392)"
      ]
     },
     "execution_count": 10,
     "metadata": {},
     "output_type": "execute_result"
    }
   ],
   "source": []
  },
  {
   "cell_type": "code",
   "execution_count": 11,
   "metadata": {},
   "outputs": [
    {
     "data": {
      "text/plain": [
       "25"
      ]
     },
     "execution_count": 11,
     "metadata": {},
     "output_type": "execute_result"
    }
   ],
   "source": [
    "dtobj.year\n",
    "dtobj.day\n",
    "dtobj.month\n",
    "dtobj.hour\n",
    "dtobj.minute\n",
    "dtobj.second"
   ]
  },
  {
   "cell_type": "markdown",
   "metadata": {},
   "source": [
    "# 0. Blogs\n",
    "\n",
    "- https://towardsdatascience.com/working-with-datetime-in-pandas-dataframe-663f7af6c587\n",
    "- https://www.analyticsvidhya.com/blog/2020/05/datetime-variables-python-pandas/\n",
    "- https://towardsdatascience.com/mastering-dates-and-timestamps-in-pandas-and-python-in-general-5b8c6edcc50c"
   ]
  },
  {
   "cell_type": "markdown",
   "metadata": {},
   "source": [
    "# 1. Reading / Converting to Timestamps"
   ]
  },
  {
   "cell_type": "code",
   "execution_count": 17,
   "metadata": {},
   "outputs": [
    {
     "data": {
      "text/plain": [
       "0   2015-02-04\n",
       "1   2016-03-05\n",
       "dtype: datetime64[ns]"
      ]
     },
     "execution_count": 17,
     "metadata": {},
     "output_type": "execute_result"
    }
   ],
   "source": [
    "df = pd.DataFrame({\"month\": [2, 3], \"day\": [4, 5], \"hour\": [2, 3],\"year\": [2015, 2016]})\n",
    "pd.to_datetime(df[[\"day\", \"month\", \"year\"]])"
   ]
  },
  {
   "cell_type": "code",
   "execution_count": null,
   "metadata": {},
   "outputs": [],
   "source": []
  },
  {
   "cell_type": "markdown",
   "metadata": {},
   "source": [
    "# 2. Generating Date Ranges : ```pd.date_range``` , ```pd.bdate_range```\n",
    "\n",
    "- https://pandas.pydata.org/pandas-docs/stable/reference/api/pandas.date_range.html#pandas.date_range\n",
    "\n",
    "- ```pandas.date_range(start=None, end=None, periods=None, freq=None, tz=None, normalize=False, name=None, closed=None, **kwargs)```[source]\n",
    "\n",
    "- Parameters :\n",
    "    - freq : possible values are **Y, M, D, W, Q, H, T for minutes, S**. Find more at \n",
    "    https://pandas.pydata.org/pandas-docs/stable/user_guide/timeseries.html#timeseries-offset-aliases"
   ]
  },
  {
   "cell_type": "markdown",
   "metadata": {},
   "source": [
    "To make the creation of date sequences a convenient task, Pandas provides the date_range() method. It accepts a start date, an end date, and an optional frequency code:\n",
    "\n",
    "If we need timestamps on a regular frequency, we can use the ```date_range()``` and ```bdate_range()``` functions to create a DatetimeIndex. The default frequency for ```date_range``` is a ```calendar day``` while the default for ```bdate_range``` is a ```business day```:\n",
    "\n",
    "```date_range``` and ```bdate_range``` make it easy to generate a range of dates using various combinations of parameters like ```start```, ```end```, ```periods```, and ```freq```. The **start and end dates are strictly inclusive**, so dates outside of those specified will not be generated:"
   ]
  },
  {
   "cell_type": "code",
   "execution_count": 18,
   "metadata": {},
   "outputs": [
    {
     "data": {
      "text/plain": [
       "DatetimeIndex(['2020-04-24', '2020-04-25', '2020-04-26', '2020-04-27',\n",
       "               '2020-04-28', '2020-04-29', '2020-04-30', '2020-05-01',\n",
       "               '2020-05-02', '2020-05-03', '2020-05-04', '2020-05-05',\n",
       "               '2020-05-06', '2020-05-07', '2020-05-08', '2020-05-09',\n",
       "               '2020-05-10', '2020-05-11', '2020-05-12', '2020-05-13',\n",
       "               '2020-05-14', '2020-05-15', '2020-05-16', '2020-05-17',\n",
       "               '2020-05-18', '2020-05-19', '2020-05-20', '2020-05-21',\n",
       "               '2020-05-22', '2020-05-23', '2020-05-24'],\n",
       "              dtype='datetime64[ns]', freq='D')"
      ]
     },
     "execution_count": 18,
     "metadata": {},
     "output_type": "execute_result"
    }
   ],
   "source": [
    "pd.date_range(start='24/4/2020', end='24/5/2020', freq='D')"
   ]
  },
  {
   "cell_type": "code",
   "execution_count": 19,
   "metadata": {},
   "outputs": [
    {
     "data": {
      "text/plain": [
       "DatetimeIndex(['2020-04-30', '2020-05-31', '2020-06-30', '2020-07-31',\n",
       "               '2020-08-31', '2020-09-30', '2020-10-31', '2020-11-30',\n",
       "               '2020-12-31', '2021-01-31', '2021-02-28', '2021-03-31',\n",
       "               '2021-04-30'],\n",
       "              dtype='datetime64[ns]', freq='M')"
      ]
     },
     "execution_count": 19,
     "metadata": {},
     "output_type": "execute_result"
    }
   ],
   "source": [
    "pd.date_range(start='24/4/2020', end='24/5/2021', freq='M')"
   ]
  },
  {
   "cell_type": "code",
   "execution_count": 20,
   "metadata": {},
   "outputs": [
    {
     "data": {
      "text/plain": [
       "DatetimeIndex(['2020-12-31', '2021-12-31', '2022-12-31', '2023-12-31',\n",
       "               '2024-12-31'],\n",
       "              dtype='datetime64[ns]', freq='A-DEC')"
      ]
     },
     "execution_count": 20,
     "metadata": {},
     "output_type": "execute_result"
    }
   ],
   "source": [
    "pd.date_range(start='24/4/2020', end='24/5/2025', freq='Y')"
   ]
  },
  {
   "cell_type": "code",
   "execution_count": 21,
   "metadata": {},
   "outputs": [
    {
     "data": {
      "text/plain": [
       "datetime.date(2021, 5, 25)"
      ]
     },
     "execution_count": 21,
     "metadata": {},
     "output_type": "execute_result"
    },
    {
     "data": {
      "text/plain": [
       "datetime.date(2021, 5, 25)"
      ]
     },
     "execution_count": 21,
     "metadata": {},
     "output_type": "execute_result"
    },
    {
     "data": {
      "text/plain": [
       "DatetimeIndex(['2021-05-25', '2021-05-26', '2021-05-27', '2021-05-28',\n",
       "               '2021-05-29', '2021-05-30', '2021-05-31', '2021-06-01',\n",
       "               '2021-06-02', '2021-06-03'],\n",
       "              dtype='datetime64[ns]', freq='D')"
      ]
     },
     "execution_count": 21,
     "metadata": {},
     "output_type": "execute_result"
    }
   ],
   "source": [
    "start_date = pd.to_datetime('today').date()\n",
    "start_date\n",
    "start_date = dt.datetime.now().date()\n",
    "start_date\n",
    "dates_end = pd.date_range(start=start_date, periods=10, freq='D')\n",
    "dates_end"
   ]
  },
  {
   "cell_type": "code",
   "execution_count": null,
   "metadata": {},
   "outputs": [],
   "source": []
  },
  {
   "cell_type": "markdown",
   "metadata": {},
   "source": [
    "### Creating a dataframe using date_range"
   ]
  },
  {
   "cell_type": "code",
   "execution_count": 22,
   "metadata": {},
   "outputs": [
    {
     "data": {
      "text/plain": [
       "datetime.date(2021, 5, 25)"
      ]
     },
     "execution_count": 22,
     "metadata": {},
     "output_type": "execute_result"
    },
    {
     "data": {
      "text/plain": [
       "DatetimeIndex(['2021-12-31', '2022-12-31', '2023-12-31', '2024-12-31',\n",
       "               '2025-12-31', '2026-12-31', '2027-12-31', '2028-12-31',\n",
       "               '2029-12-31', '2030-12-31'],\n",
       "              dtype='datetime64[ns]', freq='A-DEC')"
      ]
     },
     "execution_count": 22,
     "metadata": {},
     "output_type": "execute_result"
    }
   ],
   "source": [
    "start_date = pd.to_datetime('today').date()\n",
    "start_date\n",
    "dates_end = pd.date_range(start=start_date, periods=10, freq='Y')\n",
    "dates_end"
   ]
  },
  {
   "cell_type": "code",
   "execution_count": 23,
   "metadata": {},
   "outputs": [
    {
     "data": {
      "text/html": [
       "<div>\n",
       "<style scoped>\n",
       "    .dataframe tbody tr th:only-of-type {\n",
       "        vertical-align: middle;\n",
       "    }\n",
       "\n",
       "    .dataframe tbody tr th {\n",
       "        vertical-align: top;\n",
       "    }\n",
       "\n",
       "    .dataframe thead th {\n",
       "        text-align: right;\n",
       "    }\n",
       "</style>\n",
       "<table border=\"1\" class=\"dataframe\">\n",
       "  <thead>\n",
       "    <tr style=\"text-align: right;\">\n",
       "      <th></th>\n",
       "      <th>YearEndDates</th>\n",
       "    </tr>\n",
       "  </thead>\n",
       "  <tbody>\n",
       "    <tr>\n",
       "      <th>0</th>\n",
       "      <td>2021-12-31</td>\n",
       "    </tr>\n",
       "    <tr>\n",
       "      <th>1</th>\n",
       "      <td>2022-12-31</td>\n",
       "    </tr>\n",
       "    <tr>\n",
       "      <th>2</th>\n",
       "      <td>2023-12-31</td>\n",
       "    </tr>\n",
       "    <tr>\n",
       "      <th>3</th>\n",
       "      <td>2024-12-31</td>\n",
       "    </tr>\n",
       "    <tr>\n",
       "      <th>4</th>\n",
       "      <td>2025-12-31</td>\n",
       "    </tr>\n",
       "    <tr>\n",
       "      <th>5</th>\n",
       "      <td>2026-12-31</td>\n",
       "    </tr>\n",
       "    <tr>\n",
       "      <th>6</th>\n",
       "      <td>2027-12-31</td>\n",
       "    </tr>\n",
       "    <tr>\n",
       "      <th>7</th>\n",
       "      <td>2028-12-31</td>\n",
       "    </tr>\n",
       "    <tr>\n",
       "      <th>8</th>\n",
       "      <td>2029-12-31</td>\n",
       "    </tr>\n",
       "    <tr>\n",
       "      <th>9</th>\n",
       "      <td>2030-12-31</td>\n",
       "    </tr>\n",
       "  </tbody>\n",
       "</table>\n",
       "</div>"
      ],
      "text/plain": [
       "  YearEndDates\n",
       "0   2021-12-31\n",
       "1   2022-12-31\n",
       "2   2023-12-31\n",
       "3   2024-12-31\n",
       "4   2025-12-31\n",
       "5   2026-12-31\n",
       "6   2027-12-31\n",
       "7   2028-12-31\n",
       "8   2029-12-31\n",
       "9   2030-12-31"
      ]
     },
     "execution_count": 23,
     "metadata": {},
     "output_type": "execute_result"
    }
   ],
   "source": [
    "pd.DataFrame(dates_end, columns = ['YearEndDates'])"
   ]
  },
  {
   "cell_type": "code",
   "execution_count": 24,
   "metadata": {},
   "outputs": [
    {
     "data": {
      "text/plain": [
       "datetime.date(2021, 5, 25)"
      ]
     },
     "execution_count": 24,
     "metadata": {},
     "output_type": "execute_result"
    },
    {
     "data": {
      "text/plain": [
       "DatetimeIndex(['2011-12-31', '2012-12-31', '2013-12-31', '2014-12-31',\n",
       "               '2015-12-31', '2016-12-31', '2017-12-31', '2018-12-31',\n",
       "               '2019-12-31', '2020-12-31'],\n",
       "              dtype='datetime64[ns]', freq='A-DEC')"
      ]
     },
     "execution_count": 24,
     "metadata": {},
     "output_type": "execute_result"
    },
    {
     "data": {
      "text/html": [
       "<div>\n",
       "<style scoped>\n",
       "    .dataframe tbody tr th:only-of-type {\n",
       "        vertical-align: middle;\n",
       "    }\n",
       "\n",
       "    .dataframe tbody tr th {\n",
       "        vertical-align: top;\n",
       "    }\n",
       "\n",
       "    .dataframe thead th {\n",
       "        text-align: right;\n",
       "    }\n",
       "</style>\n",
       "<table border=\"1\" class=\"dataframe\">\n",
       "  <thead>\n",
       "    <tr style=\"text-align: right;\">\n",
       "      <th></th>\n",
       "      <th>YearEndDates</th>\n",
       "    </tr>\n",
       "  </thead>\n",
       "  <tbody>\n",
       "    <tr>\n",
       "      <th>0</th>\n",
       "      <td>2011-12-31</td>\n",
       "    </tr>\n",
       "    <tr>\n",
       "      <th>1</th>\n",
       "      <td>2012-12-31</td>\n",
       "    </tr>\n",
       "    <tr>\n",
       "      <th>2</th>\n",
       "      <td>2013-12-31</td>\n",
       "    </tr>\n",
       "    <tr>\n",
       "      <th>3</th>\n",
       "      <td>2014-12-31</td>\n",
       "    </tr>\n",
       "    <tr>\n",
       "      <th>4</th>\n",
       "      <td>2015-12-31</td>\n",
       "    </tr>\n",
       "    <tr>\n",
       "      <th>5</th>\n",
       "      <td>2016-12-31</td>\n",
       "    </tr>\n",
       "    <tr>\n",
       "      <th>6</th>\n",
       "      <td>2017-12-31</td>\n",
       "    </tr>\n",
       "    <tr>\n",
       "      <th>7</th>\n",
       "      <td>2018-12-31</td>\n",
       "    </tr>\n",
       "    <tr>\n",
       "      <th>8</th>\n",
       "      <td>2019-12-31</td>\n",
       "    </tr>\n",
       "    <tr>\n",
       "      <th>9</th>\n",
       "      <td>2020-12-31</td>\n",
       "    </tr>\n",
       "  </tbody>\n",
       "</table>\n",
       "</div>"
      ],
      "text/plain": [
       "  YearEndDates\n",
       "0   2011-12-31\n",
       "1   2012-12-31\n",
       "2   2013-12-31\n",
       "3   2014-12-31\n",
       "4   2015-12-31\n",
       "5   2016-12-31\n",
       "6   2017-12-31\n",
       "7   2018-12-31\n",
       "8   2019-12-31\n",
       "9   2020-12-31"
      ]
     },
     "execution_count": 24,
     "metadata": {},
     "output_type": "execute_result"
    }
   ],
   "source": [
    "start_date = pd.to_datetime('today').date()\n",
    "start_date\n",
    "dates_end = pd.date_range(end=start_date, periods=10, freq='Y')\n",
    "dates_end\n",
    "pd.DataFrame(dates_end, columns = ['YearEndDates'])"
   ]
  },
  {
   "cell_type": "markdown",
   "metadata": {},
   "source": [
    "# 3. Indexing"
   ]
  },
  {
   "cell_type": "code",
   "execution_count": null,
   "metadata": {},
   "outputs": [],
   "source": []
  },
  {
   "cell_type": "markdown",
   "metadata": {},
   "source": [
    "# 4. Date/Time components"
   ]
  },
  {
   "cell_type": "markdown",
   "metadata": {},
   "source": [
    "|Property| Description|\n",
    "|:-|:-|\n",
    "|year|The year of the datetime|\n",
    "|month|The month of the datetime|\n",
    "|day|The days of the datetime|\n",
    "|hour|The hour of the datetime|\n",
    "|minute|The minutes of the datetime|\n",
    "|second|The seconds of the datetime|\n",
    "|microsecond|The microseconds of the datetime|\n",
    "|nanosecond|The nanoseconds of the datetime|\n",
    "|date|Returns datetime.date (does not contain timezone information)|\n",
    "|time|Returns datetime.time (does not contain timezone information)|\n",
    "|timetz|Returns datetime.time as local time with timezone information|\n",
    "|dayofyear|The ordinal day of year|\n",
    "|day_of_year|The ordinal day of year|\n",
    "|weekofyear|The week ordinal of the year|\n",
    "|week|The week ordinal of the year|\n",
    "|dayofweek|The number of the day of the week with Monday=0, Sunday=6|\n",
    "|day_of_week|The number of the day of the week with Monday=0, Sunday=6|\n",
    "|weekday|The number of the day of the week with Monday=0, Sunday=6|\n",
    "|quarter|Quarter of the date: Jan-Mar = 1, Apr-Jun = 2, etc.|\n",
    "|days_in_month|The number of days in the month of the datetime|\n",
    "|is_month_start|Logical indicating if first day of month (defined by frequency)|\n",
    "|is_month_end|Logical indicating if last day of month (defined by frequency)|\n",
    "|is_quarter_start|Logical indicating if first day of quarter (defined by frequency)|\n",
    "|is_quarter_end|Logical indicating if last day of quarter (defined by frequency)|\n",
    "|is_year_start|Logical indicating if first day of year (defined by frequency)|\n",
    "|is_year_end|Logical indicating if last day of year (defined by frequency)|\n",
    "|is_leap_year|Logical indicating if the date belongs to a leap year|"
   ]
  },
  {
   "cell_type": "markdown",
   "metadata": {},
   "source": [
    "## Data Preparation"
   ]
  },
  {
   "cell_type": "code",
   "execution_count": 25,
   "metadata": {},
   "outputs": [
    {
     "data": {
      "text/html": [
       "<div>\n",
       "<style scoped>\n",
       "    .dataframe tbody tr th:only-of-type {\n",
       "        vertical-align: middle;\n",
       "    }\n",
       "\n",
       "    .dataframe tbody tr th {\n",
       "        vertical-align: top;\n",
       "    }\n",
       "\n",
       "    .dataframe thead th {\n",
       "        text-align: right;\n",
       "    }\n",
       "</style>\n",
       "<table border=\"1\" class=\"dataframe\">\n",
       "  <thead>\n",
       "    <tr style=\"text-align: right;\">\n",
       "      <th></th>\n",
       "      <th>date</th>\n",
       "    </tr>\n",
       "  </thead>\n",
       "  <tbody>\n",
       "    <tr>\n",
       "      <th>0</th>\n",
       "      <td>2018-08-09 11:10:55</td>\n",
       "    </tr>\n",
       "    <tr>\n",
       "      <th>1</th>\n",
       "      <td>2019-03-02 13:15:21</td>\n",
       "    </tr>\n",
       "  </tbody>\n",
       "</table>\n",
       "</div>"
      ],
      "text/plain": [
       "                  date\n",
       "0  2018-08-09 11:10:55\n",
       "1  2019-03-02 13:15:21"
      ]
     },
     "execution_count": 25,
     "metadata": {},
     "output_type": "execute_result"
    },
    {
     "data": {
      "text/plain": [
       "date    object\n",
       "dtype: object"
      ]
     },
     "execution_count": 25,
     "metadata": {},
     "output_type": "execute_result"
    }
   ],
   "source": [
    "df = pd.DataFrame({'date': ['2018-08-09 11:10:55','2019-03-02 13:15:21']})\n",
    "df\n",
    "df.dtypes"
   ]
  },
  {
   "cell_type": "code",
   "execution_count": 26,
   "metadata": {},
   "outputs": [
    {
     "data": {
      "text/html": [
       "<div>\n",
       "<style scoped>\n",
       "    .dataframe tbody tr th:only-of-type {\n",
       "        vertical-align: middle;\n",
       "    }\n",
       "\n",
       "    .dataframe tbody tr th {\n",
       "        vertical-align: top;\n",
       "    }\n",
       "\n",
       "    .dataframe thead th {\n",
       "        text-align: right;\n",
       "    }\n",
       "</style>\n",
       "<table border=\"1\" class=\"dataframe\">\n",
       "  <thead>\n",
       "    <tr style=\"text-align: right;\">\n",
       "      <th></th>\n",
       "      <th>date</th>\n",
       "      <th>yyyy_ww1</th>\n",
       "    </tr>\n",
       "  </thead>\n",
       "  <tbody>\n",
       "    <tr>\n",
       "      <th>0</th>\n",
       "      <td>2018-08-09 11:10:55</td>\n",
       "      <td>2018-31</td>\n",
       "    </tr>\n",
       "    <tr>\n",
       "      <th>1</th>\n",
       "      <td>2019-03-02 13:15:21</td>\n",
       "      <td>2019-08</td>\n",
       "    </tr>\n",
       "  </tbody>\n",
       "</table>\n",
       "</div>"
      ],
      "text/plain": [
       "                  date yyyy_ww1\n",
       "0  2018-08-09 11:10:55  2018-31\n",
       "1  2019-03-02 13:15:21  2019-08"
      ]
     },
     "execution_count": 26,
     "metadata": {},
     "output_type": "execute_result"
    },
    {
     "data": {
      "text/plain": [
       "date        object\n",
       "yyyy_ww1    object\n",
       "dtype: object"
      ]
     },
     "execution_count": 26,
     "metadata": {},
     "output_type": "execute_result"
    }
   ],
   "source": [
    "# if column type is a string/object\n",
    "# pd.DatetimeIndex(df['date']) returns Datetime type, which is chained with strftime\n",
    "df['yyyy_ww1'] = pd.DatetimeIndex(df['date']).strftime('%Y-%U')\n",
    "df\n",
    "df.dtypes\n"
   ]
  },
  {
   "cell_type": "markdown",
   "metadata": {},
   "source": [
    "### ```.strftime()```\n",
    "- https://docs.python.org/3/library/datetime.html#strftime-and-strptime-behavior"
   ]
  },
  {
   "cell_type": "code",
   "execution_count": 27,
   "metadata": {},
   "outputs": [
    {
     "data": {
      "text/html": [
       "<div>\n",
       "<style scoped>\n",
       "    .dataframe tbody tr th:only-of-type {\n",
       "        vertical-align: middle;\n",
       "    }\n",
       "\n",
       "    .dataframe tbody tr th {\n",
       "        vertical-align: top;\n",
       "    }\n",
       "\n",
       "    .dataframe thead th {\n",
       "        text-align: right;\n",
       "    }\n",
       "</style>\n",
       "<table border=\"1\" class=\"dataframe\">\n",
       "  <thead>\n",
       "    <tr style=\"text-align: right;\">\n",
       "      <th></th>\n",
       "      <th>date</th>\n",
       "      <th>yyyy_ww1</th>\n",
       "      <th>yyyy_ww2</th>\n",
       "    </tr>\n",
       "  </thead>\n",
       "  <tbody>\n",
       "    <tr>\n",
       "      <th>0</th>\n",
       "      <td>2018-08-09 11:10:55</td>\n",
       "      <td>2018-31</td>\n",
       "      <td>2018-31</td>\n",
       "    </tr>\n",
       "    <tr>\n",
       "      <th>1</th>\n",
       "      <td>2019-03-02 13:15:21</td>\n",
       "      <td>2019-08</td>\n",
       "      <td>2019-08</td>\n",
       "    </tr>\n",
       "  </tbody>\n",
       "</table>\n",
       "</div>"
      ],
      "text/plain": [
       "                 date yyyy_ww1 yyyy_ww2\n",
       "0 2018-08-09 11:10:55  2018-31  2018-31\n",
       "1 2019-03-02 13:15:21  2019-08  2019-08"
      ]
     },
     "execution_count": 27,
     "metadata": {},
     "output_type": "execute_result"
    },
    {
     "data": {
      "text/plain": [
       "date        datetime64[ns]\n",
       "yyyy_ww1            object\n",
       "yyyy_ww2            object\n",
       "dtype: object"
      ]
     },
     "execution_count": 27,
     "metadata": {},
     "output_type": "execute_result"
    }
   ],
   "source": [
    "# if column type is a datetime\n",
    "df['date'] = pd.to_datetime(df['date']) # Changing it to datatime object\n",
    "df['yyyy_ww2'] = df['date'].dt.strftime('%Y-%U')\n",
    "df\n",
    "df.dtypes"
   ]
  },
  {
   "cell_type": "code",
   "execution_count": 28,
   "metadata": {},
   "outputs": [
    {
     "data": {
      "text/html": [
       "<div>\n",
       "<style scoped>\n",
       "    .dataframe tbody tr th:only-of-type {\n",
       "        vertical-align: middle;\n",
       "    }\n",
       "\n",
       "    .dataframe tbody tr th {\n",
       "        vertical-align: top;\n",
       "    }\n",
       "\n",
       "    .dataframe thead th {\n",
       "        text-align: right;\n",
       "    }\n",
       "</style>\n",
       "<table border=\"1\" class=\"dataframe\">\n",
       "  <thead>\n",
       "    <tr style=\"text-align: right;\">\n",
       "      <th></th>\n",
       "      <th>date</th>\n",
       "      <th>yyyy_ww1</th>\n",
       "      <th>yyyy_ww2</th>\n",
       "    </tr>\n",
       "  </thead>\n",
       "  <tbody>\n",
       "    <tr>\n",
       "      <th>0</th>\n",
       "      <td>2018-08-09 11:10:55.000000</td>\n",
       "      <td>2018-31</td>\n",
       "      <td>2018-31</td>\n",
       "    </tr>\n",
       "    <tr>\n",
       "      <th>1</th>\n",
       "      <td>2019-03-02 13:15:21.000000</td>\n",
       "      <td>2019-08</td>\n",
       "      <td>2019-08</td>\n",
       "    </tr>\n",
       "    <tr>\n",
       "      <th>2</th>\n",
       "      <td>2021-05-25 22:37:10.010439</td>\n",
       "      <td>NaN</td>\n",
       "      <td>NaN</td>\n",
       "    </tr>\n",
       "  </tbody>\n",
       "</table>\n",
       "</div>"
      ],
      "text/plain": [
       "                        date yyyy_ww1 yyyy_ww2\n",
       "0 2018-08-09 11:10:55.000000  2018-31  2018-31\n",
       "1 2019-03-02 13:15:21.000000  2019-08  2019-08\n",
       "2 2021-05-25 22:37:10.010439      NaN      NaN"
      ]
     },
     "execution_count": 28,
     "metadata": {},
     "output_type": "execute_result"
    }
   ],
   "source": [
    "df.loc[len(df.index)] = [dt.datetime.now(),np.NaN,np.NaN]\n",
    "df"
   ]
  },
  {
   "cell_type": "markdown",
   "metadata": {},
   "source": [
    "- https://pandas.pydata.org/pandas-docs/stable/user_guide/timeseries.html#time-date-components"
   ]
  },
  {
   "cell_type": "code",
   "execution_count": 29,
   "metadata": {},
   "outputs": [
    {
     "data": {
      "text/html": [
       "<div>\n",
       "<style scoped>\n",
       "    .dataframe tbody tr th:only-of-type {\n",
       "        vertical-align: middle;\n",
       "    }\n",
       "\n",
       "    .dataframe tbody tr th {\n",
       "        vertical-align: top;\n",
       "    }\n",
       "\n",
       "    .dataframe thead th {\n",
       "        text-align: right;\n",
       "    }\n",
       "</style>\n",
       "<table border=\"1\" class=\"dataframe\">\n",
       "  <thead>\n",
       "    <tr style=\"text-align: right;\">\n",
       "      <th></th>\n",
       "      <th>date</th>\n",
       "      <th>yyyy_ww1</th>\n",
       "      <th>yyyy_ww2</th>\n",
       "      <th>day</th>\n",
       "      <th>month</th>\n",
       "      <th>year</th>\n",
       "      <th>hour</th>\n",
       "      <th>minute</th>\n",
       "      <th>second</th>\n",
       "      <th>microsecond</th>\n",
       "    </tr>\n",
       "  </thead>\n",
       "  <tbody>\n",
       "    <tr>\n",
       "      <th>0</th>\n",
       "      <td>2018-08-09 11:10:55.000000</td>\n",
       "      <td>2018-31</td>\n",
       "      <td>2018-31</td>\n",
       "      <td>9</td>\n",
       "      <td>8</td>\n",
       "      <td>2018</td>\n",
       "      <td>11</td>\n",
       "      <td>10</td>\n",
       "      <td>55</td>\n",
       "      <td>0</td>\n",
       "    </tr>\n",
       "    <tr>\n",
       "      <th>1</th>\n",
       "      <td>2019-03-02 13:15:21.000000</td>\n",
       "      <td>2019-08</td>\n",
       "      <td>2019-08</td>\n",
       "      <td>2</td>\n",
       "      <td>3</td>\n",
       "      <td>2019</td>\n",
       "      <td>13</td>\n",
       "      <td>15</td>\n",
       "      <td>21</td>\n",
       "      <td>0</td>\n",
       "    </tr>\n",
       "    <tr>\n",
       "      <th>2</th>\n",
       "      <td>2021-05-25 22:37:10.010439</td>\n",
       "      <td>NaN</td>\n",
       "      <td>NaN</td>\n",
       "      <td>25</td>\n",
       "      <td>5</td>\n",
       "      <td>2021</td>\n",
       "      <td>22</td>\n",
       "      <td>37</td>\n",
       "      <td>10</td>\n",
       "      <td>10439</td>\n",
       "    </tr>\n",
       "  </tbody>\n",
       "</table>\n",
       "</div>"
      ],
      "text/plain": [
       "                        date yyyy_ww1 yyyy_ww2  day  month  year  hour  \\\n",
       "0 2018-08-09 11:10:55.000000  2018-31  2018-31    9      8  2018    11   \n",
       "1 2019-03-02 13:15:21.000000  2019-08  2019-08    2      3  2019    13   \n",
       "2 2021-05-25 22:37:10.010439      NaN      NaN   25      5  2021    22   \n",
       "\n",
       "   minute  second  microsecond  \n",
       "0      10      55            0  \n",
       "1      15      21            0  \n",
       "2      37      10        10439  "
      ]
     },
     "execution_count": 29,
     "metadata": {},
     "output_type": "execute_result"
    },
    {
     "data": {
      "text/plain": [
       "date           datetime64[ns]\n",
       "yyyy_ww1               object\n",
       "yyyy_ww2               object\n",
       "day                     int64\n",
       "month                   int64\n",
       "year                    int64\n",
       "hour                    int64\n",
       "minute                  int64\n",
       "second                  int64\n",
       "microsecond             int64\n",
       "dtype: object"
      ]
     },
     "execution_count": 29,
     "metadata": {},
     "output_type": "execute_result"
    }
   ],
   "source": [
    "df['day'] = df['date'].dt.day\n",
    "df['month'] = df['date'].dt.month\n",
    "df['year'] = df['date'].dt.year\n",
    "df['hour'] = df['date'].dt.hour\n",
    "df['minute'] = df['date'].dt.minute\n",
    "df['second'] = df['date'].dt.second\n",
    "df['microsecond'] = df['date'].dt.microsecond\n",
    "df\n",
    "df.dtypes"
   ]
  },
  {
   "cell_type": "code",
   "execution_count": 30,
   "metadata": {},
   "outputs": [
    {
     "data": {
      "text/html": [
       "<div>\n",
       "<style scoped>\n",
       "    .dataframe tbody tr th:only-of-type {\n",
       "        vertical-align: middle;\n",
       "    }\n",
       "\n",
       "    .dataframe tbody tr th {\n",
       "        vertical-align: top;\n",
       "    }\n",
       "\n",
       "    .dataframe thead th {\n",
       "        text-align: right;\n",
       "    }\n",
       "</style>\n",
       "<table border=\"1\" class=\"dataframe\">\n",
       "  <thead>\n",
       "    <tr style=\"text-align: right;\">\n",
       "      <th></th>\n",
       "      <th>date</th>\n",
       "      <th>yyyy_ww1</th>\n",
       "      <th>yyyy_ww2</th>\n",
       "      <th>day</th>\n",
       "      <th>month</th>\n",
       "      <th>year</th>\n",
       "      <th>hour</th>\n",
       "      <th>minute</th>\n",
       "      <th>second</th>\n",
       "      <th>microsecond</th>\n",
       "      <th>datepart</th>\n",
       "      <th>timepart</th>\n",
       "      <th>weekday</th>\n",
       "      <th>dayofweek</th>\n",
       "      <th>dayofyear</th>\n",
       "      <th>weekofyear</th>\n",
       "      <th>quarter</th>\n",
       "    </tr>\n",
       "  </thead>\n",
       "  <tbody>\n",
       "    <tr>\n",
       "      <th>0</th>\n",
       "      <td>2018-08-09 11:10:55.000000</td>\n",
       "      <td>2018-31</td>\n",
       "      <td>2018-31</td>\n",
       "      <td>9</td>\n",
       "      <td>8</td>\n",
       "      <td>2018</td>\n",
       "      <td>11</td>\n",
       "      <td>10</td>\n",
       "      <td>55</td>\n",
       "      <td>0</td>\n",
       "      <td>2018-08-09</td>\n",
       "      <td>11:10:55</td>\n",
       "      <td>3</td>\n",
       "      <td>3</td>\n",
       "      <td>221</td>\n",
       "      <td>32</td>\n",
       "      <td>3</td>\n",
       "    </tr>\n",
       "    <tr>\n",
       "      <th>1</th>\n",
       "      <td>2019-03-02 13:15:21.000000</td>\n",
       "      <td>2019-08</td>\n",
       "      <td>2019-08</td>\n",
       "      <td>2</td>\n",
       "      <td>3</td>\n",
       "      <td>2019</td>\n",
       "      <td>13</td>\n",
       "      <td>15</td>\n",
       "      <td>21</td>\n",
       "      <td>0</td>\n",
       "      <td>2019-03-02</td>\n",
       "      <td>13:15:21</td>\n",
       "      <td>5</td>\n",
       "      <td>5</td>\n",
       "      <td>61</td>\n",
       "      <td>9</td>\n",
       "      <td>1</td>\n",
       "    </tr>\n",
       "    <tr>\n",
       "      <th>2</th>\n",
       "      <td>2021-05-25 22:37:10.010439</td>\n",
       "      <td>NaN</td>\n",
       "      <td>NaN</td>\n",
       "      <td>25</td>\n",
       "      <td>5</td>\n",
       "      <td>2021</td>\n",
       "      <td>22</td>\n",
       "      <td>37</td>\n",
       "      <td>10</td>\n",
       "      <td>10439</td>\n",
       "      <td>2021-05-25</td>\n",
       "      <td>22:37:10.010439</td>\n",
       "      <td>1</td>\n",
       "      <td>1</td>\n",
       "      <td>145</td>\n",
       "      <td>21</td>\n",
       "      <td>2</td>\n",
       "    </tr>\n",
       "  </tbody>\n",
       "</table>\n",
       "</div>"
      ],
      "text/plain": [
       "                        date yyyy_ww1 yyyy_ww2  day  month  year  hour  \\\n",
       "0 2018-08-09 11:10:55.000000  2018-31  2018-31    9      8  2018    11   \n",
       "1 2019-03-02 13:15:21.000000  2019-08  2019-08    2      3  2019    13   \n",
       "2 2021-05-25 22:37:10.010439      NaN      NaN   25      5  2021    22   \n",
       "\n",
       "   minute  second  microsecond    datepart         timepart  weekday  \\\n",
       "0      10      55            0  2018-08-09         11:10:55        3   \n",
       "1      15      21            0  2019-03-02         13:15:21        5   \n",
       "2      37      10        10439  2021-05-25  22:37:10.010439        1   \n",
       "\n",
       "   dayofweek  dayofyear  weekofyear  quarter  \n",
       "0          3        221          32        3  \n",
       "1          5         61           9        1  \n",
       "2          1        145          21        2  "
      ]
     },
     "execution_count": 30,
     "metadata": {},
     "output_type": "execute_result"
    },
    {
     "data": {
      "text/plain": [
       "date           datetime64[ns]\n",
       "yyyy_ww1               object\n",
       "yyyy_ww2               object\n",
       "day                     int64\n",
       "month                   int64\n",
       "year                    int64\n",
       "hour                    int64\n",
       "minute                  int64\n",
       "second                  int64\n",
       "microsecond             int64\n",
       "datepart               object\n",
       "timepart               object\n",
       "weekday                 int64\n",
       "dayofweek               int64\n",
       "dayofyear               int64\n",
       "weekofyear             UInt32\n",
       "quarter                 int64\n",
       "dtype: object"
      ]
     },
     "execution_count": 30,
     "metadata": {},
     "output_type": "execute_result"
    }
   ],
   "source": [
    "df['datepart'] = df['date'].dt.date\n",
    "df['timepart'] = df['date'].dt.time\n",
    "\n",
    "df['weekday'] = df['date'].dt.weekday\n",
    "df['dayofweek'] = df['date'].dt.dayofweek\n",
    "df['dayofyear'] = df['date'].dt.dayofyear\n",
    "df['weekofyear'] = df['date'].dt.isocalendar().week\n",
    "df['quarter'] = df['date'].dt.quarter\n",
    "df\n",
    "df.dtypes"
   ]
  },
  {
   "cell_type": "code",
   "execution_count": 31,
   "metadata": {},
   "outputs": [
    {
     "data": {
      "text/html": [
       "<div>\n",
       "<style scoped>\n",
       "    .dataframe tbody tr th:only-of-type {\n",
       "        vertical-align: middle;\n",
       "    }\n",
       "\n",
       "    .dataframe tbody tr th {\n",
       "        vertical-align: top;\n",
       "    }\n",
       "\n",
       "    .dataframe thead th {\n",
       "        text-align: right;\n",
       "    }\n",
       "</style>\n",
       "<table border=\"1\" class=\"dataframe\">\n",
       "  <thead>\n",
       "    <tr style=\"text-align: right;\">\n",
       "      <th></th>\n",
       "      <th>date</th>\n",
       "      <th>yyyy_ww1</th>\n",
       "      <th>yyyy_ww2</th>\n",
       "      <th>day</th>\n",
       "      <th>month</th>\n",
       "      <th>year</th>\n",
       "      <th>hour</th>\n",
       "      <th>minute</th>\n",
       "      <th>second</th>\n",
       "      <th>microsecond</th>\n",
       "      <th>...</th>\n",
       "      <th>weekday</th>\n",
       "      <th>dayofweek</th>\n",
       "      <th>dayofyear</th>\n",
       "      <th>weekofyear</th>\n",
       "      <th>quarter</th>\n",
       "      <th>is_month_start</th>\n",
       "      <th>is_month_end</th>\n",
       "      <th>is_year_start</th>\n",
       "      <th>is_year_end</th>\n",
       "      <th>is_leap_year</th>\n",
       "    </tr>\n",
       "  </thead>\n",
       "  <tbody>\n",
       "    <tr>\n",
       "      <th>0</th>\n",
       "      <td>2018-08-09 11:10:55.000000</td>\n",
       "      <td>2018-31</td>\n",
       "      <td>2018-31</td>\n",
       "      <td>9</td>\n",
       "      <td>8</td>\n",
       "      <td>2018</td>\n",
       "      <td>11</td>\n",
       "      <td>10</td>\n",
       "      <td>55</td>\n",
       "      <td>0</td>\n",
       "      <td>...</td>\n",
       "      <td>3</td>\n",
       "      <td>3</td>\n",
       "      <td>221</td>\n",
       "      <td>32</td>\n",
       "      <td>3</td>\n",
       "      <td>False</td>\n",
       "      <td>False</td>\n",
       "      <td>False</td>\n",
       "      <td>False</td>\n",
       "      <td>False</td>\n",
       "    </tr>\n",
       "    <tr>\n",
       "      <th>1</th>\n",
       "      <td>2019-03-02 13:15:21.000000</td>\n",
       "      <td>2019-08</td>\n",
       "      <td>2019-08</td>\n",
       "      <td>2</td>\n",
       "      <td>3</td>\n",
       "      <td>2019</td>\n",
       "      <td>13</td>\n",
       "      <td>15</td>\n",
       "      <td>21</td>\n",
       "      <td>0</td>\n",
       "      <td>...</td>\n",
       "      <td>5</td>\n",
       "      <td>5</td>\n",
       "      <td>61</td>\n",
       "      <td>9</td>\n",
       "      <td>1</td>\n",
       "      <td>False</td>\n",
       "      <td>False</td>\n",
       "      <td>False</td>\n",
       "      <td>False</td>\n",
       "      <td>False</td>\n",
       "    </tr>\n",
       "    <tr>\n",
       "      <th>2</th>\n",
       "      <td>2021-05-25 22:37:10.010439</td>\n",
       "      <td>NaN</td>\n",
       "      <td>NaN</td>\n",
       "      <td>25</td>\n",
       "      <td>5</td>\n",
       "      <td>2021</td>\n",
       "      <td>22</td>\n",
       "      <td>37</td>\n",
       "      <td>10</td>\n",
       "      <td>10439</td>\n",
       "      <td>...</td>\n",
       "      <td>1</td>\n",
       "      <td>1</td>\n",
       "      <td>145</td>\n",
       "      <td>21</td>\n",
       "      <td>2</td>\n",
       "      <td>False</td>\n",
       "      <td>False</td>\n",
       "      <td>False</td>\n",
       "      <td>False</td>\n",
       "      <td>False</td>\n",
       "    </tr>\n",
       "  </tbody>\n",
       "</table>\n",
       "<p>3 rows × 22 columns</p>\n",
       "</div>"
      ],
      "text/plain": [
       "                        date yyyy_ww1 yyyy_ww2  day  month  year  hour  \\\n",
       "0 2018-08-09 11:10:55.000000  2018-31  2018-31    9      8  2018    11   \n",
       "1 2019-03-02 13:15:21.000000  2019-08  2019-08    2      3  2019    13   \n",
       "2 2021-05-25 22:37:10.010439      NaN      NaN   25      5  2021    22   \n",
       "\n",
       "   minute  second  microsecond  ... weekday dayofweek  dayofyear  weekofyear  \\\n",
       "0      10      55            0  ...       3         3        221          32   \n",
       "1      15      21            0  ...       5         5         61           9   \n",
       "2      37      10        10439  ...       1         1        145          21   \n",
       "\n",
       "   quarter  is_month_start  is_month_end  is_year_start  is_year_end  \\\n",
       "0        3           False         False          False        False   \n",
       "1        1           False         False          False        False   \n",
       "2        2           False         False          False        False   \n",
       "\n",
       "   is_leap_year  \n",
       "0         False  \n",
       "1         False  \n",
       "2         False  \n",
       "\n",
       "[3 rows x 22 columns]"
      ]
     },
     "execution_count": 31,
     "metadata": {},
     "output_type": "execute_result"
    },
    {
     "data": {
      "text/plain": [
       "date              datetime64[ns]\n",
       "yyyy_ww1                  object\n",
       "yyyy_ww2                  object\n",
       "day                        int64\n",
       "month                      int64\n",
       "year                       int64\n",
       "hour                       int64\n",
       "minute                     int64\n",
       "second                     int64\n",
       "microsecond                int64\n",
       "datepart                  object\n",
       "timepart                  object\n",
       "weekday                    int64\n",
       "dayofweek                  int64\n",
       "dayofyear                  int64\n",
       "weekofyear                UInt32\n",
       "quarter                    int64\n",
       "is_month_start              bool\n",
       "is_month_end                bool\n",
       "is_year_start               bool\n",
       "is_year_end                 bool\n",
       "is_leap_year                bool\n",
       "dtype: object"
      ]
     },
     "execution_count": 31,
     "metadata": {},
     "output_type": "execute_result"
    }
   ],
   "source": [
    "df['is_month_start'] = df['date'].dt.is_month_start\n",
    "df['is_month_end'] = df['date'].dt.is_month_end\n",
    "df['is_year_start'] = df['date'].dt.is_year_start\n",
    "df['is_year_end'] = df['date'].dt.is_year_end\n",
    "df['is_leap_year'] = df['date'].dt.is_leap_year\n",
    "df\n",
    "df.dtypes"
   ]
  },
  {
   "cell_type": "markdown",
   "metadata": {},
   "source": [
    "- https://pandas.pydata.org/pandas-docs/stable/reference/api/pandas.Series.dt.day_name.html\n",
    "- https://pandas.pydata.org/pandas-docs/stable/reference/api/pandas.Series.dt.normalize.html\n",
    "- https://pandas.pydata.org/pandas-docs/stable/reference/api/pandas.Series.dt.round.html"
   ]
  },
  {
   "cell_type": "code",
   "execution_count": 32,
   "metadata": {},
   "outputs": [
    {
     "data": {
      "text/html": [
       "<div>\n",
       "<style scoped>\n",
       "    .dataframe tbody tr th:only-of-type {\n",
       "        vertical-align: middle;\n",
       "    }\n",
       "\n",
       "    .dataframe tbody tr th {\n",
       "        vertical-align: top;\n",
       "    }\n",
       "\n",
       "    .dataframe thead th {\n",
       "        text-align: right;\n",
       "    }\n",
       "</style>\n",
       "<table border=\"1\" class=\"dataframe\">\n",
       "  <thead>\n",
       "    <tr style=\"text-align: right;\">\n",
       "      <th></th>\n",
       "      <th>date</th>\n",
       "      <th>yyyy_ww1</th>\n",
       "      <th>yyyy_ww2</th>\n",
       "      <th>day</th>\n",
       "      <th>month</th>\n",
       "      <th>year</th>\n",
       "      <th>hour</th>\n",
       "      <th>minute</th>\n",
       "      <th>second</th>\n",
       "      <th>microsecond</th>\n",
       "      <th>...</th>\n",
       "      <th>is_month_end</th>\n",
       "      <th>is_year_start</th>\n",
       "      <th>is_year_end</th>\n",
       "      <th>is_leap_year</th>\n",
       "      <th>dayname</th>\n",
       "      <th>monthname</th>\n",
       "      <th>normalizeTime</th>\n",
       "      <th>round</th>\n",
       "      <th>floor</th>\n",
       "      <th>ceil</th>\n",
       "    </tr>\n",
       "  </thead>\n",
       "  <tbody>\n",
       "    <tr>\n",
       "      <th>0</th>\n",
       "      <td>2018-08-09 11:10:55.000000</td>\n",
       "      <td>2018-31</td>\n",
       "      <td>2018-31</td>\n",
       "      <td>9</td>\n",
       "      <td>8</td>\n",
       "      <td>2018</td>\n",
       "      <td>11</td>\n",
       "      <td>10</td>\n",
       "      <td>55</td>\n",
       "      <td>0</td>\n",
       "      <td>...</td>\n",
       "      <td>False</td>\n",
       "      <td>False</td>\n",
       "      <td>False</td>\n",
       "      <td>False</td>\n",
       "      <td>Thursday</td>\n",
       "      <td>August</td>\n",
       "      <td>2018-08-09</td>\n",
       "      <td>2018-08-09 11:00:00</td>\n",
       "      <td>2018-08-09 11:00:00</td>\n",
       "      <td>2018-08-09 12:00:00</td>\n",
       "    </tr>\n",
       "    <tr>\n",
       "      <th>1</th>\n",
       "      <td>2019-03-02 13:15:21.000000</td>\n",
       "      <td>2019-08</td>\n",
       "      <td>2019-08</td>\n",
       "      <td>2</td>\n",
       "      <td>3</td>\n",
       "      <td>2019</td>\n",
       "      <td>13</td>\n",
       "      <td>15</td>\n",
       "      <td>21</td>\n",
       "      <td>0</td>\n",
       "      <td>...</td>\n",
       "      <td>False</td>\n",
       "      <td>False</td>\n",
       "      <td>False</td>\n",
       "      <td>False</td>\n",
       "      <td>Saturday</td>\n",
       "      <td>March</td>\n",
       "      <td>2019-03-02</td>\n",
       "      <td>2019-03-02 13:00:00</td>\n",
       "      <td>2019-03-02 13:00:00</td>\n",
       "      <td>2019-03-02 14:00:00</td>\n",
       "    </tr>\n",
       "    <tr>\n",
       "      <th>2</th>\n",
       "      <td>2021-05-25 22:37:10.010439</td>\n",
       "      <td>NaN</td>\n",
       "      <td>NaN</td>\n",
       "      <td>25</td>\n",
       "      <td>5</td>\n",
       "      <td>2021</td>\n",
       "      <td>22</td>\n",
       "      <td>37</td>\n",
       "      <td>10</td>\n",
       "      <td>10439</td>\n",
       "      <td>...</td>\n",
       "      <td>False</td>\n",
       "      <td>False</td>\n",
       "      <td>False</td>\n",
       "      <td>False</td>\n",
       "      <td>Tuesday</td>\n",
       "      <td>May</td>\n",
       "      <td>2021-05-25</td>\n",
       "      <td>2021-05-25 23:00:00</td>\n",
       "      <td>2021-05-25 22:00:00</td>\n",
       "      <td>2021-05-25 23:00:00</td>\n",
       "    </tr>\n",
       "  </tbody>\n",
       "</table>\n",
       "<p>3 rows × 28 columns</p>\n",
       "</div>"
      ],
      "text/plain": [
       "                        date yyyy_ww1 yyyy_ww2  day  month  year  hour  \\\n",
       "0 2018-08-09 11:10:55.000000  2018-31  2018-31    9      8  2018    11   \n",
       "1 2019-03-02 13:15:21.000000  2019-08  2019-08    2      3  2019    13   \n",
       "2 2021-05-25 22:37:10.010439      NaN      NaN   25      5  2021    22   \n",
       "\n",
       "   minute  second  microsecond  ... is_month_end is_year_start  is_year_end  \\\n",
       "0      10      55            0  ...        False         False        False   \n",
       "1      15      21            0  ...        False         False        False   \n",
       "2      37      10        10439  ...        False         False        False   \n",
       "\n",
       "   is_leap_year   dayname  monthname  normalizeTime               round  \\\n",
       "0         False  Thursday     August     2018-08-09 2018-08-09 11:00:00   \n",
       "1         False  Saturday      March     2019-03-02 2019-03-02 13:00:00   \n",
       "2         False   Tuesday        May     2021-05-25 2021-05-25 23:00:00   \n",
       "\n",
       "                floor                ceil  \n",
       "0 2018-08-09 11:00:00 2018-08-09 12:00:00  \n",
       "1 2019-03-02 13:00:00 2019-03-02 14:00:00  \n",
       "2 2021-05-25 22:00:00 2021-05-25 23:00:00  \n",
       "\n",
       "[3 rows x 28 columns]"
      ]
     },
     "execution_count": 32,
     "metadata": {},
     "output_type": "execute_result"
    },
    {
     "data": {
      "text/plain": [
       "date              datetime64[ns]\n",
       "yyyy_ww1                  object\n",
       "yyyy_ww2                  object\n",
       "day                        int64\n",
       "month                      int64\n",
       "year                       int64\n",
       "hour                       int64\n",
       "minute                     int64\n",
       "second                     int64\n",
       "microsecond                int64\n",
       "datepart                  object\n",
       "timepart                  object\n",
       "weekday                    int64\n",
       "dayofweek                  int64\n",
       "dayofyear                  int64\n",
       "weekofyear                UInt32\n",
       "quarter                    int64\n",
       "is_month_start              bool\n",
       "is_month_end                bool\n",
       "is_year_start               bool\n",
       "is_year_end                 bool\n",
       "is_leap_year                bool\n",
       "dayname                   object\n",
       "monthname                 object\n",
       "normalizeTime     datetime64[ns]\n",
       "round             datetime64[ns]\n",
       "floor             datetime64[ns]\n",
       "ceil              datetime64[ns]\n",
       "dtype: object"
      ]
     },
     "execution_count": 32,
     "metadata": {},
     "output_type": "execute_result"
    }
   ],
   "source": [
    "df['dayname'] = df['date'].dt.day_name()\n",
    "df['monthname'] = df['date'].dt.month_name()\n",
    "df['normalizeTime'] = df['date'].dt.normalize()\n",
    "df['round'] = df['date'].dt.round(freq = \"H\")\n",
    "df['floor'] = df['date'].dt.floor(freq = \"H\")\n",
    "df['ceil'] = df['date'].dt.ceil(freq = \"H\")\n",
    "\n",
    "df\n",
    "df.dtypes"
   ]
  },
  {
   "cell_type": "code",
   "execution_count": 33,
   "metadata": {},
   "outputs": [
    {
     "data": {
      "text/html": [
       "<div>\n",
       "<style scoped>\n",
       "    .dataframe tbody tr th:only-of-type {\n",
       "        vertical-align: middle;\n",
       "    }\n",
       "\n",
       "    .dataframe tbody tr th {\n",
       "        vertical-align: top;\n",
       "    }\n",
       "\n",
       "    .dataframe thead th {\n",
       "        text-align: right;\n",
       "    }\n",
       "</style>\n",
       "<table border=\"1\" class=\"dataframe\">\n",
       "  <thead>\n",
       "    <tr style=\"text-align: right;\">\n",
       "      <th></th>\n",
       "      <th>date</th>\n",
       "      <th>yyyy_ww1</th>\n",
       "      <th>yyyy_ww2</th>\n",
       "      <th>day</th>\n",
       "      <th>month</th>\n",
       "      <th>year</th>\n",
       "      <th>hour</th>\n",
       "      <th>minute</th>\n",
       "      <th>second</th>\n",
       "      <th>microsecond</th>\n",
       "      <th>...</th>\n",
       "      <th>is_year_start</th>\n",
       "      <th>is_year_end</th>\n",
       "      <th>is_leap_year</th>\n",
       "      <th>dayname</th>\n",
       "      <th>monthname</th>\n",
       "      <th>normalizeTime</th>\n",
       "      <th>round</th>\n",
       "      <th>floor</th>\n",
       "      <th>ceil</th>\n",
       "      <th>mydate</th>\n",
       "    </tr>\n",
       "  </thead>\n",
       "  <tbody>\n",
       "    <tr>\n",
       "      <th>0</th>\n",
       "      <td>2018-08-09 11:10:55.000000</td>\n",
       "      <td>2018-31</td>\n",
       "      <td>2018-31</td>\n",
       "      <td>9</td>\n",
       "      <td>8</td>\n",
       "      <td>2018</td>\n",
       "      <td>11</td>\n",
       "      <td>10</td>\n",
       "      <td>55</td>\n",
       "      <td>0</td>\n",
       "      <td>...</td>\n",
       "      <td>False</td>\n",
       "      <td>False</td>\n",
       "      <td>False</td>\n",
       "      <td>Thursday</td>\n",
       "      <td>August</td>\n",
       "      <td>2018-08-09</td>\n",
       "      <td>2018-08-09 11:00:00</td>\n",
       "      <td>2018-08-09 11:00:00</td>\n",
       "      <td>2018-08-09 12:00:00</td>\n",
       "      <td>2018-08-09</td>\n",
       "    </tr>\n",
       "    <tr>\n",
       "      <th>1</th>\n",
       "      <td>2019-03-02 13:15:21.000000</td>\n",
       "      <td>2019-08</td>\n",
       "      <td>2019-08</td>\n",
       "      <td>2</td>\n",
       "      <td>3</td>\n",
       "      <td>2019</td>\n",
       "      <td>13</td>\n",
       "      <td>15</td>\n",
       "      <td>21</td>\n",
       "      <td>0</td>\n",
       "      <td>...</td>\n",
       "      <td>False</td>\n",
       "      <td>False</td>\n",
       "      <td>False</td>\n",
       "      <td>Saturday</td>\n",
       "      <td>March</td>\n",
       "      <td>2019-03-02</td>\n",
       "      <td>2019-03-02 13:00:00</td>\n",
       "      <td>2019-03-02 13:00:00</td>\n",
       "      <td>2019-03-02 14:00:00</td>\n",
       "      <td>2019-03-02</td>\n",
       "    </tr>\n",
       "    <tr>\n",
       "      <th>2</th>\n",
       "      <td>2021-05-25 22:37:10.010439</td>\n",
       "      <td>NaN</td>\n",
       "      <td>NaN</td>\n",
       "      <td>25</td>\n",
       "      <td>5</td>\n",
       "      <td>2021</td>\n",
       "      <td>22</td>\n",
       "      <td>37</td>\n",
       "      <td>10</td>\n",
       "      <td>10439</td>\n",
       "      <td>...</td>\n",
       "      <td>False</td>\n",
       "      <td>False</td>\n",
       "      <td>False</td>\n",
       "      <td>Tuesday</td>\n",
       "      <td>May</td>\n",
       "      <td>2021-05-25</td>\n",
       "      <td>2021-05-25 23:00:00</td>\n",
       "      <td>2021-05-25 22:00:00</td>\n",
       "      <td>2021-05-25 23:00:00</td>\n",
       "      <td>2021-05-25</td>\n",
       "    </tr>\n",
       "  </tbody>\n",
       "</table>\n",
       "<p>3 rows × 29 columns</p>\n",
       "</div>"
      ],
      "text/plain": [
       "                        date yyyy_ww1 yyyy_ww2  day  month  year  hour  \\\n",
       "0 2018-08-09 11:10:55.000000  2018-31  2018-31    9      8  2018    11   \n",
       "1 2019-03-02 13:15:21.000000  2019-08  2019-08    2      3  2019    13   \n",
       "2 2021-05-25 22:37:10.010439      NaN      NaN   25      5  2021    22   \n",
       "\n",
       "   minute  second  microsecond  ... is_year_start is_year_end  is_leap_year  \\\n",
       "0      10      55            0  ...         False       False         False   \n",
       "1      15      21            0  ...         False       False         False   \n",
       "2      37      10        10439  ...         False       False         False   \n",
       "\n",
       "    dayname  monthname  normalizeTime               round               floor  \\\n",
       "0  Thursday     August     2018-08-09 2018-08-09 11:00:00 2018-08-09 11:00:00   \n",
       "1  Saturday      March     2019-03-02 2019-03-02 13:00:00 2019-03-02 13:00:00   \n",
       "2   Tuesday        May     2021-05-25 2021-05-25 23:00:00 2021-05-25 22:00:00   \n",
       "\n",
       "                 ceil     mydate  \n",
       "0 2018-08-09 12:00:00 2018-08-09  \n",
       "1 2019-03-02 14:00:00 2019-03-02  \n",
       "2 2021-05-25 23:00:00 2021-05-25  \n",
       "\n",
       "[3 rows x 29 columns]"
      ]
     },
     "execution_count": 33,
     "metadata": {},
     "output_type": "execute_result"
    }
   ],
   "source": [
    "df['mydate'] = pd.to_datetime(df[[\"day\", \"month\", \"year\"]])\n",
    "df"
   ]
  },
  {
   "cell_type": "code",
   "execution_count": null,
   "metadata": {},
   "outputs": [],
   "source": []
  },
  {
   "cell_type": "markdown",
   "metadata": {},
   "source": [
    "# 5. Date Offsets\n",
    "- https://pandas.pydata.org/pandas-docs/stable/user_guide/timeseries.html#dateoffset-objects"
   ]
  },
  {
   "cell_type": "code",
   "execution_count": 34,
   "metadata": {},
   "outputs": [
    {
     "data": {
      "text/plain": [
       "Timestamp('2014-01-01 09:00:00')"
      ]
     },
     "execution_count": 34,
     "metadata": {},
     "output_type": "execute_result"
    },
    {
     "data": {
      "text/plain": [
       "pandas._libs.tslibs.timestamps.Timestamp"
      ]
     },
     "execution_count": 34,
     "metadata": {},
     "output_type": "execute_result"
    }
   ],
   "source": [
    "ts = pd.Timestamp(\"2014-01-01 09:00\")\n",
    "ts\n",
    "type(ts)"
   ]
  },
  {
   "cell_type": "code",
   "execution_count": 35,
   "metadata": {},
   "outputs": [
    {
     "data": {
      "text/plain": [
       "Timestamp('2014-01-01 00:00:00')"
      ]
     },
     "execution_count": 35,
     "metadata": {},
     "output_type": "execute_result"
    },
    {
     "data": {
      "text/plain": [
       "pandas._libs.tslibs.timestamps.Timestamp"
      ]
     },
     "execution_count": 35,
     "metadata": {},
     "output_type": "execute_result"
    }
   ],
   "source": [
    "ds = pd.to_datetime(\"2014-01-01\")\n",
    "ds\n",
    "type(ds)"
   ]
  },
  {
   "cell_type": "code",
   "execution_count": 36,
   "metadata": {},
   "outputs": [
    {
     "data": {
      "text/plain": [
       "'Wednesday'"
      ]
     },
     "execution_count": 36,
     "metadata": {},
     "output_type": "execute_result"
    },
    {
     "data": {
      "text/plain": [
       "'Wednesday'"
      ]
     },
     "execution_count": 36,
     "metadata": {},
     "output_type": "execute_result"
    }
   ],
   "source": [
    "ts.day_name()\n",
    "ds.day_name()"
   ]
  },
  {
   "cell_type": "markdown",
   "metadata": {},
   "source": [
    "### Reset dataframe df"
   ]
  },
  {
   "cell_type": "code",
   "execution_count": 41,
   "metadata": {},
   "outputs": [
    {
     "data": {
      "text/html": [
       "<div>\n",
       "<style scoped>\n",
       "    .dataframe tbody tr th:only-of-type {\n",
       "        vertical-align: middle;\n",
       "    }\n",
       "\n",
       "    .dataframe tbody tr th {\n",
       "        vertical-align: top;\n",
       "    }\n",
       "\n",
       "    .dataframe thead th {\n",
       "        text-align: right;\n",
       "    }\n",
       "</style>\n",
       "<table border=\"1\" class=\"dataframe\">\n",
       "  <thead>\n",
       "    <tr style=\"text-align: right;\">\n",
       "      <th></th>\n",
       "      <th>date</th>\n",
       "    </tr>\n",
       "  </thead>\n",
       "  <tbody>\n",
       "    <tr>\n",
       "      <th>0</th>\n",
       "      <td>2018-08-09 11:10:55</td>\n",
       "    </tr>\n",
       "    <tr>\n",
       "      <th>1</th>\n",
       "      <td>2019-03-02 13:15:21</td>\n",
       "    </tr>\n",
       "  </tbody>\n",
       "</table>\n",
       "</div>"
      ],
      "text/plain": [
       "                  date\n",
       "0  2018-08-09 11:10:55\n",
       "1  2019-03-02 13:15:21"
      ]
     },
     "execution_count": 41,
     "metadata": {},
     "output_type": "execute_result"
    },
    {
     "data": {
      "text/plain": [
       "date    object\n",
       "dtype: object"
      ]
     },
     "execution_count": 41,
     "metadata": {},
     "output_type": "execute_result"
    },
    {
     "data": {
      "text/html": [
       "<div>\n",
       "<style scoped>\n",
       "    .dataframe tbody tr th:only-of-type {\n",
       "        vertical-align: middle;\n",
       "    }\n",
       "\n",
       "    .dataframe tbody tr th {\n",
       "        vertical-align: top;\n",
       "    }\n",
       "\n",
       "    .dataframe thead th {\n",
       "        text-align: right;\n",
       "    }\n",
       "</style>\n",
       "<table border=\"1\" class=\"dataframe\">\n",
       "  <thead>\n",
       "    <tr style=\"text-align: right;\">\n",
       "      <th></th>\n",
       "      <th>date</th>\n",
       "    </tr>\n",
       "  </thead>\n",
       "  <tbody>\n",
       "    <tr>\n",
       "      <th>0</th>\n",
       "      <td>2018-08-09 11:10:55</td>\n",
       "    </tr>\n",
       "    <tr>\n",
       "      <th>1</th>\n",
       "      <td>2019-03-02 13:15:21</td>\n",
       "    </tr>\n",
       "    <tr>\n",
       "      <th>2</th>\n",
       "      <td>2021-05-25 22:43:17.024804</td>\n",
       "    </tr>\n",
       "  </tbody>\n",
       "</table>\n",
       "</div>"
      ],
      "text/plain": [
       "                         date\n",
       "0         2018-08-09 11:10:55\n",
       "1         2019-03-02 13:15:21\n",
       "2  2021-05-25 22:43:17.024804"
      ]
     },
     "execution_count": 41,
     "metadata": {},
     "output_type": "execute_result"
    },
    {
     "data": {
      "text/html": [
       "<div>\n",
       "<style scoped>\n",
       "    .dataframe tbody tr th:only-of-type {\n",
       "        vertical-align: middle;\n",
       "    }\n",
       "\n",
       "    .dataframe tbody tr th {\n",
       "        vertical-align: top;\n",
       "    }\n",
       "\n",
       "    .dataframe thead th {\n",
       "        text-align: right;\n",
       "    }\n",
       "</style>\n",
       "<table border=\"1\" class=\"dataframe\">\n",
       "  <thead>\n",
       "    <tr style=\"text-align: right;\">\n",
       "      <th></th>\n",
       "      <th>date</th>\n",
       "    </tr>\n",
       "  </thead>\n",
       "  <tbody>\n",
       "    <tr>\n",
       "      <th>0</th>\n",
       "      <td>2018-08-09 11:10:55.000000</td>\n",
       "    </tr>\n",
       "    <tr>\n",
       "      <th>1</th>\n",
       "      <td>2019-03-02 13:15:21.000000</td>\n",
       "    </tr>\n",
       "    <tr>\n",
       "      <th>2</th>\n",
       "      <td>2021-05-25 22:43:17.024804</td>\n",
       "    </tr>\n",
       "  </tbody>\n",
       "</table>\n",
       "</div>"
      ],
      "text/plain": [
       "                        date\n",
       "0 2018-08-09 11:10:55.000000\n",
       "1 2019-03-02 13:15:21.000000\n",
       "2 2021-05-25 22:43:17.024804"
      ]
     },
     "execution_count": 41,
     "metadata": {},
     "output_type": "execute_result"
    },
    {
     "data": {
      "text/plain": [
       "date    datetime64[ns]\n",
       "dtype: object"
      ]
     },
     "execution_count": 41,
     "metadata": {},
     "output_type": "execute_result"
    }
   ],
   "source": [
    "df = pd.DataFrame({'date': ['2018-08-09 11:10:55','2019-03-02 13:15:21']})\n",
    "df\n",
    "df.dtypes\n",
    "df.loc[len(df.index)] = [dt.datetime.now()]\n",
    "df\n",
    "df['date'] = pd.to_datetime(df['date'])\n",
    "df\n",
    "df.dtypes"
   ]
  },
  {
   "cell_type": "markdown",
   "metadata": {},
   "source": [
    "- **https://pandas.pydata.org/pandas-docs/stable/reference/api/pandas.tseries.offsets.DateOffset.html**"
   ]
  },
  {
   "cell_type": "code",
   "execution_count": 45,
   "metadata": {},
   "outputs": [
    {
     "data": {
      "text/html": [
       "<div>\n",
       "<style scoped>\n",
       "    .dataframe tbody tr th:only-of-type {\n",
       "        vertical-align: middle;\n",
       "    }\n",
       "\n",
       "    .dataframe tbody tr th {\n",
       "        vertical-align: top;\n",
       "    }\n",
       "\n",
       "    .dataframe thead th {\n",
       "        text-align: right;\n",
       "    }\n",
       "</style>\n",
       "<table border=\"1\" class=\"dataframe\">\n",
       "  <thead>\n",
       "    <tr style=\"text-align: right;\">\n",
       "      <th></th>\n",
       "      <th>date</th>\n",
       "      <th>Off_Years</th>\n",
       "      <th>Off_Months</th>\n",
       "      <th>Off_Days</th>\n",
       "      <th>Off_Weeks</th>\n",
       "      <th>Off_Hours</th>\n",
       "      <th>Off_Mins</th>\n",
       "      <th>Off_Secs</th>\n",
       "      <th>Off_MilliSecs</th>\n",
       "    </tr>\n",
       "  </thead>\n",
       "  <tbody>\n",
       "    <tr>\n",
       "      <th>0</th>\n",
       "      <td>2018-08-09 11:10:55.000000</td>\n",
       "      <td>2020-08-09 11:10:55.000000</td>\n",
       "      <td>2018-10-09 11:10:55.000000</td>\n",
       "      <td>2018-08-11 11:10:55.000000</td>\n",
       "      <td>2018-08-23 11:10:55.000000</td>\n",
       "      <td>2018-08-09 13:10:55.000000</td>\n",
       "      <td>2018-08-09 11:12:55.000000</td>\n",
       "      <td>2018-08-09 11:10:57.000000</td>\n",
       "      <td>2018-08-09 11:10:55.002000</td>\n",
       "    </tr>\n",
       "    <tr>\n",
       "      <th>1</th>\n",
       "      <td>2019-03-02 13:15:21.000000</td>\n",
       "      <td>2021-03-02 13:15:21.000000</td>\n",
       "      <td>2019-05-02 13:15:21.000000</td>\n",
       "      <td>2019-03-04 13:15:21.000000</td>\n",
       "      <td>2019-03-16 13:15:21.000000</td>\n",
       "      <td>2019-03-02 15:15:21.000000</td>\n",
       "      <td>2019-03-02 13:17:21.000000</td>\n",
       "      <td>2019-03-02 13:15:23.000000</td>\n",
       "      <td>2019-03-02 13:15:21.002000</td>\n",
       "    </tr>\n",
       "    <tr>\n",
       "      <th>2</th>\n",
       "      <td>2021-05-25 22:43:17.024804</td>\n",
       "      <td>2023-05-25 22:43:17.024804</td>\n",
       "      <td>2021-07-25 22:43:17.024804</td>\n",
       "      <td>2021-05-27 22:43:17.024804</td>\n",
       "      <td>2021-06-08 22:43:17.024804</td>\n",
       "      <td>2021-05-26 00:43:17.024804</td>\n",
       "      <td>2021-05-25 22:45:17.024804</td>\n",
       "      <td>2021-05-25 22:43:19.024804</td>\n",
       "      <td>2021-05-25 22:43:17.026804</td>\n",
       "    </tr>\n",
       "  </tbody>\n",
       "</table>\n",
       "</div>"
      ],
      "text/plain": [
       "                        date                  Off_Years  \\\n",
       "0 2018-08-09 11:10:55.000000 2020-08-09 11:10:55.000000   \n",
       "1 2019-03-02 13:15:21.000000 2021-03-02 13:15:21.000000   \n",
       "2 2021-05-25 22:43:17.024804 2023-05-25 22:43:17.024804   \n",
       "\n",
       "                  Off_Months                   Off_Days  \\\n",
       "0 2018-10-09 11:10:55.000000 2018-08-11 11:10:55.000000   \n",
       "1 2019-05-02 13:15:21.000000 2019-03-04 13:15:21.000000   \n",
       "2 2021-07-25 22:43:17.024804 2021-05-27 22:43:17.024804   \n",
       "\n",
       "                   Off_Weeks                  Off_Hours  \\\n",
       "0 2018-08-23 11:10:55.000000 2018-08-09 13:10:55.000000   \n",
       "1 2019-03-16 13:15:21.000000 2019-03-02 15:15:21.000000   \n",
       "2 2021-06-08 22:43:17.024804 2021-05-26 00:43:17.024804   \n",
       "\n",
       "                    Off_Mins                   Off_Secs  \\\n",
       "0 2018-08-09 11:12:55.000000 2018-08-09 11:10:57.000000   \n",
       "1 2019-03-02 13:17:21.000000 2019-03-02 13:15:23.000000   \n",
       "2 2021-05-25 22:45:17.024804 2021-05-25 22:43:19.024804   \n",
       "\n",
       "               Off_MilliSecs  \n",
       "0 2018-08-09 11:10:55.002000  \n",
       "1 2019-03-02 13:15:21.002000  \n",
       "2 2021-05-25 22:43:17.026804  "
      ]
     },
     "execution_count": 45,
     "metadata": {},
     "output_type": "execute_result"
    },
    {
     "data": {
      "text/plain": [
       "date             datetime64[ns]\n",
       "Off_Years        datetime64[ns]\n",
       "Off_Months       datetime64[ns]\n",
       "Off_Days         datetime64[ns]\n",
       "Off_Weeks        datetime64[ns]\n",
       "Off_Hours        datetime64[ns]\n",
       "Off_Mins         datetime64[ns]\n",
       "Off_Secs         datetime64[ns]\n",
       "Off_MilliSecs    datetime64[ns]\n",
       "dtype: object"
      ]
     },
     "execution_count": 45,
     "metadata": {},
     "output_type": "execute_result"
    }
   ],
   "source": [
    "df['Off_Years'] =  df['date'] + pd.DateOffset(years=2)\n",
    "df['Off_Months'] =  df['date'] + pd.DateOffset(months=2)\n",
    "df['Off_Days'] =  df['date'] + pd.DateOffset(days=2)\n",
    "df['Off_Weeks'] =  df['date'] + pd.DateOffset(weeks=2)\n",
    "df['Off_Hours'] =  df['date'] + pd.DateOffset(hours=2)\n",
    "df['Off_Mins'] =  df['date'] + pd.DateOffset(minutes=2)\n",
    "df['Off_Secs'] =  df['date'] + pd.DateOffset(seconds=2)\n",
    "df['Off_MilliSecs'] =  df['date'] + pd.DateOffset(milliseconds=2)\n",
    "df\n",
    "df.dtypes"
   ]
  },
  {
   "cell_type": "markdown",
   "metadata": {},
   "source": [
    "### Reset dataframe df"
   ]
  },
  {
   "cell_type": "code",
   "execution_count": 49,
   "metadata": {},
   "outputs": [
    {
     "data": {
      "text/html": [
       "<div>\n",
       "<style scoped>\n",
       "    .dataframe tbody tr th:only-of-type {\n",
       "        vertical-align: middle;\n",
       "    }\n",
       "\n",
       "    .dataframe tbody tr th {\n",
       "        vertical-align: top;\n",
       "    }\n",
       "\n",
       "    .dataframe thead th {\n",
       "        text-align: right;\n",
       "    }\n",
       "</style>\n",
       "<table border=\"1\" class=\"dataframe\">\n",
       "  <thead>\n",
       "    <tr style=\"text-align: right;\">\n",
       "      <th></th>\n",
       "      <th>date</th>\n",
       "    </tr>\n",
       "  </thead>\n",
       "  <tbody>\n",
       "    <tr>\n",
       "      <th>0</th>\n",
       "      <td>2018-08-09 11:10:55</td>\n",
       "    </tr>\n",
       "    <tr>\n",
       "      <th>1</th>\n",
       "      <td>2019-03-02 13:15:21</td>\n",
       "    </tr>\n",
       "  </tbody>\n",
       "</table>\n",
       "</div>"
      ],
      "text/plain": [
       "                  date\n",
       "0  2018-08-09 11:10:55\n",
       "1  2019-03-02 13:15:21"
      ]
     },
     "execution_count": 49,
     "metadata": {},
     "output_type": "execute_result"
    },
    {
     "data": {
      "text/plain": [
       "date    object\n",
       "dtype: object"
      ]
     },
     "execution_count": 49,
     "metadata": {},
     "output_type": "execute_result"
    },
    {
     "data": {
      "text/html": [
       "<div>\n",
       "<style scoped>\n",
       "    .dataframe tbody tr th:only-of-type {\n",
       "        vertical-align: middle;\n",
       "    }\n",
       "\n",
       "    .dataframe tbody tr th {\n",
       "        vertical-align: top;\n",
       "    }\n",
       "\n",
       "    .dataframe thead th {\n",
       "        text-align: right;\n",
       "    }\n",
       "</style>\n",
       "<table border=\"1\" class=\"dataframe\">\n",
       "  <thead>\n",
       "    <tr style=\"text-align: right;\">\n",
       "      <th></th>\n",
       "      <th>date</th>\n",
       "    </tr>\n",
       "  </thead>\n",
       "  <tbody>\n",
       "    <tr>\n",
       "      <th>0</th>\n",
       "      <td>2018-08-09 11:10:55</td>\n",
       "    </tr>\n",
       "    <tr>\n",
       "      <th>1</th>\n",
       "      <td>2019-03-02 13:15:21</td>\n",
       "    </tr>\n",
       "    <tr>\n",
       "      <th>2</th>\n",
       "      <td>2021-05-25 23:05:04.163623</td>\n",
       "    </tr>\n",
       "  </tbody>\n",
       "</table>\n",
       "</div>"
      ],
      "text/plain": [
       "                         date\n",
       "0         2018-08-09 11:10:55\n",
       "1         2019-03-02 13:15:21\n",
       "2  2021-05-25 23:05:04.163623"
      ]
     },
     "execution_count": 49,
     "metadata": {},
     "output_type": "execute_result"
    },
    {
     "data": {
      "text/html": [
       "<div>\n",
       "<style scoped>\n",
       "    .dataframe tbody tr th:only-of-type {\n",
       "        vertical-align: middle;\n",
       "    }\n",
       "\n",
       "    .dataframe tbody tr th {\n",
       "        vertical-align: top;\n",
       "    }\n",
       "\n",
       "    .dataframe thead th {\n",
       "        text-align: right;\n",
       "    }\n",
       "</style>\n",
       "<table border=\"1\" class=\"dataframe\">\n",
       "  <thead>\n",
       "    <tr style=\"text-align: right;\">\n",
       "      <th></th>\n",
       "      <th>date</th>\n",
       "    </tr>\n",
       "  </thead>\n",
       "  <tbody>\n",
       "    <tr>\n",
       "      <th>0</th>\n",
       "      <td>2018-08-09 11:10:55.000000</td>\n",
       "    </tr>\n",
       "    <tr>\n",
       "      <th>1</th>\n",
       "      <td>2019-03-02 13:15:21.000000</td>\n",
       "    </tr>\n",
       "    <tr>\n",
       "      <th>2</th>\n",
       "      <td>2021-05-25 23:05:04.163623</td>\n",
       "    </tr>\n",
       "  </tbody>\n",
       "</table>\n",
       "</div>"
      ],
      "text/plain": [
       "                        date\n",
       "0 2018-08-09 11:10:55.000000\n",
       "1 2019-03-02 13:15:21.000000\n",
       "2 2021-05-25 23:05:04.163623"
      ]
     },
     "execution_count": 49,
     "metadata": {},
     "output_type": "execute_result"
    },
    {
     "data": {
      "text/plain": [
       "date    datetime64[ns]\n",
       "dtype: object"
      ]
     },
     "execution_count": 49,
     "metadata": {},
     "output_type": "execute_result"
    }
   ],
   "source": [
    "df = pd.DataFrame({'date': ['2018-08-09 11:10:55','2019-03-02 13:15:21']})\n",
    "df\n",
    "df.dtypes\n",
    "df.loc[len(df.index)] = [dt.datetime.now()]\n",
    "df\n",
    "df['date'] = pd.to_datetime(df['date'])\n",
    "df\n",
    "df.dtypes"
   ]
  },
  {
   "cell_type": "markdown",
   "metadata": {},
   "source": [
    "### The below code increment/decrement the date values based on +ve/-ve signs.\n",
    "The Offset Unit is provided as method\n",
    "\n",
    "- **https://pandas.pydata.org/pandas-docs/stable/reference/offset_frequency.html**"
   ]
  },
  {
   "cell_type": "code",
   "execution_count": 50,
   "metadata": {},
   "outputs": [
    {
     "data": {
      "text/html": [
       "<div>\n",
       "<style scoped>\n",
       "    .dataframe tbody tr th:only-of-type {\n",
       "        vertical-align: middle;\n",
       "    }\n",
       "\n",
       "    .dataframe tbody tr th {\n",
       "        vertical-align: top;\n",
       "    }\n",
       "\n",
       "    .dataframe thead th {\n",
       "        text-align: right;\n",
       "    }\n",
       "</style>\n",
       "<table border=\"1\" class=\"dataframe\">\n",
       "  <thead>\n",
       "    <tr style=\"text-align: right;\">\n",
       "      <th></th>\n",
       "      <th>date</th>\n",
       "      <th>Off_Years_End</th>\n",
       "      <th>Off_Years_Begin</th>\n",
       "      <th>Off_Months_End</th>\n",
       "      <th>Off_Months_Begin</th>\n",
       "      <th>Off_Quarter_End</th>\n",
       "      <th>Off_Quarter_Begin</th>\n",
       "      <th>Off_Weeks</th>\n",
       "      <th>Off_Days</th>\n",
       "      <th>Off_Bdays</th>\n",
       "      <th>Off_Hours</th>\n",
       "      <th>Off_Mins</th>\n",
       "      <th>Off_Secs</th>\n",
       "    </tr>\n",
       "  </thead>\n",
       "  <tbody>\n",
       "    <tr>\n",
       "      <th>0</th>\n",
       "      <td>2018-08-09 11:10:55.000000</td>\n",
       "      <td>2016-12-31 11:10:55.000000</td>\n",
       "      <td>2020-01-01 11:10:55.000000</td>\n",
       "      <td>2018-09-30 11:10:55.000000</td>\n",
       "      <td>2018-10-01 11:10:55.000000</td>\n",
       "      <td>2018-12-31 11:10:55.000000</td>\n",
       "      <td>2018-12-01 11:10:55.000000</td>\n",
       "      <td>2018-08-23 11:10:55.000000</td>\n",
       "      <td>2018-08-11 11:10:55.000000</td>\n",
       "      <td>2018-08-13 11:10:55.000000</td>\n",
       "      <td>2018-08-09 13:10:55.000000</td>\n",
       "      <td>2018-08-09 11:12:55.000000</td>\n",
       "      <td>2018-08-09 11:10:57.000000</td>\n",
       "    </tr>\n",
       "    <tr>\n",
       "      <th>1</th>\n",
       "      <td>2019-03-02 13:15:21.000000</td>\n",
       "      <td>2017-12-31 13:15:21.000000</td>\n",
       "      <td>2021-01-01 13:15:21.000000</td>\n",
       "      <td>2019-04-30 13:15:21.000000</td>\n",
       "      <td>2019-05-01 13:15:21.000000</td>\n",
       "      <td>2019-06-30 13:15:21.000000</td>\n",
       "      <td>2019-09-01 13:15:21.000000</td>\n",
       "      <td>2019-03-16 13:15:21.000000</td>\n",
       "      <td>2019-03-04 13:15:21.000000</td>\n",
       "      <td>2019-03-05 13:15:21.000000</td>\n",
       "      <td>2019-03-02 15:15:21.000000</td>\n",
       "      <td>2019-03-02 13:17:21.000000</td>\n",
       "      <td>2019-03-02 13:15:23.000000</td>\n",
       "    </tr>\n",
       "    <tr>\n",
       "      <th>2</th>\n",
       "      <td>2021-05-25 23:05:04.163623</td>\n",
       "      <td>2019-12-31 23:05:04.163623</td>\n",
       "      <td>2023-01-01 23:05:04.163623</td>\n",
       "      <td>2021-06-30 23:05:04.163623</td>\n",
       "      <td>2021-07-01 23:05:04.163623</td>\n",
       "      <td>2021-09-30 23:05:04.163623</td>\n",
       "      <td>2021-09-01 23:05:04.163623</td>\n",
       "      <td>2021-06-08 23:05:04.163623</td>\n",
       "      <td>2021-05-27 23:05:04.163623</td>\n",
       "      <td>2021-05-27 23:05:04.163623</td>\n",
       "      <td>2021-05-26 01:05:04.163623</td>\n",
       "      <td>2021-05-25 23:07:04.163623</td>\n",
       "      <td>2021-05-25 23:05:06.163623</td>\n",
       "    </tr>\n",
       "  </tbody>\n",
       "</table>\n",
       "</div>"
      ],
      "text/plain": [
       "                        date              Off_Years_End  \\\n",
       "0 2018-08-09 11:10:55.000000 2016-12-31 11:10:55.000000   \n",
       "1 2019-03-02 13:15:21.000000 2017-12-31 13:15:21.000000   \n",
       "2 2021-05-25 23:05:04.163623 2019-12-31 23:05:04.163623   \n",
       "\n",
       "             Off_Years_Begin             Off_Months_End  \\\n",
       "0 2020-01-01 11:10:55.000000 2018-09-30 11:10:55.000000   \n",
       "1 2021-01-01 13:15:21.000000 2019-04-30 13:15:21.000000   \n",
       "2 2023-01-01 23:05:04.163623 2021-06-30 23:05:04.163623   \n",
       "\n",
       "            Off_Months_Begin            Off_Quarter_End  \\\n",
       "0 2018-10-01 11:10:55.000000 2018-12-31 11:10:55.000000   \n",
       "1 2019-05-01 13:15:21.000000 2019-06-30 13:15:21.000000   \n",
       "2 2021-07-01 23:05:04.163623 2021-09-30 23:05:04.163623   \n",
       "\n",
       "           Off_Quarter_Begin                  Off_Weeks  \\\n",
       "0 2018-12-01 11:10:55.000000 2018-08-23 11:10:55.000000   \n",
       "1 2019-09-01 13:15:21.000000 2019-03-16 13:15:21.000000   \n",
       "2 2021-09-01 23:05:04.163623 2021-06-08 23:05:04.163623   \n",
       "\n",
       "                    Off_Days                  Off_Bdays  \\\n",
       "0 2018-08-11 11:10:55.000000 2018-08-13 11:10:55.000000   \n",
       "1 2019-03-04 13:15:21.000000 2019-03-05 13:15:21.000000   \n",
       "2 2021-05-27 23:05:04.163623 2021-05-27 23:05:04.163623   \n",
       "\n",
       "                   Off_Hours                   Off_Mins  \\\n",
       "0 2018-08-09 13:10:55.000000 2018-08-09 11:12:55.000000   \n",
       "1 2019-03-02 15:15:21.000000 2019-03-02 13:17:21.000000   \n",
       "2 2021-05-26 01:05:04.163623 2021-05-25 23:07:04.163623   \n",
       "\n",
       "                    Off_Secs  \n",
       "0 2018-08-09 11:10:57.000000  \n",
       "1 2019-03-02 13:15:23.000000  \n",
       "2 2021-05-25 23:05:06.163623  "
      ]
     },
     "execution_count": 50,
     "metadata": {},
     "output_type": "execute_result"
    },
    {
     "data": {
      "text/plain": [
       "date                 datetime64[ns]\n",
       "Off_Years_End        datetime64[ns]\n",
       "Off_Years_Begin      datetime64[ns]\n",
       "Off_Months_End       datetime64[ns]\n",
       "Off_Months_Begin     datetime64[ns]\n",
       "Off_Quarter_End      datetime64[ns]\n",
       "Off_Quarter_Begin    datetime64[ns]\n",
       "Off_Weeks            datetime64[ns]\n",
       "Off_Days             datetime64[ns]\n",
       "Off_Bdays            datetime64[ns]\n",
       "Off_Hours            datetime64[ns]\n",
       "Off_Mins             datetime64[ns]\n",
       "Off_Secs             datetime64[ns]\n",
       "dtype: object"
      ]
     },
     "execution_count": 50,
     "metadata": {},
     "output_type": "execute_result"
    }
   ],
   "source": [
    "df['Off_Years_End'] =  df['date'] + -2*pd.offsets.YearEnd()\n",
    "df['Off_Years_Begin'] =  df['date'] + 2*pd.offsets.YearBegin()\n",
    "df['Off_Months_End'] =  df['date'] + 2*pd.offsets.MonthEnd()\n",
    "df['Off_Months_Begin'] =  df['date'] + 2*pd.offsets.MonthBegin()\n",
    "df['Off_Quarter_End'] =  df['date'] + 2*pd.offsets.QuarterEnd()\n",
    "df['Off_Quarter_Begin'] =  df['date'] + 2*pd.offsets.QuarterBegin()\n",
    "df['Off_Weeks'] =  df['date'] + 2*pd.offsets.Week()\n",
    "df['Off_Days'] =  df['date'] + 2*pd.offsets.Day()\n",
    "df['Off_Bdays'] =  df['date'] + 2*pd.offsets.BDay()\n",
    "df['Off_Hours'] =  df['date'] + 2*pd.offsets.Hour()\n",
    "df['Off_Mins'] =  df['date'] + 2*pd.offsets.Minute()\n",
    "df['Off_Secs'] =  df['date'] + 2*pd.offsets.Second()\n",
    "\n",
    "\n",
    "df\n",
    "df.dtypes"
   ]
  },
  {
   "cell_type": "code",
   "execution_count": null,
   "metadata": {},
   "outputs": [],
   "source": []
  }
 ],
 "metadata": {
  "jupytext": {
   "formats": "ipynb,py"
  },
  "kernelspec": {
   "display_name": "Python 3",
   "language": "python",
   "name": "python3"
  },
  "language_info": {
   "codemirror_mode": {
    "name": "ipython",
    "version": 3
   },
   "file_extension": ".py",
   "mimetype": "text/x-python",
   "name": "python",
   "nbconvert_exporter": "python",
   "pygments_lexer": "ipython3",
   "version": "3.8.5"
  }
 },
 "nbformat": 4,
 "nbformat_minor": 4
}
