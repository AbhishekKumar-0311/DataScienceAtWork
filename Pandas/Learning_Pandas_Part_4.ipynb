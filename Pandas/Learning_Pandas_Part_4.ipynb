{
 "cells": [
  {
   "cell_type": "markdown",
   "metadata": {},
   "source": [
    "### Prepared by Abhishek Kumar\n",
    "### https://www.linkedin.com/in/abhishek-kumar-442337b2/\n"
   ]
  },
  {
   "cell_type": "code",
   "execution_count": 1,
   "metadata": {},
   "outputs": [],
   "source": [
    "import pandas as pd\n",
    "import numpy as np\n",
    "import matplotlib.pyplot as plt"
   ]
  },
  {
   "cell_type": "code",
   "execution_count": 2,
   "metadata": {},
   "outputs": [],
   "source": [
    "# To get multiple outputs in the same cell\n",
    "\n",
    "from IPython.core.interactiveshell import InteractiveShell\n",
    "InteractiveShell.ast_node_interactivity = \"all\"\n",
    "\n",
    "%matplotlib inline"
   ]
  },
  {
   "cell_type": "code",
   "execution_count": 3,
   "metadata": {},
   "outputs": [
    {
     "data": {
      "text/html": [
       "<div>\n",
       "<style scoped>\n",
       "    .dataframe tbody tr th:only-of-type {\n",
       "        vertical-align: middle;\n",
       "    }\n",
       "\n",
       "    .dataframe tbody tr th {\n",
       "        vertical-align: top;\n",
       "    }\n",
       "\n",
       "    .dataframe thead th {\n",
       "        text-align: right;\n",
       "    }\n",
       "</style>\n",
       "<table border=\"1\" class=\"dataframe\">\n",
       "  <thead>\n",
       "    <tr style=\"text-align: right;\">\n",
       "      <th></th>\n",
       "      <th>Emp_Id</th>\n",
       "      <th>Emp_Name</th>\n",
       "      <th>Department</th>\n",
       "      <th>Role</th>\n",
       "      <th>Gender</th>\n",
       "      <th>WFH Status</th>\n",
       "      <th>DOB</th>\n",
       "      <th>Salary</th>\n",
       "    </tr>\n",
       "  </thead>\n",
       "  <tbody>\n",
       "    <tr>\n",
       "      <td>0</td>\n",
       "      <td>1</td>\n",
       "      <td>Abhishek Kumar</td>\n",
       "      <td>AIML</td>\n",
       "      <td>Machine Learning Engineer</td>\n",
       "      <td>M</td>\n",
       "      <td>Y</td>\n",
       "      <td>04051990</td>\n",
       "      <td>1121000.0</td>\n",
       "    </tr>\n",
       "    <tr>\n",
       "      <td>1</td>\n",
       "      <td>2</td>\n",
       "      <td>Arjun Kumar</td>\n",
       "      <td>DM</td>\n",
       "      <td>Tech Lead</td>\n",
       "      <td>M</td>\n",
       "      <td>Y</td>\n",
       "      <td>09031992</td>\n",
       "      <td>109000.0</td>\n",
       "    </tr>\n",
       "    <tr>\n",
       "      <td>2</td>\n",
       "      <td>3</td>\n",
       "      <td>Vivek Raj</td>\n",
       "      <td>DM</td>\n",
       "      <td>Devops Engineer</td>\n",
       "      <td>M</td>\n",
       "      <td>N</td>\n",
       "      <td>NaN</td>\n",
       "      <td>827000.0</td>\n",
       "    </tr>\n",
       "    <tr>\n",
       "      <td>3</td>\n",
       "      <td>4</td>\n",
       "      <td>Mika Singh</td>\n",
       "      <td>DM</td>\n",
       "      <td>Data Analyst</td>\n",
       "      <td>F</td>\n",
       "      <td>Y</td>\n",
       "      <td>15101991</td>\n",
       "      <td>NaN</td>\n",
       "    </tr>\n",
       "    <tr>\n",
       "      <td>4</td>\n",
       "      <td>5</td>\n",
       "      <td>Anusha Yenduri</td>\n",
       "      <td>AIML</td>\n",
       "      <td>Data Scientist</td>\n",
       "      <td>F</td>\n",
       "      <td>Y</td>\n",
       "      <td>01011989</td>\n",
       "      <td>921000.0</td>\n",
       "    </tr>\n",
       "    <tr>\n",
       "      <td>5</td>\n",
       "      <td>6</td>\n",
       "      <td>Ritesh Srivastava</td>\n",
       "      <td>AIML</td>\n",
       "      <td>Data Engineer</td>\n",
       "      <td>M</td>\n",
       "      <td>Y</td>\n",
       "      <td>NaN</td>\n",
       "      <td>785000.0</td>\n",
       "    </tr>\n",
       "  </tbody>\n",
       "</table>\n",
       "</div>"
      ],
      "text/plain": [
       "  Emp_Id           Emp_Name Department                       Role Gender  \\\n",
       "0      1     Abhishek Kumar       AIML  Machine Learning Engineer      M   \n",
       "1      2        Arjun Kumar         DM                  Tech Lead      M   \n",
       "2      3          Vivek Raj         DM            Devops Engineer      M   \n",
       "3      4         Mika Singh         DM               Data Analyst      F   \n",
       "4      5     Anusha Yenduri       AIML             Data Scientist      F   \n",
       "5      6  Ritesh Srivastava       AIML              Data Engineer      M   \n",
       "\n",
       "  WFH Status       DOB     Salary  \n",
       "0          Y  04051990  1121000.0  \n",
       "1          Y  09031992   109000.0  \n",
       "2          N       NaN   827000.0  \n",
       "3          Y  15101991        NaN  \n",
       "4          Y  01011989   921000.0  \n",
       "5          Y       NaN   785000.0  "
      ]
     },
     "execution_count": 3,
     "metadata": {},
     "output_type": "execute_result"
    }
   ],
   "source": [
    "# Setup : DataFrame creation\n",
    "\n",
    "salary = [['1','Abhishek Kumar','AIML', 'Machine Learning Engineer','M', 'Y', '04051990', 1121000],\n",
    "          ['2','Arjun Kumar','DM', 'Tech Lead','M', 'Y', '09031992', 109000],\n",
    "          ['3','Vivek Raj','DM', 'Devops Engineer','M', 'N', np.NaN , 827000],\n",
    "          ['4','Mika Singh','DM', 'Data Analyst','F', 'Y', '15101991',  np.NaN],\n",
    "          ['5','Anusha Yenduri','AIML', 'Data Scientist','F', 'Y', '01011989',  921000],\n",
    "          ['6','Ritesh Srivastava','AIML', 'Data Engineer','M', 'Y', np.NaN, 785000]]\n",
    "\n",
    "columns_name=['Emp_Id','Emp_Name','Department','Role','Gender', 'WFH Status', 'DOB', 'Salary']\n",
    "\n",
    "emp_df = pd.DataFrame(salary,columns=columns_name)\n",
    "emp_df"
   ]
  },
  {
   "cell_type": "markdown",
   "metadata": {},
   "source": [
    "# 1. Group By: Split-Apply-Combine\n",
    "\n",
    "\n",
    "    i. df.groupby()\n",
    "    ii. .apply() , .agg(), .filter()\n",
    "    iii. "
   ]
  },
  {
   "cell_type": "code",
   "execution_count": 4,
   "metadata": {},
   "outputs": [
    {
     "data": {
      "text/html": [
       "<div>\n",
       "<style scoped>\n",
       "    .dataframe tbody tr th:only-of-type {\n",
       "        vertical-align: middle;\n",
       "    }\n",
       "\n",
       "    .dataframe tbody tr th {\n",
       "        vertical-align: top;\n",
       "    }\n",
       "\n",
       "    .dataframe thead th {\n",
       "        text-align: right;\n",
       "    }\n",
       "</style>\n",
       "<table border=\"1\" class=\"dataframe\">\n",
       "  <thead>\n",
       "    <tr style=\"text-align: right;\">\n",
       "      <th></th>\n",
       "      <th>Emp_Id</th>\n",
       "      <th>Emp_Name</th>\n",
       "      <th>Department</th>\n",
       "      <th>Role</th>\n",
       "      <th>Gender</th>\n",
       "      <th>WFH Status</th>\n",
       "      <th>DOB</th>\n",
       "      <th>Salary</th>\n",
       "    </tr>\n",
       "  </thead>\n",
       "  <tbody>\n",
       "    <tr>\n",
       "      <td>0</td>\n",
       "      <td>1</td>\n",
       "      <td>Abhishek Kumar</td>\n",
       "      <td>AIML</td>\n",
       "      <td>Machine Learning Engineer</td>\n",
       "      <td>M</td>\n",
       "      <td>Y</td>\n",
       "      <td>04051990</td>\n",
       "      <td>1121000.0</td>\n",
       "    </tr>\n",
       "    <tr>\n",
       "      <td>1</td>\n",
       "      <td>2</td>\n",
       "      <td>Arjun Kumar</td>\n",
       "      <td>DM</td>\n",
       "      <td>Tech Lead</td>\n",
       "      <td>M</td>\n",
       "      <td>Y</td>\n",
       "      <td>09031992</td>\n",
       "      <td>109000.0</td>\n",
       "    </tr>\n",
       "    <tr>\n",
       "      <td>2</td>\n",
       "      <td>3</td>\n",
       "      <td>Vivek Raj</td>\n",
       "      <td>DM</td>\n",
       "      <td>Devops Engineer</td>\n",
       "      <td>M</td>\n",
       "      <td>N</td>\n",
       "      <td>NaN</td>\n",
       "      <td>827000.0</td>\n",
       "    </tr>\n",
       "    <tr>\n",
       "      <td>3</td>\n",
       "      <td>4</td>\n",
       "      <td>Mika Singh</td>\n",
       "      <td>DM</td>\n",
       "      <td>Data Analyst</td>\n",
       "      <td>F</td>\n",
       "      <td>Y</td>\n",
       "      <td>15101991</td>\n",
       "      <td>NaN</td>\n",
       "    </tr>\n",
       "    <tr>\n",
       "      <td>4</td>\n",
       "      <td>5</td>\n",
       "      <td>Anusha Yenduri</td>\n",
       "      <td>AIML</td>\n",
       "      <td>Data Scientist</td>\n",
       "      <td>F</td>\n",
       "      <td>Y</td>\n",
       "      <td>01011989</td>\n",
       "      <td>921000.0</td>\n",
       "    </tr>\n",
       "    <tr>\n",
       "      <td>5</td>\n",
       "      <td>6</td>\n",
       "      <td>Ritesh Srivastava</td>\n",
       "      <td>AIML</td>\n",
       "      <td>Data Engineer</td>\n",
       "      <td>M</td>\n",
       "      <td>Y</td>\n",
       "      <td>NaN</td>\n",
       "      <td>785000.0</td>\n",
       "    </tr>\n",
       "  </tbody>\n",
       "</table>\n",
       "</div>"
      ],
      "text/plain": [
       "  Emp_Id           Emp_Name Department                       Role Gender  \\\n",
       "0      1     Abhishek Kumar       AIML  Machine Learning Engineer      M   \n",
       "1      2        Arjun Kumar         DM                  Tech Lead      M   \n",
       "2      3          Vivek Raj         DM            Devops Engineer      M   \n",
       "3      4         Mika Singh         DM               Data Analyst      F   \n",
       "4      5     Anusha Yenduri       AIML             Data Scientist      F   \n",
       "5      6  Ritesh Srivastava       AIML              Data Engineer      M   \n",
       "\n",
       "  WFH Status       DOB     Salary  \n",
       "0          Y  04051990  1121000.0  \n",
       "1          Y  09031992   109000.0  \n",
       "2          N       NaN   827000.0  \n",
       "3          Y  15101991        NaN  \n",
       "4          Y  01011989   921000.0  \n",
       "5          Y       NaN   785000.0  "
      ]
     },
     "execution_count": 4,
     "metadata": {},
     "output_type": "execute_result"
    }
   ],
   "source": [
    "emp_df_1 = emp_df.copy()\n",
    "emp_df_1"
   ]
  },
  {
   "cell_type": "code",
   "execution_count": 5,
   "metadata": {},
   "outputs": [
    {
     "data": {
      "text/plain": [
       "<pandas.core.groupby.generic.DataFrameGroupBy object at 0x0000022B42B86308>"
      ]
     },
     "execution_count": 5,
     "metadata": {},
     "output_type": "execute_result"
    }
   ],
   "source": [
    "grouped_1 = emp_df_1.groupby('Department')\n",
    "grouped_1"
   ]
  },
  {
   "cell_type": "markdown",
   "metadata": {},
   "source": [
    "## 1.1 Meta Methods\n",
    "\n",
    "    Meta methods are less concerned with the original object on which .groupby() is called.\n",
    "    Mainly provide high-level information such as the number of groups and indices of those groups."
   ]
  },
  {
   "cell_type": "code",
   "execution_count": 6,
   "metadata": {},
   "outputs": [
    {
     "data": {
      "text/plain": [
       "{'AIML': Int64Index([0, 4, 5], dtype='int64'),\n",
       " 'DM': Int64Index([1, 2, 3], dtype='int64')}"
      ]
     },
     "execution_count": 6,
     "metadata": {},
     "output_type": "execute_result"
    }
   ],
   "source": [
    "grouped_1.groups"
   ]
  },
  {
   "cell_type": "code",
   "execution_count": 7,
   "metadata": {},
   "outputs": [
    {
     "data": {
      "text/html": [
       "<div>\n",
       "<style scoped>\n",
       "    .dataframe tbody tr th:only-of-type {\n",
       "        vertical-align: middle;\n",
       "    }\n",
       "\n",
       "    .dataframe tbody tr th {\n",
       "        vertical-align: top;\n",
       "    }\n",
       "\n",
       "    .dataframe thead th {\n",
       "        text-align: right;\n",
       "    }\n",
       "</style>\n",
       "<table border=\"1\" class=\"dataframe\">\n",
       "  <thead>\n",
       "    <tr style=\"text-align: right;\">\n",
       "      <th></th>\n",
       "      <th>Emp_Id</th>\n",
       "      <th>Emp_Name</th>\n",
       "      <th>Department</th>\n",
       "      <th>Role</th>\n",
       "      <th>Gender</th>\n",
       "      <th>WFH Status</th>\n",
       "      <th>DOB</th>\n",
       "      <th>Salary</th>\n",
       "    </tr>\n",
       "  </thead>\n",
       "  <tbody>\n",
       "    <tr>\n",
       "      <td>1</td>\n",
       "      <td>2</td>\n",
       "      <td>Arjun Kumar</td>\n",
       "      <td>DM</td>\n",
       "      <td>Tech Lead</td>\n",
       "      <td>M</td>\n",
       "      <td>Y</td>\n",
       "      <td>09031992</td>\n",
       "      <td>109000.0</td>\n",
       "    </tr>\n",
       "    <tr>\n",
       "      <td>2</td>\n",
       "      <td>3</td>\n",
       "      <td>Vivek Raj</td>\n",
       "      <td>DM</td>\n",
       "      <td>Devops Engineer</td>\n",
       "      <td>M</td>\n",
       "      <td>N</td>\n",
       "      <td>NaN</td>\n",
       "      <td>827000.0</td>\n",
       "    </tr>\n",
       "    <tr>\n",
       "      <td>3</td>\n",
       "      <td>4</td>\n",
       "      <td>Mika Singh</td>\n",
       "      <td>DM</td>\n",
       "      <td>Data Analyst</td>\n",
       "      <td>F</td>\n",
       "      <td>Y</td>\n",
       "      <td>15101991</td>\n",
       "      <td>NaN</td>\n",
       "    </tr>\n",
       "  </tbody>\n",
       "</table>\n",
       "</div>"
      ],
      "text/plain": [
       "  Emp_Id     Emp_Name Department             Role Gender WFH Status       DOB  \\\n",
       "1      2  Arjun Kumar         DM        Tech Lead      M          Y  09031992   \n",
       "2      3    Vivek Raj         DM  Devops Engineer      M          N       NaN   \n",
       "3      4   Mika Singh         DM     Data Analyst      F          Y  15101991   \n",
       "\n",
       "     Salary  \n",
       "1  109000.0  \n",
       "2  827000.0  \n",
       "3       NaN  "
      ]
     },
     "execution_count": 7,
     "metadata": {},
     "output_type": "execute_result"
    }
   ],
   "source": [
    "grouped_1.get_group('DM')"
   ]
  },
  {
   "cell_type": "code",
   "execution_count": 8,
   "metadata": {},
   "outputs": [
    {
     "data": {
      "text/plain": [
       "{'AIML': array([0, 4, 5], dtype=int64), 'DM': array([1, 2, 3], dtype=int64)}"
      ]
     },
     "execution_count": 8,
     "metadata": {},
     "output_type": "execute_result"
    }
   ],
   "source": [
    "grouped_1.indices"
   ]
  },
  {
   "cell_type": "code",
   "execution_count": 9,
   "metadata": {},
   "outputs": [
    {
     "data": {
      "text/plain": [
       "2"
      ]
     },
     "execution_count": 9,
     "metadata": {},
     "output_type": "execute_result"
    }
   ],
   "source": [
    "grouped_1.ndim"
   ]
  },
  {
   "cell_type": "code",
   "execution_count": 10,
   "metadata": {},
   "outputs": [
    {
     "data": {
      "text/plain": [
       "2"
      ]
     },
     "execution_count": 10,
     "metadata": {},
     "output_type": "execute_result"
    }
   ],
   "source": [
    "grouped_1.ngroups"
   ]
  },
  {
   "cell_type": "code",
   "execution_count": 11,
   "metadata": {},
   "outputs": [
    {
     "data": {
      "text/plain": [
       "0    0\n",
       "1    1\n",
       "2    1\n",
       "3    1\n",
       "4    0\n",
       "5    0\n",
       "dtype: int64"
      ]
     },
     "execution_count": 11,
     "metadata": {},
     "output_type": "execute_result"
    }
   ],
   "source": [
    "grouped_1.ngroup()"
   ]
  },
  {
   "cell_type": "code",
   "execution_count": 12,
   "metadata": {},
   "outputs": [
    {
     "data": {
      "text/html": [
       "<div>\n",
       "<style scoped>\n",
       "    .dataframe tbody tr th:only-of-type {\n",
       "        vertical-align: middle;\n",
       "    }\n",
       "\n",
       "    .dataframe tbody tr th {\n",
       "        vertical-align: top;\n",
       "    }\n",
       "\n",
       "    .dataframe thead th {\n",
       "        text-align: right;\n",
       "    }\n",
       "</style>\n",
       "<table border=\"1\" class=\"dataframe\">\n",
       "  <thead>\n",
       "    <tr style=\"text-align: right;\">\n",
       "      <th></th>\n",
       "      <th>Emp_Id</th>\n",
       "      <th>Emp_Name</th>\n",
       "      <th>Role</th>\n",
       "      <th>Gender</th>\n",
       "      <th>WFH Status</th>\n",
       "      <th>DOB</th>\n",
       "      <th>Salary</th>\n",
       "    </tr>\n",
       "    <tr>\n",
       "      <th>Department</th>\n",
       "      <th></th>\n",
       "      <th></th>\n",
       "      <th></th>\n",
       "      <th></th>\n",
       "      <th></th>\n",
       "      <th></th>\n",
       "      <th></th>\n",
       "    </tr>\n",
       "  </thead>\n",
       "  <tbody>\n",
       "    <tr>\n",
       "      <td>AIML</td>\n",
       "      <td>object</td>\n",
       "      <td>object</td>\n",
       "      <td>object</td>\n",
       "      <td>object</td>\n",
       "      <td>object</td>\n",
       "      <td>object</td>\n",
       "      <td>float64</td>\n",
       "    </tr>\n",
       "    <tr>\n",
       "      <td>DM</td>\n",
       "      <td>object</td>\n",
       "      <td>object</td>\n",
       "      <td>object</td>\n",
       "      <td>object</td>\n",
       "      <td>object</td>\n",
       "      <td>object</td>\n",
       "      <td>float64</td>\n",
       "    </tr>\n",
       "  </tbody>\n",
       "</table>\n",
       "</div>"
      ],
      "text/plain": [
       "            Emp_Id Emp_Name    Role  Gender WFH Status     DOB   Salary\n",
       "Department                                                             \n",
       "AIML        object   object  object  object     object  object  float64\n",
       "DM          object   object  object  object     object  object  float64"
      ]
     },
     "execution_count": 12,
     "metadata": {},
     "output_type": "execute_result"
    }
   ],
   "source": [
    "grouped_1.dtypes"
   ]
  },
  {
   "cell_type": "code",
   "execution_count": 13,
   "metadata": {},
   "outputs": [],
   "source": [
    "#for i in range(2):\n",
    "#    grouped_1.__iter__()"
   ]
  },
  {
   "cell_type": "code",
   "execution_count": null,
   "metadata": {},
   "outputs": [],
   "source": []
  },
  {
   "cell_type": "markdown",
   "metadata": {},
   "source": [
    "## 1.2 Filter Methods\n",
    "\n",
    "    Filter methods return a subset of the original DataFrame. \n",
    "    Most common is .filter() to drop entire groups based on some comparative statistic about that group and its sub-table. \n",
    "    There are a number of methods that exclude particular rows from each group."
   ]
  },
  {
   "cell_type": "code",
   "execution_count": 14,
   "metadata": {},
   "outputs": [
    {
     "data": {
      "text/html": [
       "<div>\n",
       "<style scoped>\n",
       "    .dataframe tbody tr th:only-of-type {\n",
       "        vertical-align: middle;\n",
       "    }\n",
       "\n",
       "    .dataframe tbody tr th {\n",
       "        vertical-align: top;\n",
       "    }\n",
       "\n",
       "    .dataframe thead th {\n",
       "        text-align: right;\n",
       "    }\n",
       "</style>\n",
       "<table border=\"1\" class=\"dataframe\">\n",
       "  <thead>\n",
       "    <tr style=\"text-align: right;\">\n",
       "      <th></th>\n",
       "      <th>Emp_Id</th>\n",
       "      <th>Emp_Name</th>\n",
       "      <th>Role</th>\n",
       "      <th>Gender</th>\n",
       "      <th>WFH Status</th>\n",
       "      <th>DOB</th>\n",
       "      <th>Salary</th>\n",
       "    </tr>\n",
       "    <tr>\n",
       "      <th>Department</th>\n",
       "      <th></th>\n",
       "      <th></th>\n",
       "      <th></th>\n",
       "      <th></th>\n",
       "      <th></th>\n",
       "      <th></th>\n",
       "      <th></th>\n",
       "    </tr>\n",
       "  </thead>\n",
       "  <tbody>\n",
       "    <tr>\n",
       "      <td>AIML</td>\n",
       "      <td>1</td>\n",
       "      <td>Abhishek Kumar</td>\n",
       "      <td>Machine Learning Engineer</td>\n",
       "      <td>M</td>\n",
       "      <td>Y</td>\n",
       "      <td>04051990</td>\n",
       "      <td>1121000.0</td>\n",
       "    </tr>\n",
       "    <tr>\n",
       "      <td>DM</td>\n",
       "      <td>2</td>\n",
       "      <td>Arjun Kumar</td>\n",
       "      <td>Tech Lead</td>\n",
       "      <td>M</td>\n",
       "      <td>Y</td>\n",
       "      <td>09031992</td>\n",
       "      <td>109000.0</td>\n",
       "    </tr>\n",
       "  </tbody>\n",
       "</table>\n",
       "</div>"
      ],
      "text/plain": [
       "           Emp_Id        Emp_Name                       Role Gender  \\\n",
       "Department                                                            \n",
       "AIML            1  Abhishek Kumar  Machine Learning Engineer      M   \n",
       "DM              2     Arjun Kumar                  Tech Lead      M   \n",
       "\n",
       "           WFH Status       DOB     Salary  \n",
       "Department                                  \n",
       "AIML                Y  04051990  1121000.0  \n",
       "DM                  Y  09031992   109000.0  "
      ]
     },
     "execution_count": 14,
     "metadata": {},
     "output_type": "execute_result"
    }
   ],
   "source": [
    "grouped_1.first()"
   ]
  },
  {
   "cell_type": "code",
   "execution_count": 15,
   "metadata": {},
   "outputs": [
    {
     "data": {
      "text/html": [
       "<div>\n",
       "<style scoped>\n",
       "    .dataframe tbody tr th:only-of-type {\n",
       "        vertical-align: middle;\n",
       "    }\n",
       "\n",
       "    .dataframe tbody tr th {\n",
       "        vertical-align: top;\n",
       "    }\n",
       "\n",
       "    .dataframe thead th {\n",
       "        text-align: right;\n",
       "    }\n",
       "</style>\n",
       "<table border=\"1\" class=\"dataframe\">\n",
       "  <thead>\n",
       "    <tr style=\"text-align: right;\">\n",
       "      <th></th>\n",
       "      <th>Emp_Id</th>\n",
       "      <th>Emp_Name</th>\n",
       "      <th>Role</th>\n",
       "      <th>Gender</th>\n",
       "      <th>WFH Status</th>\n",
       "      <th>DOB</th>\n",
       "      <th>Salary</th>\n",
       "    </tr>\n",
       "    <tr>\n",
       "      <th>Department</th>\n",
       "      <th></th>\n",
       "      <th></th>\n",
       "      <th></th>\n",
       "      <th></th>\n",
       "      <th></th>\n",
       "      <th></th>\n",
       "      <th></th>\n",
       "    </tr>\n",
       "  </thead>\n",
       "  <tbody>\n",
       "    <tr>\n",
       "      <td>AIML</td>\n",
       "      <td>6</td>\n",
       "      <td>Ritesh Srivastava</td>\n",
       "      <td>Data Engineer</td>\n",
       "      <td>M</td>\n",
       "      <td>Y</td>\n",
       "      <td>01011989</td>\n",
       "      <td>785000.0</td>\n",
       "    </tr>\n",
       "    <tr>\n",
       "      <td>DM</td>\n",
       "      <td>4</td>\n",
       "      <td>Mika Singh</td>\n",
       "      <td>Data Analyst</td>\n",
       "      <td>F</td>\n",
       "      <td>Y</td>\n",
       "      <td>15101991</td>\n",
       "      <td>827000.0</td>\n",
       "    </tr>\n",
       "  </tbody>\n",
       "</table>\n",
       "</div>"
      ],
      "text/plain": [
       "           Emp_Id           Emp_Name           Role Gender WFH Status  \\\n",
       "Department                                                              \n",
       "AIML            6  Ritesh Srivastava  Data Engineer      M          Y   \n",
       "DM              4         Mika Singh   Data Analyst      F          Y   \n",
       "\n",
       "                 DOB    Salary  \n",
       "Department                      \n",
       "AIML        01011989  785000.0  \n",
       "DM          15101991  827000.0  "
      ]
     },
     "execution_count": 15,
     "metadata": {},
     "output_type": "execute_result"
    }
   ],
   "source": [
    "grouped_1.last()"
   ]
  },
  {
   "cell_type": "code",
   "execution_count": 16,
   "metadata": {},
   "outputs": [
    {
     "data": {
      "text/html": [
       "<div>\n",
       "<style scoped>\n",
       "    .dataframe tbody tr th:only-of-type {\n",
       "        vertical-align: middle;\n",
       "    }\n",
       "\n",
       "    .dataframe tbody tr th {\n",
       "        vertical-align: top;\n",
       "    }\n",
       "\n",
       "    .dataframe thead th {\n",
       "        text-align: right;\n",
       "    }\n",
       "</style>\n",
       "<table border=\"1\" class=\"dataframe\">\n",
       "  <thead>\n",
       "    <tr style=\"text-align: right;\">\n",
       "      <th></th>\n",
       "      <th>Emp_Id</th>\n",
       "      <th>Emp_Name</th>\n",
       "      <th>Department</th>\n",
       "      <th>Role</th>\n",
       "      <th>Gender</th>\n",
       "      <th>WFH Status</th>\n",
       "      <th>DOB</th>\n",
       "      <th>Salary</th>\n",
       "    </tr>\n",
       "  </thead>\n",
       "  <tbody>\n",
       "    <tr>\n",
       "      <td>0</td>\n",
       "      <td>1</td>\n",
       "      <td>Abhishek Kumar</td>\n",
       "      <td>AIML</td>\n",
       "      <td>Machine Learning Engineer</td>\n",
       "      <td>M</td>\n",
       "      <td>Y</td>\n",
       "      <td>04051990</td>\n",
       "      <td>1121000.0</td>\n",
       "    </tr>\n",
       "    <tr>\n",
       "      <td>1</td>\n",
       "      <td>2</td>\n",
       "      <td>Arjun Kumar</td>\n",
       "      <td>DM</td>\n",
       "      <td>Tech Lead</td>\n",
       "      <td>M</td>\n",
       "      <td>Y</td>\n",
       "      <td>09031992</td>\n",
       "      <td>109000.0</td>\n",
       "    </tr>\n",
       "    <tr>\n",
       "      <td>2</td>\n",
       "      <td>3</td>\n",
       "      <td>Vivek Raj</td>\n",
       "      <td>DM</td>\n",
       "      <td>Devops Engineer</td>\n",
       "      <td>M</td>\n",
       "      <td>N</td>\n",
       "      <td>NaN</td>\n",
       "      <td>827000.0</td>\n",
       "    </tr>\n",
       "    <tr>\n",
       "      <td>4</td>\n",
       "      <td>5</td>\n",
       "      <td>Anusha Yenduri</td>\n",
       "      <td>AIML</td>\n",
       "      <td>Data Scientist</td>\n",
       "      <td>F</td>\n",
       "      <td>Y</td>\n",
       "      <td>01011989</td>\n",
       "      <td>921000.0</td>\n",
       "    </tr>\n",
       "  </tbody>\n",
       "</table>\n",
       "</div>"
      ],
      "text/plain": [
       "  Emp_Id        Emp_Name Department                       Role Gender  \\\n",
       "0      1  Abhishek Kumar       AIML  Machine Learning Engineer      M   \n",
       "1      2     Arjun Kumar         DM                  Tech Lead      M   \n",
       "2      3       Vivek Raj         DM            Devops Engineer      M   \n",
       "4      5  Anusha Yenduri       AIML             Data Scientist      F   \n",
       "\n",
       "  WFH Status       DOB     Salary  \n",
       "0          Y  04051990  1121000.0  \n",
       "1          Y  09031992   109000.0  \n",
       "2          N       NaN   827000.0  \n",
       "4          Y  01011989   921000.0  "
      ]
     },
     "execution_count": 16,
     "metadata": {},
     "output_type": "execute_result"
    }
   ],
   "source": [
    "grouped_1.head(2)"
   ]
  },
  {
   "cell_type": "code",
   "execution_count": 17,
   "metadata": {},
   "outputs": [
    {
     "data": {
      "text/html": [
       "<div>\n",
       "<style scoped>\n",
       "    .dataframe tbody tr th:only-of-type {\n",
       "        vertical-align: middle;\n",
       "    }\n",
       "\n",
       "    .dataframe tbody tr th {\n",
       "        vertical-align: top;\n",
       "    }\n",
       "\n",
       "    .dataframe thead th {\n",
       "        text-align: right;\n",
       "    }\n",
       "</style>\n",
       "<table border=\"1\" class=\"dataframe\">\n",
       "  <thead>\n",
       "    <tr style=\"text-align: right;\">\n",
       "      <th></th>\n",
       "      <th>Emp_Id</th>\n",
       "      <th>Emp_Name</th>\n",
       "      <th>Department</th>\n",
       "      <th>Role</th>\n",
       "      <th>Gender</th>\n",
       "      <th>WFH Status</th>\n",
       "      <th>DOB</th>\n",
       "      <th>Salary</th>\n",
       "    </tr>\n",
       "  </thead>\n",
       "  <tbody>\n",
       "    <tr>\n",
       "      <td>3</td>\n",
       "      <td>4</td>\n",
       "      <td>Mika Singh</td>\n",
       "      <td>DM</td>\n",
       "      <td>Data Analyst</td>\n",
       "      <td>F</td>\n",
       "      <td>Y</td>\n",
       "      <td>15101991</td>\n",
       "      <td>NaN</td>\n",
       "    </tr>\n",
       "    <tr>\n",
       "      <td>5</td>\n",
       "      <td>6</td>\n",
       "      <td>Ritesh Srivastava</td>\n",
       "      <td>AIML</td>\n",
       "      <td>Data Engineer</td>\n",
       "      <td>M</td>\n",
       "      <td>Y</td>\n",
       "      <td>NaN</td>\n",
       "      <td>785000.0</td>\n",
       "    </tr>\n",
       "  </tbody>\n",
       "</table>\n",
       "</div>"
      ],
      "text/plain": [
       "  Emp_Id           Emp_Name Department           Role Gender WFH Status  \\\n",
       "3      4         Mika Singh         DM   Data Analyst      F          Y   \n",
       "5      6  Ritesh Srivastava       AIML  Data Engineer      M          Y   \n",
       "\n",
       "        DOB    Salary  \n",
       "3  15101991       NaN  \n",
       "5       NaN  785000.0  "
      ]
     },
     "execution_count": 17,
     "metadata": {},
     "output_type": "execute_result"
    }
   ],
   "source": [
    "grouped_1.tail(1)"
   ]
  },
  {
   "cell_type": "code",
   "execution_count": 18,
   "metadata": {},
   "outputs": [
    {
     "data": {
      "text/html": [
       "<div>\n",
       "<style scoped>\n",
       "    .dataframe tbody tr th:only-of-type {\n",
       "        vertical-align: middle;\n",
       "    }\n",
       "\n",
       "    .dataframe tbody tr th {\n",
       "        vertical-align: top;\n",
       "    }\n",
       "\n",
       "    .dataframe thead th {\n",
       "        text-align: right;\n",
       "    }\n",
       "</style>\n",
       "<table border=\"1\" class=\"dataframe\">\n",
       "  <thead>\n",
       "    <tr style=\"text-align: right;\">\n",
       "      <th></th>\n",
       "      <th>Emp_Id</th>\n",
       "      <th>Emp_Name</th>\n",
       "      <th>Role</th>\n",
       "      <th>Gender</th>\n",
       "      <th>WFH Status</th>\n",
       "      <th>DOB</th>\n",
       "      <th>Salary</th>\n",
       "    </tr>\n",
       "    <tr>\n",
       "      <th>Department</th>\n",
       "      <th></th>\n",
       "      <th></th>\n",
       "      <th></th>\n",
       "      <th></th>\n",
       "      <th></th>\n",
       "      <th></th>\n",
       "      <th></th>\n",
       "    </tr>\n",
       "  </thead>\n",
       "  <tbody>\n",
       "    <tr>\n",
       "      <td>AIML</td>\n",
       "      <td>6</td>\n",
       "      <td>Ritesh Srivastava</td>\n",
       "      <td>Data Engineer</td>\n",
       "      <td>M</td>\n",
       "      <td>Y</td>\n",
       "      <td>NaN</td>\n",
       "      <td>785000.0</td>\n",
       "    </tr>\n",
       "    <tr>\n",
       "      <td>DM</td>\n",
       "      <td>4</td>\n",
       "      <td>Mika Singh</td>\n",
       "      <td>Data Analyst</td>\n",
       "      <td>F</td>\n",
       "      <td>Y</td>\n",
       "      <td>15101991</td>\n",
       "      <td>NaN</td>\n",
       "    </tr>\n",
       "  </tbody>\n",
       "</table>\n",
       "</div>"
      ],
      "text/plain": [
       "           Emp_Id           Emp_Name           Role Gender WFH Status  \\\n",
       "Department                                                              \n",
       "AIML            6  Ritesh Srivastava  Data Engineer      M          Y   \n",
       "DM              4         Mika Singh   Data Analyst      F          Y   \n",
       "\n",
       "                 DOB    Salary  \n",
       "Department                      \n",
       "AIML             NaN  785000.0  \n",
       "DM          15101991       NaN  "
      ]
     },
     "execution_count": 18,
     "metadata": {},
     "output_type": "execute_result"
    },
    {
     "data": {
      "text/html": [
       "<div>\n",
       "<style scoped>\n",
       "    .dataframe tbody tr th:only-of-type {\n",
       "        vertical-align: middle;\n",
       "    }\n",
       "\n",
       "    .dataframe tbody tr th {\n",
       "        vertical-align: top;\n",
       "    }\n",
       "\n",
       "    .dataframe thead th {\n",
       "        text-align: right;\n",
       "    }\n",
       "</style>\n",
       "<table border=\"1\" class=\"dataframe\">\n",
       "  <thead>\n",
       "    <tr style=\"text-align: right;\">\n",
       "      <th></th>\n",
       "      <th>Emp_Id</th>\n",
       "      <th>Emp_Name</th>\n",
       "      <th>Role</th>\n",
       "      <th>Gender</th>\n",
       "      <th>WFH Status</th>\n",
       "      <th>DOB</th>\n",
       "      <th>Salary</th>\n",
       "    </tr>\n",
       "    <tr>\n",
       "      <th>Department</th>\n",
       "      <th></th>\n",
       "      <th></th>\n",
       "      <th></th>\n",
       "      <th></th>\n",
       "      <th></th>\n",
       "      <th></th>\n",
       "      <th></th>\n",
       "    </tr>\n",
       "  </thead>\n",
       "  <tbody>\n",
       "    <tr>\n",
       "      <td>AIML</td>\n",
       "      <td>1</td>\n",
       "      <td>Abhishek Kumar</td>\n",
       "      <td>Machine Learning Engineer</td>\n",
       "      <td>M</td>\n",
       "      <td>Y</td>\n",
       "      <td>04051990</td>\n",
       "      <td>1121000.0</td>\n",
       "    </tr>\n",
       "    <tr>\n",
       "      <td>AIML</td>\n",
       "      <td>6</td>\n",
       "      <td>Ritesh Srivastava</td>\n",
       "      <td>Data Engineer</td>\n",
       "      <td>M</td>\n",
       "      <td>Y</td>\n",
       "      <td>NaN</td>\n",
       "      <td>785000.0</td>\n",
       "    </tr>\n",
       "    <tr>\n",
       "      <td>DM</td>\n",
       "      <td>2</td>\n",
       "      <td>Arjun Kumar</td>\n",
       "      <td>Tech Lead</td>\n",
       "      <td>M</td>\n",
       "      <td>Y</td>\n",
       "      <td>09031992</td>\n",
       "      <td>109000.0</td>\n",
       "    </tr>\n",
       "    <tr>\n",
       "      <td>DM</td>\n",
       "      <td>4</td>\n",
       "      <td>Mika Singh</td>\n",
       "      <td>Data Analyst</td>\n",
       "      <td>F</td>\n",
       "      <td>Y</td>\n",
       "      <td>15101991</td>\n",
       "      <td>NaN</td>\n",
       "    </tr>\n",
       "  </tbody>\n",
       "</table>\n",
       "</div>"
      ],
      "text/plain": [
       "           Emp_Id           Emp_Name                       Role Gender  \\\n",
       "Department                                                               \n",
       "AIML            1     Abhishek Kumar  Machine Learning Engineer      M   \n",
       "AIML            6  Ritesh Srivastava              Data Engineer      M   \n",
       "DM              2        Arjun Kumar                  Tech Lead      M   \n",
       "DM              4         Mika Singh               Data Analyst      F   \n",
       "\n",
       "           WFH Status       DOB     Salary  \n",
       "Department                                  \n",
       "AIML                Y  04051990  1121000.0  \n",
       "AIML                Y       NaN   785000.0  \n",
       "DM                  Y  09031992   109000.0  \n",
       "DM                  Y  15101991        NaN  "
      ]
     },
     "execution_count": 18,
     "metadata": {},
     "output_type": "execute_result"
    }
   ],
   "source": [
    "# Take the nth row from each group if n is an int, or a subset of rows if n is a list of ints.\n",
    "\n",
    "grouped_1.nth(2)\n",
    "\n",
    "grouped_1.nth([0,2])"
   ]
  },
  {
   "cell_type": "code",
   "execution_count": 19,
   "metadata": {},
   "outputs": [
    {
     "data": {
      "text/html": [
       "<div>\n",
       "<style scoped>\n",
       "    .dataframe tbody tr th:only-of-type {\n",
       "        vertical-align: middle;\n",
       "    }\n",
       "\n",
       "    .dataframe tbody tr th {\n",
       "        vertical-align: top;\n",
       "    }\n",
       "\n",
       "    .dataframe thead th {\n",
       "        text-align: right;\n",
       "    }\n",
       "</style>\n",
       "<table border=\"1\" class=\"dataframe\">\n",
       "  <thead>\n",
       "    <tr style=\"text-align: right;\">\n",
       "      <th></th>\n",
       "      <th></th>\n",
       "      <th>Emp_Id</th>\n",
       "      <th>Emp_Name</th>\n",
       "      <th>Role</th>\n",
       "      <th>Gender</th>\n",
       "      <th>WFH Status</th>\n",
       "      <th>DOB</th>\n",
       "      <th>Salary</th>\n",
       "    </tr>\n",
       "    <tr>\n",
       "      <th>Department</th>\n",
       "      <th></th>\n",
       "      <th></th>\n",
       "      <th></th>\n",
       "      <th></th>\n",
       "      <th></th>\n",
       "      <th></th>\n",
       "      <th></th>\n",
       "      <th></th>\n",
       "    </tr>\n",
       "  </thead>\n",
       "  <tbody>\n",
       "    <tr>\n",
       "      <td rowspan=\"2\" valign=\"top\">AIML</td>\n",
       "      <td>0</td>\n",
       "      <td>1</td>\n",
       "      <td>Abhishek Kumar</td>\n",
       "      <td>Machine Learning Engineer</td>\n",
       "      <td>M</td>\n",
       "      <td>Y</td>\n",
       "      <td>04051990</td>\n",
       "      <td>1121000.0</td>\n",
       "    </tr>\n",
       "    <tr>\n",
       "      <td>5</td>\n",
       "      <td>6</td>\n",
       "      <td>Ritesh Srivastava</td>\n",
       "      <td>Data Engineer</td>\n",
       "      <td>M</td>\n",
       "      <td>Y</td>\n",
       "      <td>NaN</td>\n",
       "      <td>785000.0</td>\n",
       "    </tr>\n",
       "    <tr>\n",
       "      <td rowspan=\"2\" valign=\"top\">DM</td>\n",
       "      <td>1</td>\n",
       "      <td>2</td>\n",
       "      <td>Arjun Kumar</td>\n",
       "      <td>Tech Lead</td>\n",
       "      <td>M</td>\n",
       "      <td>Y</td>\n",
       "      <td>09031992</td>\n",
       "      <td>109000.0</td>\n",
       "    </tr>\n",
       "    <tr>\n",
       "      <td>3</td>\n",
       "      <td>4</td>\n",
       "      <td>Mika Singh</td>\n",
       "      <td>Data Analyst</td>\n",
       "      <td>F</td>\n",
       "      <td>Y</td>\n",
       "      <td>15101991</td>\n",
       "      <td>NaN</td>\n",
       "    </tr>\n",
       "  </tbody>\n",
       "</table>\n",
       "</div>"
      ],
      "text/plain": [
       "             Emp_Id           Emp_Name                       Role Gender  \\\n",
       "Department                                                                 \n",
       "AIML       0      1     Abhishek Kumar  Machine Learning Engineer      M   \n",
       "           5      6  Ritesh Srivastava              Data Engineer      M   \n",
       "DM         1      2        Arjun Kumar                  Tech Lead      M   \n",
       "           3      4         Mika Singh               Data Analyst      F   \n",
       "\n",
       "             WFH Status       DOB     Salary  \n",
       "Department                                    \n",
       "AIML       0          Y  04051990  1121000.0  \n",
       "           5          Y       NaN   785000.0  \n",
       "DM         1          Y  09031992   109000.0  \n",
       "           3          Y  15101991        NaN  "
      ]
     },
     "execution_count": 19,
     "metadata": {},
     "output_type": "execute_result"
    }
   ],
   "source": [
    "# we are selecting the 0th and 2nd rows, not rows whose indices equal 0 and 2.\n",
    "\n",
    "grouped_1.take([0,2])"
   ]
  },
  {
   "cell_type": "code",
   "execution_count": 25,
   "metadata": {},
   "outputs": [
    {
     "data": {
      "text/html": [
       "<div>\n",
       "<style scoped>\n",
       "    .dataframe tbody tr th:only-of-type {\n",
       "        vertical-align: middle;\n",
       "    }\n",
       "\n",
       "    .dataframe tbody tr th {\n",
       "        vertical-align: top;\n",
       "    }\n",
       "\n",
       "    .dataframe thead th {\n",
       "        text-align: right;\n",
       "    }\n",
       "</style>\n",
       "<table border=\"1\" class=\"dataframe\">\n",
       "  <thead>\n",
       "    <tr style=\"text-align: right;\">\n",
       "      <th></th>\n",
       "      <th>Emp_Id</th>\n",
       "      <th>Emp_Name</th>\n",
       "      <th>Role</th>\n",
       "      <th>Gender</th>\n",
       "      <th>WFH Status</th>\n",
       "      <th>DOB</th>\n",
       "      <th>Salary</th>\n",
       "    </tr>\n",
       "  </thead>\n",
       "  <tbody>\n",
       "    <tr>\n",
       "      <td>0</td>\n",
       "      <td>1</td>\n",
       "      <td>Abhishek Kumar</td>\n",
       "      <td>Machine Learning Engineer</td>\n",
       "      <td>M</td>\n",
       "      <td>Y</td>\n",
       "      <td>04051990</td>\n",
       "      <td>1121000.0</td>\n",
       "    </tr>\n",
       "    <tr>\n",
       "      <td>1</td>\n",
       "      <td>2</td>\n",
       "      <td>Arjun Kumar</td>\n",
       "      <td>Tech Lead</td>\n",
       "      <td>M</td>\n",
       "      <td>Y</td>\n",
       "      <td>09031992</td>\n",
       "      <td>109000.0</td>\n",
       "    </tr>\n",
       "    <tr>\n",
       "      <td>2</td>\n",
       "      <td>3</td>\n",
       "      <td>Vivek Raj</td>\n",
       "      <td>Devops Engineer</td>\n",
       "      <td>M</td>\n",
       "      <td>N</td>\n",
       "      <td>NaN</td>\n",
       "      <td>827000.0</td>\n",
       "    </tr>\n",
       "    <tr>\n",
       "      <td>3</td>\n",
       "      <td>4</td>\n",
       "      <td>Mika Singh</td>\n",
       "      <td>Data Analyst</td>\n",
       "      <td>F</td>\n",
       "      <td>Y</td>\n",
       "      <td>15101991</td>\n",
       "      <td>NaN</td>\n",
       "    </tr>\n",
       "    <tr>\n",
       "      <td>4</td>\n",
       "      <td>5</td>\n",
       "      <td>Anusha Yenduri</td>\n",
       "      <td>Data Scientist</td>\n",
       "      <td>F</td>\n",
       "      <td>Y</td>\n",
       "      <td>01011989</td>\n",
       "      <td>921000.0</td>\n",
       "    </tr>\n",
       "    <tr>\n",
       "      <td>5</td>\n",
       "      <td>6</td>\n",
       "      <td>Ritesh Srivastava</td>\n",
       "      <td>Data Engineer</td>\n",
       "      <td>M</td>\n",
       "      <td>Y</td>\n",
       "      <td>NaN</td>\n",
       "      <td>785000.0</td>\n",
       "    </tr>\n",
       "  </tbody>\n",
       "</table>\n",
       "</div>"
      ],
      "text/plain": [
       "  Emp_Id           Emp_Name                       Role Gender WFH Status  \\\n",
       "0      1     Abhishek Kumar  Machine Learning Engineer      M          Y   \n",
       "1      2        Arjun Kumar                  Tech Lead      M          Y   \n",
       "2      3          Vivek Raj            Devops Engineer      M          N   \n",
       "3      4         Mika Singh               Data Analyst      F          Y   \n",
       "4      5     Anusha Yenduri             Data Scientist      F          Y   \n",
       "5      6  Ritesh Srivastava              Data Engineer      M          Y   \n",
       "\n",
       "        DOB     Salary  \n",
       "0  04051990  1121000.0  \n",
       "1  09031992   109000.0  \n",
       "2       NaN   827000.0  \n",
       "3  15101991        NaN  \n",
       "4  01011989   921000.0  \n",
       "5       NaN   785000.0  "
      ]
     },
     "execution_count": 25,
     "metadata": {},
     "output_type": "execute_result"
    }
   ],
   "source": [
    "# The argument of filter must be a function that, applied to the group as a whole, returns True or False.\n",
    "\n",
    "grouped_1.filter(lambda x: len(x['Emp_Id']) >= 3)"
   ]
  },
  {
   "cell_type": "code",
   "execution_count": 26,
   "metadata": {},
   "outputs": [
    {
     "data": {
      "text/html": [
       "<div>\n",
       "<style scoped>\n",
       "    .dataframe tbody tr th:only-of-type {\n",
       "        vertical-align: middle;\n",
       "    }\n",
       "\n",
       "    .dataframe tbody tr th {\n",
       "        vertical-align: top;\n",
       "    }\n",
       "\n",
       "    .dataframe thead th {\n",
       "        text-align: right;\n",
       "    }\n",
       "</style>\n",
       "<table border=\"1\" class=\"dataframe\">\n",
       "  <thead>\n",
       "    <tr style=\"text-align: right;\">\n",
       "      <th></th>\n",
       "      <th>Emp_Id</th>\n",
       "      <th>Emp_Name</th>\n",
       "      <th>Role</th>\n",
       "      <th>Gender</th>\n",
       "      <th>WFH Status</th>\n",
       "      <th>DOB</th>\n",
       "      <th>Salary</th>\n",
       "    </tr>\n",
       "  </thead>\n",
       "  <tbody>\n",
       "    <tr>\n",
       "      <td>0</td>\n",
       "      <td>1</td>\n",
       "      <td>Abhishek Kumar</td>\n",
       "      <td>Machine Learning Engineer</td>\n",
       "      <td>M</td>\n",
       "      <td>Y</td>\n",
       "      <td>04051990</td>\n",
       "      <td>1121000.0</td>\n",
       "    </tr>\n",
       "    <tr>\n",
       "      <td>4</td>\n",
       "      <td>5</td>\n",
       "      <td>Anusha Yenduri</td>\n",
       "      <td>Data Scientist</td>\n",
       "      <td>F</td>\n",
       "      <td>Y</td>\n",
       "      <td>01011989</td>\n",
       "      <td>921000.0</td>\n",
       "    </tr>\n",
       "    <tr>\n",
       "      <td>5</td>\n",
       "      <td>6</td>\n",
       "      <td>Ritesh Srivastava</td>\n",
       "      <td>Data Engineer</td>\n",
       "      <td>M</td>\n",
       "      <td>Y</td>\n",
       "      <td>NaN</td>\n",
       "      <td>785000.0</td>\n",
       "    </tr>\n",
       "  </tbody>\n",
       "</table>\n",
       "</div>"
      ],
      "text/plain": [
       "  Emp_Id           Emp_Name                       Role Gender WFH Status  \\\n",
       "0      1     Abhishek Kumar  Machine Learning Engineer      M          Y   \n",
       "4      5     Anusha Yenduri             Data Scientist      F          Y   \n",
       "5      6  Ritesh Srivastava              Data Engineer      M          Y   \n",
       "\n",
       "        DOB     Salary  \n",
       "0  04051990  1121000.0  \n",
       "4  01011989   921000.0  \n",
       "5       NaN   785000.0  "
      ]
     },
     "execution_count": 26,
     "metadata": {},
     "output_type": "execute_result"
    }
   ],
   "source": [
    "# The argument of filter must be a function that, applied to the group as a whole, returns True or False.\n",
    "\n",
    "grouped_1.filter(lambda x: sum(x['Salary']) >= 950000)"
   ]
  },
  {
   "cell_type": "code",
   "execution_count": null,
   "metadata": {},
   "outputs": [],
   "source": []
  },
  {
   "cell_type": "code",
   "execution_count": null,
   "metadata": {},
   "outputs": [],
   "source": []
  },
  {
   "cell_type": "code",
   "execution_count": null,
   "metadata": {},
   "outputs": [],
   "source": []
  },
  {
   "cell_type": "code",
   "execution_count": null,
   "metadata": {},
   "outputs": [],
   "source": []
  },
  {
   "cell_type": "code",
   "execution_count": null,
   "metadata": {},
   "outputs": [],
   "source": []
  },
  {
   "cell_type": "code",
   "execution_count": null,
   "metadata": {},
   "outputs": [],
   "source": []
  },
  {
   "cell_type": "code",
   "execution_count": null,
   "metadata": {},
   "outputs": [],
   "source": []
  },
  {
   "cell_type": "code",
   "execution_count": null,
   "metadata": {},
   "outputs": [],
   "source": []
  },
  {
   "cell_type": "code",
   "execution_count": null,
   "metadata": {},
   "outputs": [],
   "source": []
  },
  {
   "cell_type": "code",
   "execution_count": null,
   "metadata": {},
   "outputs": [],
   "source": []
  },
  {
   "cell_type": "code",
   "execution_count": null,
   "metadata": {},
   "outputs": [],
   "source": []
  },
  {
   "cell_type": "code",
   "execution_count": null,
   "metadata": {},
   "outputs": [],
   "source": []
  },
  {
   "cell_type": "code",
   "execution_count": null,
   "metadata": {},
   "outputs": [],
   "source": []
  },
  {
   "cell_type": "code",
   "execution_count": null,
   "metadata": {},
   "outputs": [],
   "source": []
  },
  {
   "cell_type": "code",
   "execution_count": null,
   "metadata": {},
   "outputs": [],
   "source": []
  },
  {
   "cell_type": "code",
   "execution_count": null,
   "metadata": {},
   "outputs": [],
   "source": []
  },
  {
   "cell_type": "code",
   "execution_count": null,
   "metadata": {},
   "outputs": [],
   "source": []
  },
  {
   "cell_type": "code",
   "execution_count": null,
   "metadata": {},
   "outputs": [],
   "source": []
  },
  {
   "cell_type": "code",
   "execution_count": null,
   "metadata": {},
   "outputs": [],
   "source": []
  },
  {
   "cell_type": "code",
   "execution_count": null,
   "metadata": {},
   "outputs": [],
   "source": []
  },
  {
   "cell_type": "code",
   "execution_count": null,
   "metadata": {},
   "outputs": [],
   "source": []
  },
  {
   "cell_type": "code",
   "execution_count": null,
   "metadata": {},
   "outputs": [],
   "source": []
  },
  {
   "cell_type": "code",
   "execution_count": null,
   "metadata": {},
   "outputs": [],
   "source": []
  },
  {
   "cell_type": "code",
   "execution_count": null,
   "metadata": {},
   "outputs": [],
   "source": []
  },
  {
   "cell_type": "code",
   "execution_count": null,
   "metadata": {},
   "outputs": [],
   "source": []
  },
  {
   "cell_type": "code",
   "execution_count": null,
   "metadata": {},
   "outputs": [],
   "source": []
  },
  {
   "cell_type": "code",
   "execution_count": null,
   "metadata": {},
   "outputs": [],
   "source": []
  },
  {
   "cell_type": "code",
   "execution_count": null,
   "metadata": {},
   "outputs": [],
   "source": []
  },
  {
   "cell_type": "code",
   "execution_count": null,
   "metadata": {},
   "outputs": [],
   "source": []
  },
  {
   "cell_type": "code",
   "execution_count": null,
   "metadata": {},
   "outputs": [],
   "source": []
  },
  {
   "cell_type": "code",
   "execution_count": null,
   "metadata": {},
   "outputs": [],
   "source": []
  },
  {
   "cell_type": "code",
   "execution_count": null,
   "metadata": {},
   "outputs": [],
   "source": []
  },
  {
   "cell_type": "code",
   "execution_count": null,
   "metadata": {},
   "outputs": [],
   "source": []
  },
  {
   "cell_type": "code",
   "execution_count": null,
   "metadata": {},
   "outputs": [],
   "source": []
  },
  {
   "cell_type": "code",
   "execution_count": null,
   "metadata": {},
   "outputs": [],
   "source": []
  },
  {
   "cell_type": "code",
   "execution_count": null,
   "metadata": {},
   "outputs": [],
   "source": []
  },
  {
   "cell_type": "code",
   "execution_count": null,
   "metadata": {},
   "outputs": [],
   "source": []
  },
  {
   "cell_type": "code",
   "execution_count": null,
   "metadata": {},
   "outputs": [],
   "source": []
  },
  {
   "cell_type": "code",
   "execution_count": null,
   "metadata": {},
   "outputs": [],
   "source": []
  },
  {
   "cell_type": "code",
   "execution_count": null,
   "metadata": {},
   "outputs": [],
   "source": []
  },
  {
   "cell_type": "code",
   "execution_count": null,
   "metadata": {},
   "outputs": [],
   "source": []
  },
  {
   "cell_type": "code",
   "execution_count": null,
   "metadata": {},
   "outputs": [],
   "source": []
  },
  {
   "cell_type": "code",
   "execution_count": 22,
   "metadata": {},
   "outputs": [
    {
     "data": {
      "text/plain": [
       "<pandas.core.groupby.generic.DataFrameGroupBy object at 0x0000022B42C12708>"
      ]
     },
     "execution_count": 22,
     "metadata": {},
     "output_type": "execute_result"
    }
   ],
   "source": [
    "grouped_2 = emp_df_1.groupby(['Department','Role'])\n",
    "grouped_2"
   ]
  },
  {
   "cell_type": "code",
   "execution_count": 23,
   "metadata": {},
   "outputs": [
    {
     "data": {
      "text/plain": [
       "<pandas.core.groupby.generic.DataFrameGroupBy object at 0x0000022B42C0A5C8>"
      ]
     },
     "execution_count": 23,
     "metadata": {},
     "output_type": "execute_result"
    }
   ],
   "source": [
    "grouped_3 = emp_df_1.groupby(level = 0)\n",
    "grouped_3"
   ]
  },
  {
   "cell_type": "code",
   "execution_count": 24,
   "metadata": {},
   "outputs": [
    {
     "data": {
      "text/plain": [
       "<pandas.core.groupby.generic.DataFrameGroupBy object at 0x0000022B42C12188>"
      ]
     },
     "execution_count": 24,
     "metadata": {},
     "output_type": "execute_result"
    }
   ],
   "source": [
    "grouped_2 = emp_df_1.groupby('Department', axis = 1)\n",
    "grouped_2"
   ]
  },
  {
   "cell_type": "code",
   "execution_count": null,
   "metadata": {},
   "outputs": [],
   "source": []
  }
 ],
 "metadata": {
  "kernelspec": {
   "display_name": "Python 3",
   "language": "python",
   "name": "python3"
  },
  "language_info": {
   "codemirror_mode": {
    "name": "ipython",
    "version": 3
   },
   "file_extension": ".py",
   "mimetype": "text/x-python",
   "name": "python",
   "nbconvert_exporter": "python",
   "pygments_lexer": "ipython3",
   "version": "3.7.4"
  }
 },
 "nbformat": 4,
 "nbformat_minor": 2
}
