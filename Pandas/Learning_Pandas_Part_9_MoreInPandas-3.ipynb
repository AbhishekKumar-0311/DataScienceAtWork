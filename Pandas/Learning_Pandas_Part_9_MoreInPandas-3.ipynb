{
 "cells": [
  {
   "cell_type": "markdown",
   "metadata": {},
   "source": [
    "### Prepared by Abhishek Kumar\n",
    "### https://www.linkedin.com/in/abhishekkumar-0311/\n"
   ]
  },
  {
   "cell_type": "code",
   "execution_count": 1,
   "metadata": {},
   "outputs": [],
   "source": [
    "import pandas as pd\n",
    "import numpy as np\n",
    "import matplotlib.pyplot as plt"
   ]
  },
  {
   "cell_type": "code",
   "execution_count": 2,
   "metadata": {},
   "outputs": [],
   "source": [
    "# To get multiple outputs in the same cell\n",
    "\n",
    "from IPython.core.interactiveshell import InteractiveShell\n",
    "InteractiveShell.ast_node_interactivity = \"all\"\n",
    "\n",
    "%matplotlib inline"
   ]
  },
  {
   "cell_type": "code",
   "execution_count": 4,
   "metadata": {},
   "outputs": [
    {
     "data": {
      "text/html": [
       "<div>\n",
       "<style scoped>\n",
       "    .dataframe tbody tr th:only-of-type {\n",
       "        vertical-align: middle;\n",
       "    }\n",
       "\n",
       "    .dataframe tbody tr th {\n",
       "        vertical-align: top;\n",
       "    }\n",
       "\n",
       "    .dataframe thead th {\n",
       "        text-align: right;\n",
       "    }\n",
       "</style>\n",
       "<table border=\"1\" class=\"dataframe\">\n",
       "  <thead>\n",
       "    <tr style=\"text-align: right;\">\n",
       "      <th></th>\n",
       "      <th>Emp_Id</th>\n",
       "      <th>Emp_Name</th>\n",
       "      <th>Department</th>\n",
       "      <th>Role</th>\n",
       "      <th>Gender</th>\n",
       "      <th>WFH Status</th>\n",
       "      <th>DOB</th>\n",
       "      <th>Salary</th>\n",
       "    </tr>\n",
       "  </thead>\n",
       "  <tbody>\n",
       "    <tr>\n",
       "      <th>0</th>\n",
       "      <td>1</td>\n",
       "      <td>Abhishek Kumar</td>\n",
       "      <td>AIML</td>\n",
       "      <td>Machine Learning Engineer</td>\n",
       "      <td>M</td>\n",
       "      <td>Y</td>\n",
       "      <td>04051990</td>\n",
       "      <td>1121000.0</td>\n",
       "    </tr>\n",
       "    <tr>\n",
       "      <th>1</th>\n",
       "      <td>2</td>\n",
       "      <td>Arjun Kumar</td>\n",
       "      <td>DM</td>\n",
       "      <td>Tech Lead</td>\n",
       "      <td>M</td>\n",
       "      <td>Y</td>\n",
       "      <td>09031992</td>\n",
       "      <td>109000.0</td>\n",
       "    </tr>\n",
       "    <tr>\n",
       "      <th>2</th>\n",
       "      <td>3</td>\n",
       "      <td>Vivek Raj</td>\n",
       "      <td>DM</td>\n",
       "      <td>Devops Engineer</td>\n",
       "      <td>M</td>\n",
       "      <td>N</td>\n",
       "      <td>NaN</td>\n",
       "      <td>827000.0</td>\n",
       "    </tr>\n",
       "    <tr>\n",
       "      <th>3</th>\n",
       "      <td>4</td>\n",
       "      <td>Mika Singh</td>\n",
       "      <td>DM</td>\n",
       "      <td>Data Analyst</td>\n",
       "      <td>F</td>\n",
       "      <td>Y</td>\n",
       "      <td>15101991</td>\n",
       "      <td>NaN</td>\n",
       "    </tr>\n",
       "    <tr>\n",
       "      <th>4</th>\n",
       "      <td>5</td>\n",
       "      <td>Anusha Yenduri</td>\n",
       "      <td>AIML</td>\n",
       "      <td>Data Scientist</td>\n",
       "      <td>F</td>\n",
       "      <td>Y</td>\n",
       "      <td>01011989</td>\n",
       "      <td>921000.0</td>\n",
       "    </tr>\n",
       "    <tr>\n",
       "      <th>5</th>\n",
       "      <td>6</td>\n",
       "      <td>Ritesh Srivastava</td>\n",
       "      <td>AIML</td>\n",
       "      <td>Data Engineer</td>\n",
       "      <td>M</td>\n",
       "      <td>Y</td>\n",
       "      <td>NaN</td>\n",
       "      <td>785000.0</td>\n",
       "    </tr>\n",
       "  </tbody>\n",
       "</table>\n",
       "</div>"
      ],
      "text/plain": [
       "  Emp_Id           Emp_Name Department                       Role Gender  \\\n",
       "0      1     Abhishek Kumar       AIML  Machine Learning Engineer      M   \n",
       "1      2        Arjun Kumar         DM                  Tech Lead      M   \n",
       "2      3          Vivek Raj         DM            Devops Engineer      M   \n",
       "3      4         Mika Singh         DM               Data Analyst      F   \n",
       "4      5     Anusha Yenduri       AIML             Data Scientist      F   \n",
       "5      6  Ritesh Srivastava       AIML              Data Engineer      M   \n",
       "\n",
       "  WFH Status       DOB     Salary  \n",
       "0          Y  04051990  1121000.0  \n",
       "1          Y  09031992   109000.0  \n",
       "2          N       NaN   827000.0  \n",
       "3          Y  15101991        NaN  \n",
       "4          Y  01011989   921000.0  \n",
       "5          Y       NaN   785000.0  "
      ]
     },
     "execution_count": 4,
     "metadata": {},
     "output_type": "execute_result"
    }
   ],
   "source": [
    "# Setup : DataFrame creation\n",
    "\n",
    "salary = [['1','Abhishek Kumar','AIML', 'Machine Learning Engineer','M', 'Y', '04051990', 1121000],\n",
    "          ['2','Arjun Kumar','DM', 'Tech Lead','M', 'Y', '09031992', 109000],\n",
    "          ['3','Vivek Raj','DM', 'Devops Engineer','M', 'N', np.NaN , 827000],\n",
    "          ['4','Mika Singh','DM', 'Data Analyst','F', 'Y', '15101991',  np.NaN],\n",
    "          ['5','Anusha Yenduri','AIML', 'Data Scientist','F', 'Y', '01011989',  921000],\n",
    "          ['6','Ritesh Srivastava','AIML', 'Data Engineer','M', 'Y', np.NaN, 785000]]\n",
    "\n",
    "columns_name=['Emp_Id','Emp_Name','Department','Role','Gender', 'WFH Status', 'DOB', 'Salary']\n",
    "\n",
    "emp_df = pd.DataFrame(salary,columns=columns_name)\n",
    "emp_df"
   ]
  },
  {
   "cell_type": "code",
   "execution_count": 5,
   "metadata": {},
   "outputs": [
    {
     "data": {
      "text/html": [
       "<div>\n",
       "<style scoped>\n",
       "    .dataframe tbody tr th:only-of-type {\n",
       "        vertical-align: middle;\n",
       "    }\n",
       "\n",
       "    .dataframe tbody tr th {\n",
       "        vertical-align: top;\n",
       "    }\n",
       "\n",
       "    .dataframe thead th {\n",
       "        text-align: right;\n",
       "    }\n",
       "</style>\n",
       "<table border=\"1\" class=\"dataframe\">\n",
       "  <thead>\n",
       "    <tr style=\"text-align: right;\">\n",
       "      <th></th>\n",
       "      <th>col_a</th>\n",
       "      <th>col_b</th>\n",
       "      <th>col_c</th>\n",
       "      <th>col_d</th>\n",
       "    </tr>\n",
       "  </thead>\n",
       "  <tbody>\n",
       "    <tr>\n",
       "      <th>0</th>\n",
       "      <td>Houston,TX</td>\n",
       "      <td>62K-70K</td>\n",
       "      <td>A</td>\n",
       "      <td>1x</td>\n",
       "    </tr>\n",
       "    <tr>\n",
       "      <th>1</th>\n",
       "      <td>Dallas,TX</td>\n",
       "      <td>62K-70K</td>\n",
       "      <td>B</td>\n",
       "      <td>1y</td>\n",
       "    </tr>\n",
       "    <tr>\n",
       "      <th>2</th>\n",
       "      <td>Chicago,IL</td>\n",
       "      <td>69K-76K</td>\n",
       "      <td>A</td>\n",
       "      <td>2x</td>\n",
       "    </tr>\n",
       "    <tr>\n",
       "      <th>3</th>\n",
       "      <td>Phoenix,AZ</td>\n",
       "      <td>62K-72K</td>\n",
       "      <td>a</td>\n",
       "      <td>1x</td>\n",
       "    </tr>\n",
       "    <tr>\n",
       "      <th>4</th>\n",
       "      <td>San Diego,CA</td>\n",
       "      <td>71K-78K</td>\n",
       "      <td>c</td>\n",
       "      <td>1y</td>\n",
       "    </tr>\n",
       "  </tbody>\n",
       "</table>\n",
       "</div>"
      ],
      "text/plain": [
       "          col_a    col_b col_c col_d\n",
       "0    Houston,TX  62K-70K     A    1x\n",
       "1     Dallas,TX  62K-70K     B    1y\n",
       "2    Chicago,IL  69K-76K     A  2x  \n",
       "3    Phoenix,AZ  62K-72K     a    1x\n",
       "4  San Diego,CA  71K-78K     c  1y  "
      ]
     },
     "execution_count": 5,
     "metadata": {},
     "output_type": "execute_result"
    }
   ],
   "source": [
    "import numpy as np\n",
    "import pandas as pd\n",
    "sample = {\n",
    "'col_a':['Houston,TX', 'Dallas,TX', 'Chicago,IL', 'Phoenix,AZ',      'San Diego,CA'],\n",
    "'col_b':['62K-70K', '62K-70K', '69K-76K', '62K-72K', '71K-78K' ],\n",
    "'col_c':['A','B','A','a','c'],\n",
    "'col_d':['  1x', ' 1y', '2x  ', '1x', '1y  ']\n",
    "}\n",
    "df_sample = pd.DataFrame(sample)\n",
    "df_sample"
   ]
  },
  {
   "cell_type": "markdown",
   "metadata": {},
   "source": [
    "# Functions discussed in this Notebook - Part 3"
   ]
  },
  {
   "cell_type": "markdown",
   "metadata": {},
   "source": [
    "|Function\t    \t\t\t\t\t\t\t|Description\t\t\t\t\t\t\t\t\t\t\t\t\t\t\t\t\t\t|Part|\n",
    "|:-|:-|:-|\n",
    "|apply()\t\t\t\t\t\t\t\t\t|Apply a function along an axis of the DataFrame.\t\t\t\t\t\t\t\t\t|1|\n",
    "|applymap()\t\t\t\t\t\t\t\t\t|Apply a function to a Dataframe elementwise. \t\t\t\t\t\t\t\t\t\t|1|\n",
    "|map()\t\t\t\t\t\t\t\t\t\t|map() is used to substitute each value in a Series with another value.\t\t\t\t|1|\n",
    "|transform()\t\t\t\t\t\t\t\t|Call func on self producing a DataFrame with transformed values.\t\t\t\t\t|1|\n",
    "\n",
    "|Function\t    \t\t\t\t\t\t\t|Description\t\t\t\t\t\t\t\t\t\t\t\t\t\t\t\t\t\t|Part|\n",
    "|:-|:-|:-|\n",
    "|df.assign()\t\t\t\t\t\t\t\t|Assign new columns to a DataFrame.\t\t\t\t\t\t\t\t\t\t\t\t\t|2|\n",
    "|pipe()\t\t\t\t\t\t\t\t\t\t|Apply func(self, *args, **kwargs).\t\t\t\t\t\t\t\t\t\t\t\t\t|2|\n",
    "|df.update()\t\t\t\t\t\t\t\t|Modify in place using non-NA values from another DataFrame.\t\t\t\t\t\t|2|\n",
    "|df.take\t\t\t\t\t\t\t\t\t|Return the elements in the given positional indices along an axis.\t\t\t\t\t|2|\n",
    "|df.truncate\t\t\t\t\t\t\t\t|Truncate a Series or DataFrame before and after some index value.\t\t\t\t\t|2|\n",
    "\n",
    "|Function\t    \t\t\t\t\t\t\t|Description\t\t\t\t\t\t\t\t\t\t\t\t\t\t\t\t\t\t|Part|\n",
    "|:-|:-|:-|\n",
    "|df.items\t\t\t\t\t\t\t\t\t|Iterates over the DataFrame columns, returning a tuple with the column name and the content as a Series.|3|\n",
    "|df.iteritems\t\t\t\t\t\t\t\t|Iterates over the DataFrame columns, returning a tuple with the column name and the content as a Series.|3|\n",
    "|df.iterrows\t\t\t\t\t\t\t\t|Iterate over DataFrame rows as (index, Series) pairs.\t\t\t\t\t\t\t\t|3|\n",
    "|df.itertuples\t\t\t\t\t\t\t\t|Iterate over DataFrame rows as namedtuples.\t\t\t\t\t\t\t\t\t\t|3|"
   ]
  },
  {
   "cell_type": "markdown",
   "metadata": {},
   "source": [
    "## Description"
   ]
  },
  {
   "cell_type": "markdown",
   "metadata": {},
   "source": [
    "This Part is about Iteration over Dataframe, be it rows or columns.\n",
    "\n",
    "The explicit looping is Not as Efficient as the Implicit techniques.\n",
    "\n",
    "The following blogs give a complete idea about looping Dataframes."
   ]
  },
  {
   "cell_type": "markdown",
   "metadata": {},
   "source": [
    "### 1. https://www.dataindependent.com/pandas/pandas-iterate-over-rows/\n",
    "### 2. https://realpython.com/fast-flexible-pandas/\n",
    "### 3. https://stackoverflow.com/questions/24870953/does-pandas-iterrows-have-performance-issues/24871316#24871316"
   ]
  },
  {
   "cell_type": "markdown",
   "metadata": {},
   "source": [
    "## Summary\n",
    "\n",
    "- **Use ```vectorized operations```: Pandas methods and functions with no for-loops.**\n",
    "- **Use the ```.apply()``` method with a callable.**\n",
    "- **Use ```.itertuples()```: iterate over DataFrame rows as namedtuples from Python’s collections module.**\n",
    "- **Use ```.iterrows()```: iterate over DataFrame rows as (index, pd.Series) pairs. While a Pandas Series is a flexible data structure, it can be costly to construct each row into a Series and then access it.**\n",
    "- **Use “element-by-element” for loops, updating each cell or row one at a time with ```df.loc``` or ```df.iloc```. (Or, .at/.iat for fast scalar access.)**"
   ]
  },
  {
   "cell_type": "code",
   "execution_count": null,
   "metadata": {},
   "outputs": [],
   "source": []
  },
  {
   "cell_type": "code",
   "execution_count": null,
   "metadata": {},
   "outputs": [],
   "source": []
  },
  {
   "cell_type": "code",
   "execution_count": null,
   "metadata": {},
   "outputs": [],
   "source": []
  },
  {
   "cell_type": "markdown",
   "metadata": {},
   "source": [
    "# What's More..?? Upcoming HDFStore"
   ]
  },
  {
   "cell_type": "markdown",
   "metadata": {},
   "source": [
    "## Prevent Reprocessing with HDFStore"
   ]
  },
  {
   "cell_type": "markdown",
   "metadata": {},
   "source": [
    "Pandas has a built-in solution for this which uses HDF5 , a high-performance storage format designed specifically for storing tabular arrays of data. Pandas’ HDFStore class allows you to store your DataFrame in an HDF5 file so that it can be accessed efficiently, while still retaining column types and other metadata. It is a dictionary-like class, so you can read and write just as you would for a Python dict object.\n",
    "\n",
    "Here’s how you would go about storing your pre-processed DataFrame, df, in an HDF5 file"
   ]
  },
  {
   "cell_type": "code",
   "execution_count": 7,
   "metadata": {},
   "outputs": [
    {
     "name": "stderr",
     "output_type": "stream",
     "text": [
      "C:\\Users\\abhi0\\anaconda3\\lib\\site-packages\\IPython\\core\\interactiveshell.py:3418: PerformanceWarning: \n",
      "your performance may suffer as PyTables will pickle object types that it cannot\n",
      "map directly to c-types [inferred_type->mixed,key->block1_values] [items->Index(['Emp_Id', 'Emp_Name', 'Department', 'Role', 'Gender', 'WFH Status',\n",
      "       'DOB'],\n",
      "      dtype='object')]\n",
      "\n",
      "  exec(code_obj, self.user_global_ns, self.user_ns)\n"
     ]
    }
   ],
   "source": [
    "# Create storage object with filename `processed_data`\n",
    "data_store = pd.HDFStore('processed_data.h5')\n",
    "\n",
    "# Put DataFrame into the object setting the key as 'preprocessed_df'\n",
    "data_store['preprocessed_df'] = emp_df\n",
    "data_store.close()"
   ]
  },
  {
   "cell_type": "code",
   "execution_count": 4,
   "metadata": {},
   "outputs": [],
   "source": [
    "# Access data store\n",
    "data_store = pd.HDFStore('processed_data.h5')\n",
    "\n",
    "# Retrieve data using key\n",
    "preprocessed_emp_df = data_store['preprocessed_df']\n",
    "data_store.close()"
   ]
  },
  {
   "cell_type": "code",
   "execution_count": 5,
   "metadata": {},
   "outputs": [
    {
     "data": {
      "text/html": [
       "<div>\n",
       "<style scoped>\n",
       "    .dataframe tbody tr th:only-of-type {\n",
       "        vertical-align: middle;\n",
       "    }\n",
       "\n",
       "    .dataframe tbody tr th {\n",
       "        vertical-align: top;\n",
       "    }\n",
       "\n",
       "    .dataframe thead th {\n",
       "        text-align: right;\n",
       "    }\n",
       "</style>\n",
       "<table border=\"1\" class=\"dataframe\">\n",
       "  <thead>\n",
       "    <tr style=\"text-align: right;\">\n",
       "      <th></th>\n",
       "      <th>Emp_Id</th>\n",
       "      <th>Emp_Name</th>\n",
       "      <th>Department</th>\n",
       "      <th>Role</th>\n",
       "      <th>Gender</th>\n",
       "      <th>WFH Status</th>\n",
       "      <th>DOB</th>\n",
       "      <th>Salary</th>\n",
       "    </tr>\n",
       "  </thead>\n",
       "  <tbody>\n",
       "    <tr>\n",
       "      <th>0</th>\n",
       "      <td>1</td>\n",
       "      <td>Abhishek Kumar</td>\n",
       "      <td>AIML</td>\n",
       "      <td>Machine Learning Engineer</td>\n",
       "      <td>M</td>\n",
       "      <td>Y</td>\n",
       "      <td>04051990</td>\n",
       "      <td>1121000.0</td>\n",
       "    </tr>\n",
       "    <tr>\n",
       "      <th>1</th>\n",
       "      <td>2</td>\n",
       "      <td>Arjun Kumar</td>\n",
       "      <td>DM</td>\n",
       "      <td>Tech Lead</td>\n",
       "      <td>M</td>\n",
       "      <td>Y</td>\n",
       "      <td>09031992</td>\n",
       "      <td>109000.0</td>\n",
       "    </tr>\n",
       "    <tr>\n",
       "      <th>2</th>\n",
       "      <td>3</td>\n",
       "      <td>Vivek Raj</td>\n",
       "      <td>DM</td>\n",
       "      <td>Devops Engineer</td>\n",
       "      <td>M</td>\n",
       "      <td>N</td>\n",
       "      <td>NaN</td>\n",
       "      <td>827000.0</td>\n",
       "    </tr>\n",
       "    <tr>\n",
       "      <th>3</th>\n",
       "      <td>4</td>\n",
       "      <td>Mika Singh</td>\n",
       "      <td>DM</td>\n",
       "      <td>Data Analyst</td>\n",
       "      <td>F</td>\n",
       "      <td>Y</td>\n",
       "      <td>15101991</td>\n",
       "      <td>NaN</td>\n",
       "    </tr>\n",
       "    <tr>\n",
       "      <th>4</th>\n",
       "      <td>5</td>\n",
       "      <td>Anusha Yenduri</td>\n",
       "      <td>AIML</td>\n",
       "      <td>Data Scientist</td>\n",
       "      <td>F</td>\n",
       "      <td>Y</td>\n",
       "      <td>01011989</td>\n",
       "      <td>921000.0</td>\n",
       "    </tr>\n",
       "    <tr>\n",
       "      <th>5</th>\n",
       "      <td>6</td>\n",
       "      <td>Ritesh Srivastava</td>\n",
       "      <td>AIML</td>\n",
       "      <td>Data Engineer</td>\n",
       "      <td>M</td>\n",
       "      <td>Y</td>\n",
       "      <td>NaN</td>\n",
       "      <td>785000.0</td>\n",
       "    </tr>\n",
       "  </tbody>\n",
       "</table>\n",
       "</div>"
      ],
      "text/plain": [
       "  Emp_Id           Emp_Name Department                       Role Gender  \\\n",
       "0      1     Abhishek Kumar       AIML  Machine Learning Engineer      M   \n",
       "1      2        Arjun Kumar         DM                  Tech Lead      M   \n",
       "2      3          Vivek Raj         DM            Devops Engineer      M   \n",
       "3      4         Mika Singh         DM               Data Analyst      F   \n",
       "4      5     Anusha Yenduri       AIML             Data Scientist      F   \n",
       "5      6  Ritesh Srivastava       AIML              Data Engineer      M   \n",
       "\n",
       "  WFH Status       DOB     Salary  \n",
       "0          Y  04051990  1121000.0  \n",
       "1          Y  09031992   109000.0  \n",
       "2          N       NaN   827000.0  \n",
       "3          Y  15101991        NaN  \n",
       "4          Y  01011989   921000.0  \n",
       "5          Y       NaN   785000.0  "
      ]
     },
     "execution_count": 5,
     "metadata": {},
     "output_type": "execute_result"
    }
   ],
   "source": [
    "preprocessed_emp_df"
   ]
  },
  {
   "cell_type": "code",
   "execution_count": null,
   "metadata": {},
   "outputs": [],
   "source": []
  }
 ],
 "metadata": {
  "jupytext": {
   "encoding": "# -*- coding: utf-8 -*-",
   "formats": "ipynb,py"
  },
  "kernelspec": {
   "display_name": "Python 3",
   "language": "python",
   "name": "python3"
  },
  "language_info": {
   "codemirror_mode": {
    "name": "ipython",
    "version": 3
   },
   "file_extension": ".py",
   "mimetype": "text/x-python",
   "name": "python",
   "nbconvert_exporter": "python",
   "pygments_lexer": "ipython3",
   "version": "3.8.5"
  }
 },
 "nbformat": 4,
 "nbformat_minor": 4
}
