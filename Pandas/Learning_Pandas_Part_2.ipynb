{
 "cells": [
  {
   "cell_type": "markdown",
   "metadata": {},
   "source": [
    "### Prepared by Abhishek Kumar\n",
    "### https://www.linkedin.com/in/abhishek-kumar-442337b2/\n"
   ]
  },
  {
   "cell_type": "code",
   "execution_count": 1,
   "metadata": {},
   "outputs": [],
   "source": [
    "import pandas as pd\n",
    "import numpy as np\n",
    "import matplotlib.pyplot as plt"
   ]
  },
  {
   "cell_type": "code",
   "execution_count": 2,
   "metadata": {},
   "outputs": [],
   "source": [
    "# To get multiple outputs in the same cell\n",
    "\n",
    "from IPython.core.interactiveshell import InteractiveShell\n",
    "InteractiveShell.ast_node_interactivity = \"all\"\n",
    "\n",
    "%matplotlib inline"
   ]
  },
  {
   "cell_type": "code",
   "execution_count": 3,
   "metadata": {},
   "outputs": [
    {
     "data": {
      "text/html": [
       "<div>\n",
       "<style scoped>\n",
       "    .dataframe tbody tr th:only-of-type {\n",
       "        vertical-align: middle;\n",
       "    }\n",
       "\n",
       "    .dataframe tbody tr th {\n",
       "        vertical-align: top;\n",
       "    }\n",
       "\n",
       "    .dataframe thead th {\n",
       "        text-align: right;\n",
       "    }\n",
       "</style>\n",
       "<table border=\"1\" class=\"dataframe\">\n",
       "  <thead>\n",
       "    <tr style=\"text-align: right;\">\n",
       "      <th></th>\n",
       "      <th>Emp_Id</th>\n",
       "      <th>Emp_Name</th>\n",
       "      <th>Department</th>\n",
       "      <th>Role</th>\n",
       "      <th>Gender</th>\n",
       "      <th>WFH Status</th>\n",
       "      <th>DOB</th>\n",
       "      <th>Salary</th>\n",
       "    </tr>\n",
       "  </thead>\n",
       "  <tbody>\n",
       "    <tr>\n",
       "      <td>0</td>\n",
       "      <td>1</td>\n",
       "      <td>Abhishek Kumar</td>\n",
       "      <td>AIML</td>\n",
       "      <td>Machine Learning Engineer</td>\n",
       "      <td>M</td>\n",
       "      <td>Y</td>\n",
       "      <td>04051990</td>\n",
       "      <td>1121000</td>\n",
       "    </tr>\n",
       "    <tr>\n",
       "      <td>1</td>\n",
       "      <td>2</td>\n",
       "      <td>Arjun Kumar</td>\n",
       "      <td>DM</td>\n",
       "      <td>Tech Lead</td>\n",
       "      <td>M</td>\n",
       "      <td>Y</td>\n",
       "      <td>09031992</td>\n",
       "      <td>109000</td>\n",
       "    </tr>\n",
       "    <tr>\n",
       "      <td>2</td>\n",
       "      <td>3</td>\n",
       "      <td>Vivek Raj</td>\n",
       "      <td>DM</td>\n",
       "      <td>Devops Engineer</td>\n",
       "      <td>M</td>\n",
       "      <td>N</td>\n",
       "      <td>NaN</td>\n",
       "      <td>827000</td>\n",
       "    </tr>\n",
       "    <tr>\n",
       "      <td>3</td>\n",
       "      <td>4</td>\n",
       "      <td>Mika Singh</td>\n",
       "      <td>DM</td>\n",
       "      <td>Data Analyst</td>\n",
       "      <td>F</td>\n",
       "      <td>Y</td>\n",
       "      <td>15101991</td>\n",
       "      <td>929000</td>\n",
       "    </tr>\n",
       "    <tr>\n",
       "      <td>4</td>\n",
       "      <td>5</td>\n",
       "      <td>Anusha Yenduri</td>\n",
       "      <td>AIML</td>\n",
       "      <td>Data Scientist</td>\n",
       "      <td>M</td>\n",
       "      <td>Y</td>\n",
       "      <td>01011989</td>\n",
       "      <td>921000</td>\n",
       "    </tr>\n",
       "    <tr>\n",
       "      <td>5</td>\n",
       "      <td>6</td>\n",
       "      <td>Ritesh Srivastava</td>\n",
       "      <td>AIML</td>\n",
       "      <td>Data Engineer</td>\n",
       "      <td>M</td>\n",
       "      <td>Y</td>\n",
       "      <td>NaN</td>\n",
       "      <td>785000</td>\n",
       "    </tr>\n",
       "  </tbody>\n",
       "</table>\n",
       "</div>"
      ],
      "text/plain": [
       "  Emp_Id           Emp_Name Department                       Role Gender  \\\n",
       "0      1     Abhishek Kumar       AIML  Machine Learning Engineer      M   \n",
       "1      2        Arjun Kumar         DM                  Tech Lead      M   \n",
       "2      3          Vivek Raj         DM            Devops Engineer      M   \n",
       "3      4         Mika Singh         DM               Data Analyst      F   \n",
       "4      5     Anusha Yenduri       AIML             Data Scientist      M   \n",
       "5      6  Ritesh Srivastava       AIML              Data Engineer      M   \n",
       "\n",
       "  WFH Status       DOB   Salary  \n",
       "0          Y  04051990  1121000  \n",
       "1          Y  09031992   109000  \n",
       "2          N       NaN   827000  \n",
       "3          Y  15101991   929000  \n",
       "4          Y  01011989   921000  \n",
       "5          Y       NaN   785000  "
      ]
     },
     "execution_count": 3,
     "metadata": {},
     "output_type": "execute_result"
    }
   ],
   "source": [
    "salary = [['1','Abhishek Kumar','AIML', 'Machine Learning Engineer','M', 'Y', '04051990', 1121000],\n",
    "          ['2','Arjun Kumar','DM', 'Tech Lead','M', 'Y', '09031992', 109000],\n",
    "          ['3','Vivek Raj','DM', 'Devops Engineer','M', 'N', np.NaN , 827000],\n",
    "          ['4','Mika Singh','DM', 'Data Analyst','F', 'Y', '15101991',  929000],\n",
    "          ['5','Anusha Yenduri','AIML', 'Data Scientist','M', 'Y', '01011989',  921000],\n",
    "          ['6','Ritesh Srivastava','AIML', 'Data Engineer','M', 'Y', np.NaN, 785000]]\n",
    "\n",
    "columns_name=['Emp_Id','Emp_Name','Department','Role','Gender', 'WFH Status', 'DOB', 'Salary']\n",
    "\n",
    "emp_df = pd.DataFrame(salary,columns=columns_name)\n",
    "emp_df"
   ]
  },
  {
   "cell_type": "markdown",
   "metadata": {},
   "source": [
    "#### DataFrame.nunique(self, axis=0, dropna=True)\n",
    "\n",
    "Count distinct observations over requested axis.\n",
    "\n",
    "1. Parameters - axis{0 or ‘index’, 1 or ‘columns’}, default 0 : The axis to use. 0 or ‘index’ for row-wise, 1 or ‘columns’ for column-wise.\n",
    "2. dropna - bool, default True : Don’t include NaN in the counts.\n",
    "3. Returns - Series : Return Series with number of distinct observations. Can ignore NaN values."
   ]
  },
  {
   "cell_type": "code",
   "execution_count": 4,
   "metadata": {},
   "outputs": [
    {
     "data": {
      "text/html": [
       "<div>\n",
       "<style scoped>\n",
       "    .dataframe tbody tr th:only-of-type {\n",
       "        vertical-align: middle;\n",
       "    }\n",
       "\n",
       "    .dataframe tbody tr th {\n",
       "        vertical-align: top;\n",
       "    }\n",
       "\n",
       "    .dataframe thead th {\n",
       "        text-align: right;\n",
       "    }\n",
       "</style>\n",
       "<table border=\"1\" class=\"dataframe\">\n",
       "  <thead>\n",
       "    <tr style=\"text-align: right;\">\n",
       "      <th></th>\n",
       "      <th>Emp_Id</th>\n",
       "      <th>Emp_Name</th>\n",
       "      <th>Department</th>\n",
       "      <th>Role</th>\n",
       "      <th>Gender</th>\n",
       "      <th>WFH Status</th>\n",
       "      <th>DOB</th>\n",
       "      <th>Salary</th>\n",
       "    </tr>\n",
       "  </thead>\n",
       "  <tbody>\n",
       "    <tr>\n",
       "      <td>0</td>\n",
       "      <td>1</td>\n",
       "      <td>Abhishek Kumar</td>\n",
       "      <td>AIML</td>\n",
       "      <td>Machine Learning Engineer</td>\n",
       "      <td>M</td>\n",
       "      <td>Y</td>\n",
       "      <td>04051990</td>\n",
       "      <td>1121000</td>\n",
       "    </tr>\n",
       "    <tr>\n",
       "      <td>1</td>\n",
       "      <td>2</td>\n",
       "      <td>Arjun Kumar</td>\n",
       "      <td>DM</td>\n",
       "      <td>Tech Lead</td>\n",
       "      <td>M</td>\n",
       "      <td>Y</td>\n",
       "      <td>09031992</td>\n",
       "      <td>109000</td>\n",
       "    </tr>\n",
       "    <tr>\n",
       "      <td>2</td>\n",
       "      <td>3</td>\n",
       "      <td>Vivek Raj</td>\n",
       "      <td>DM</td>\n",
       "      <td>Devops Engineer</td>\n",
       "      <td>M</td>\n",
       "      <td>N</td>\n",
       "      <td>NaN</td>\n",
       "      <td>827000</td>\n",
       "    </tr>\n",
       "    <tr>\n",
       "      <td>3</td>\n",
       "      <td>4</td>\n",
       "      <td>Mika Singh</td>\n",
       "      <td>DM</td>\n",
       "      <td>Data Analyst</td>\n",
       "      <td>F</td>\n",
       "      <td>Y</td>\n",
       "      <td>15101991</td>\n",
       "      <td>929000</td>\n",
       "    </tr>\n",
       "    <tr>\n",
       "      <td>4</td>\n",
       "      <td>5</td>\n",
       "      <td>Anusha Yenduri</td>\n",
       "      <td>AIML</td>\n",
       "      <td>Data Scientist</td>\n",
       "      <td>M</td>\n",
       "      <td>Y</td>\n",
       "      <td>01011989</td>\n",
       "      <td>921000</td>\n",
       "    </tr>\n",
       "    <tr>\n",
       "      <td>5</td>\n",
       "      <td>6</td>\n",
       "      <td>Ritesh Srivastava</td>\n",
       "      <td>AIML</td>\n",
       "      <td>Data Engineer</td>\n",
       "      <td>M</td>\n",
       "      <td>Y</td>\n",
       "      <td>NaN</td>\n",
       "      <td>785000</td>\n",
       "    </tr>\n",
       "  </tbody>\n",
       "</table>\n",
       "</div>"
      ],
      "text/plain": [
       "  Emp_Id           Emp_Name Department                       Role Gender  \\\n",
       "0      1     Abhishek Kumar       AIML  Machine Learning Engineer      M   \n",
       "1      2        Arjun Kumar         DM                  Tech Lead      M   \n",
       "2      3          Vivek Raj         DM            Devops Engineer      M   \n",
       "3      4         Mika Singh         DM               Data Analyst      F   \n",
       "4      5     Anusha Yenduri       AIML             Data Scientist      M   \n",
       "5      6  Ritesh Srivastava       AIML              Data Engineer      M   \n",
       "\n",
       "  WFH Status       DOB   Salary  \n",
       "0          Y  04051990  1121000  \n",
       "1          Y  09031992   109000  \n",
       "2          N       NaN   827000  \n",
       "3          Y  15101991   929000  \n",
       "4          Y  01011989   921000  \n",
       "5          Y       NaN   785000  "
      ]
     },
     "execution_count": 4,
     "metadata": {},
     "output_type": "execute_result"
    },
    {
     "data": {
      "text/plain": [
       "Emp_Id        6\n",
       "Emp_Name      6\n",
       "Department    2\n",
       "Role          6\n",
       "Gender        2\n",
       "WFH Status    2\n",
       "DOB           4\n",
       "Salary        6\n",
       "dtype: int64"
      ]
     },
     "execution_count": 4,
     "metadata": {},
     "output_type": "execute_result"
    },
    {
     "data": {
      "text/plain": [
       "6"
      ]
     },
     "execution_count": 4,
     "metadata": {},
     "output_type": "execute_result"
    },
    {
     "data": {
      "text/plain": [
       "6"
      ]
     },
     "execution_count": 4,
     "metadata": {},
     "output_type": "execute_result"
    },
    {
     "data": {
      "text/plain": [
       "array([6, 6, 2, 6, 2, 2, 4, 6], dtype=int64)"
      ]
     },
     "execution_count": 4,
     "metadata": {},
     "output_type": "execute_result"
    },
    {
     "data": {
      "text/plain": [
       "[6, 6, 2, 6, 2, 2, 4, 6]"
      ]
     },
     "execution_count": 4,
     "metadata": {},
     "output_type": "execute_result"
    },
    {
     "data": {
      "text/plain": [
       "0    8\n",
       "1    8\n",
       "2    7\n",
       "3    8\n",
       "4    8\n",
       "5    7\n",
       "dtype: int64"
      ]
     },
     "execution_count": 4,
     "metadata": {},
     "output_type": "execute_result"
    }
   ],
   "source": [
    "# Setup : DataFrame creation\n",
    "emp_df_1 = emp_df.copy()\n",
    "emp_df_1\n",
    "\n",
    "emp_df_1.nunique()\n",
    "emp_df_1.nunique()[0]\n",
    "emp_df_1.nunique().max()\n",
    "emp_df_1.nunique().values\n",
    "emp_df_1.nunique().tolist()\n",
    "\n",
    "emp_df_1.nunique(axis=1)"
   ]
  },
  {
   "cell_type": "markdown",
   "metadata": {},
   "source": [
    "#### DataFrame.count(self, axis=0, level=None, numeric_only=False)\n",
    "\n",
    "1. Count non-NA cells for each column or row.\n",
    "2. The values None, NaN, NaT, and optionally numpy.inf (depending on pandas.options.mode.use_inf_as_na) are considered NA.\n",
    "3. Returns - Series or DataFrame : For each column/row the number of non-NA/null entries. If level is specified returns a DataFrame."
   ]
  },
  {
   "cell_type": "code",
   "execution_count": 5,
   "metadata": {},
   "outputs": [
    {
     "data": {
      "text/html": [
       "<div>\n",
       "<style scoped>\n",
       "    .dataframe tbody tr th:only-of-type {\n",
       "        vertical-align: middle;\n",
       "    }\n",
       "\n",
       "    .dataframe tbody tr th {\n",
       "        vertical-align: top;\n",
       "    }\n",
       "\n",
       "    .dataframe thead th {\n",
       "        text-align: right;\n",
       "    }\n",
       "</style>\n",
       "<table border=\"1\" class=\"dataframe\">\n",
       "  <thead>\n",
       "    <tr style=\"text-align: right;\">\n",
       "      <th></th>\n",
       "      <th>Emp_Id</th>\n",
       "      <th>Emp_Name</th>\n",
       "      <th>Department</th>\n",
       "      <th>Role</th>\n",
       "      <th>Gender</th>\n",
       "      <th>WFH Status</th>\n",
       "      <th>DOB</th>\n",
       "      <th>Salary</th>\n",
       "    </tr>\n",
       "  </thead>\n",
       "  <tbody>\n",
       "    <tr>\n",
       "      <td>0</td>\n",
       "      <td>1</td>\n",
       "      <td>Abhishek Kumar</td>\n",
       "      <td>AIML</td>\n",
       "      <td>Machine Learning Engineer</td>\n",
       "      <td>M</td>\n",
       "      <td>Y</td>\n",
       "      <td>04051990</td>\n",
       "      <td>1121000</td>\n",
       "    </tr>\n",
       "    <tr>\n",
       "      <td>1</td>\n",
       "      <td>2</td>\n",
       "      <td>Arjun Kumar</td>\n",
       "      <td>DM</td>\n",
       "      <td>Tech Lead</td>\n",
       "      <td>M</td>\n",
       "      <td>Y</td>\n",
       "      <td>09031992</td>\n",
       "      <td>109000</td>\n",
       "    </tr>\n",
       "    <tr>\n",
       "      <td>2</td>\n",
       "      <td>3</td>\n",
       "      <td>Vivek Raj</td>\n",
       "      <td>DM</td>\n",
       "      <td>Devops Engineer</td>\n",
       "      <td>M</td>\n",
       "      <td>N</td>\n",
       "      <td>NaN</td>\n",
       "      <td>827000</td>\n",
       "    </tr>\n",
       "    <tr>\n",
       "      <td>3</td>\n",
       "      <td>4</td>\n",
       "      <td>Mika Singh</td>\n",
       "      <td>DM</td>\n",
       "      <td>Data Analyst</td>\n",
       "      <td>F</td>\n",
       "      <td>Y</td>\n",
       "      <td>15101991</td>\n",
       "      <td>929000</td>\n",
       "    </tr>\n",
       "    <tr>\n",
       "      <td>4</td>\n",
       "      <td>5</td>\n",
       "      <td>Anusha Yenduri</td>\n",
       "      <td>AIML</td>\n",
       "      <td>Data Scientist</td>\n",
       "      <td>M</td>\n",
       "      <td>Y</td>\n",
       "      <td>01011989</td>\n",
       "      <td>921000</td>\n",
       "    </tr>\n",
       "    <tr>\n",
       "      <td>5</td>\n",
       "      <td>6</td>\n",
       "      <td>Ritesh Srivastava</td>\n",
       "      <td>AIML</td>\n",
       "      <td>Data Engineer</td>\n",
       "      <td>M</td>\n",
       "      <td>Y</td>\n",
       "      <td>NaN</td>\n",
       "      <td>785000</td>\n",
       "    </tr>\n",
       "  </tbody>\n",
       "</table>\n",
       "</div>"
      ],
      "text/plain": [
       "  Emp_Id           Emp_Name Department                       Role Gender  \\\n",
       "0      1     Abhishek Kumar       AIML  Machine Learning Engineer      M   \n",
       "1      2        Arjun Kumar         DM                  Tech Lead      M   \n",
       "2      3          Vivek Raj         DM            Devops Engineer      M   \n",
       "3      4         Mika Singh         DM               Data Analyst      F   \n",
       "4      5     Anusha Yenduri       AIML             Data Scientist      M   \n",
       "5      6  Ritesh Srivastava       AIML              Data Engineer      M   \n",
       "\n",
       "  WFH Status       DOB   Salary  \n",
       "0          Y  04051990  1121000  \n",
       "1          Y  09031992   109000  \n",
       "2          N       NaN   827000  \n",
       "3          Y  15101991   929000  \n",
       "4          Y  01011989   921000  \n",
       "5          Y       NaN   785000  "
      ]
     },
     "execution_count": 5,
     "metadata": {},
     "output_type": "execute_result"
    },
    {
     "data": {
      "text/plain": [
       "Emp_Id        6\n",
       "Emp_Name      6\n",
       "Department    6\n",
       "Role          6\n",
       "Gender        6\n",
       "WFH Status    6\n",
       "DOB           4\n",
       "Salary        6\n",
       "dtype: int64"
      ]
     },
     "execution_count": 5,
     "metadata": {},
     "output_type": "execute_result"
    },
    {
     "data": {
      "text/plain": [
       "0    8\n",
       "1    8\n",
       "2    7\n",
       "3    8\n",
       "4    8\n",
       "5    7\n",
       "dtype: int64"
      ]
     },
     "execution_count": 5,
     "metadata": {},
     "output_type": "execute_result"
    }
   ],
   "source": [
    "# Setup : DataFrame creation\n",
    "emp_df_2 = emp_df.copy()\n",
    "emp_df_2\n",
    "\n",
    "emp_df_2.count(axis=0)\n",
    "\n",
    "emp_df_2.count(axis=1)"
   ]
  },
  {
   "cell_type": "code",
   "execution_count": null,
   "metadata": {},
   "outputs": [],
   "source": []
  }
 ],
 "metadata": {
  "kernelspec": {
   "display_name": "Python 3",
   "language": "python",
   "name": "python3"
  },
  "language_info": {
   "codemirror_mode": {
    "name": "ipython",
    "version": 3
   },
   "file_extension": ".py",
   "mimetype": "text/x-python",
   "name": "python",
   "nbconvert_exporter": "python",
   "pygments_lexer": "ipython3",
   "version": "3.7.4"
  }
 },
 "nbformat": 4,
 "nbformat_minor": 2
}
