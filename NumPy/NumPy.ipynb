{
 "cells": [
  {
   "cell_type": "markdown",
   "metadata": {},
   "source": [
    "# Create and Initialize NumPy Arrays\n",
    "\n",
    "## To create NumPy arrays of different datatypes"
   ]
  },
  {
   "cell_type": "code",
   "execution_count": 1,
   "metadata": {},
   "outputs": [],
   "source": [
    "# import numpy package\n",
    "import numpy as np"
   ]
  },
  {
   "cell_type": "code",
   "execution_count": 2,
   "metadata": {},
   "outputs": [
    {
     "name": "stdout",
     "output_type": "stream",
     "text": [
      "[1 2 3]\n",
      "int16\n"
     ]
    }
   ],
   "source": [
    "# array(),dtype\n",
    "a=np.array([1,2,3], dtype=np.int16)\n",
    "print(a)\n",
    "print(a.dtype)"
   ]
  },
  {
   "cell_type": "code",
   "execution_count": 3,
   "metadata": {},
   "outputs": [
    {
     "name": "stdout",
     "output_type": "stream",
     "text": [
      "[0 1 2 3 4 5 6 7 8 9]\n",
      "int32\n"
     ]
    }
   ],
   "source": [
    "# arange() - creates an array with evenly spaced numbers between start,inclusive and end,exclusive\n",
    "ar=np.arange(0,10,1,dtype=np.int32)\n",
    "print(ar)\n",
    "print(ar.dtype)"
   ]
  },
  {
   "cell_type": "code",
   "execution_count": 4,
   "metadata": {},
   "outputs": [
    {
     "name": "stdout",
     "output_type": "stream",
     "text": [
      "[1. 2. 3.]\n",
      "float16\n",
      "\n",
      "\n",
      "[0. 1. 2. 3. 4. 5. 6. 7. 8. 9.]\n",
      "float64\n"
     ]
    }
   ],
   "source": [
    "# array(), dtype\n",
    "b=np.array([1,2,3],dtype=np.float16)\n",
    "print(b)\n",
    "print(b.dtype)\n",
    "\n",
    "print('\\n')\n",
    "\n",
    "# arange() - creates an array with evenly spaced numbers between start,inclusive and end,exclusive\n",
    "br=np.arange(0,10,1,dtype=np.float64)\n",
    "print(br)\n",
    "print(br.dtype)"
   ]
  },
  {
   "cell_type": "markdown",
   "metadata": {},
   "source": [
    "## To get the no. of axes, dimensions"
   ]
  },
  {
   "cell_type": "code",
   "execution_count": 5,
   "metadata": {},
   "outputs": [
    {
     "name": "stdout",
     "output_type": "stream",
     "text": [
      "1\n",
      "1\n",
      "1\n",
      "1\n",
      "\n",
      "\n",
      "1\n",
      "1\n",
      "1\n",
      "1\n"
     ]
    }
   ],
   "source": [
    "# ndim()\n",
    "print(np.ndim(a))\n",
    "print(np.ndim(ar))\n",
    "print(np.ndim(b))\n",
    "print(np.ndim(br))\n",
    "\n",
    "print('\\n')\n",
    "\n",
    "print(a.ndim)\n",
    "print(ar.ndim)\n",
    "print(b.ndim)\n",
    "print(br.ndim)"
   ]
  },
  {
   "cell_type": "code",
   "execution_count": 6,
   "metadata": {},
   "outputs": [
    {
     "name": "stdout",
     "output_type": "stream",
     "text": [
      "[[1 2]\n",
      " [3 4]\n",
      " [5 6]]\n",
      "2\n",
      "2\n"
     ]
    }
   ],
   "source": [
    "# 2-D\n",
    "c=np.array([[1,2],[3,4],[5,6]])\n",
    "print(c)\n",
    "print(np.ndim(c))\n",
    "print(c.ndim)"
   ]
  },
  {
   "cell_type": "code",
   "execution_count": 7,
   "metadata": {},
   "outputs": [
    {
     "name": "stdout",
     "output_type": "stream",
     "text": [
      "[[[ 1  2]\n",
      "  [ 3  4]\n",
      "  [ 5  6]]\n",
      "\n",
      " [[11 12]\n",
      "  [13 14]\n",
      "  [15 16]]]\n",
      "3\n",
      "3\n"
     ]
    }
   ],
   "source": [
    "# 3-D\n",
    "d=np.array([[[1,2],[3,4],[5,6]],[[11,12],[13,14],[15,16]]])\n",
    "print(d)\n",
    "print(np.ndim(d))\n",
    "print(d.ndim)"
   ]
  },
  {
   "cell_type": "markdown",
   "metadata": {},
   "source": [
    "## To get the No. of Axes and No. of elements in each Axis"
   ]
  },
  {
   "cell_type": "code",
   "execution_count": 8,
   "metadata": {},
   "outputs": [
    {
     "name": "stdout",
     "output_type": "stream",
     "text": [
      "(3,)\n",
      "(3,)\n",
      "(3, 2)\n",
      "(2, 3, 2)\n",
      "\n",
      "\n",
      "(3,)\n",
      "(3,)\n",
      "(3, 2)\n",
      "(2, 3, 2)\n",
      "\n",
      "\n",
      "2\n",
      "3\n",
      "2\n"
     ]
    }
   ],
   "source": [
    "# shape()\n",
    "print(np.shape(a))\n",
    "print(np.shape(b))\n",
    "print(np.shape(c))\n",
    "print(np.shape(d))\n",
    "\n",
    "print('\\n')\n",
    "\n",
    "print(a.shape)\n",
    "print(b.shape)\n",
    "print(c.shape)\n",
    "print(d.shape)\n",
    "\n",
    "print('\\n')\n",
    "\n",
    "print(d.shape[0])\n",
    "print(d.shape[1])\n",
    "print(d.shape[2])"
   ]
  },
  {
   "cell_type": "markdown",
   "metadata": {},
   "source": [
    "## To create NumPy arrays using ones() and zeros()"
   ]
  },
  {
   "cell_type": "code",
   "execution_count": 9,
   "metadata": {},
   "outputs": [
    {
     "name": "stdout",
     "output_type": "stream",
     "text": [
      "[[0. 0. 0.]\n",
      " [0. 0. 0.]]\n",
      "(2, 3)\n",
      "\n",
      "\n",
      "[[[1. 1.]\n",
      "  [1. 1.]\n",
      "  [1. 1.]]\n",
      "\n",
      " [[1. 1.]\n",
      "  [1. 1.]\n",
      "  [1. 1.]]]\n",
      "(2, 3, 2)\n"
     ]
    }
   ],
   "source": [
    "zero=np.zeros((2,3))\n",
    "print(zero)\n",
    "print(zero.shape)\n",
    "\n",
    "print('\\n')\n",
    "\n",
    "one=np.ones((2,3,2))\n",
    "print(one)\n",
    "print(one.shape)"
   ]
  },
  {
   "cell_type": "markdown",
   "metadata": {},
   "source": [
    "## Specify the dtype as the second argument to create array with specific datatype"
   ]
  },
  {
   "cell_type": "code",
   "execution_count": 10,
   "metadata": {},
   "outputs": [
    {
     "name": "stdout",
     "output_type": "stream",
     "text": [
      "[[[0]\n",
      "  [0]]\n",
      "\n",
      " [[0]\n",
      "  [0]]\n",
      "\n",
      " [[0]\n",
      "  [0]]]\n",
      "(3, 2, 1)\n",
      "\n",
      "\n",
      "[[[1 1 1]\n",
      "  [1 1 1]]]\n",
      "(1, 2, 3)\n",
      "\n",
      "\n",
      "[1 1 1 1 1 1 1 1 1]\n",
      "(9,)\n"
     ]
    }
   ],
   "source": [
    "zero=np.zeros((3,2,1),dtype=np.int16)\n",
    "print(zero)\n",
    "print(zero.shape)\n",
    "\n",
    "print('\\n')\n",
    "\n",
    "one=np.ones((1,2,3),dtype=np.int16)\n",
    "print(one)\n",
    "print(one.shape)\n",
    "\n",
    "print('\\n')\n",
    "\n",
    "one=np.ones((9),dtype=np.int16)\n",
    "print(one)\n",
    "print(one.shape)"
   ]
  },
  {
   "cell_type": "markdown",
   "metadata": {},
   "source": [
    "##  To create an evenly spaced sequence of float values in a specific interval - linspace()"
   ]
  },
  {
   "cell_type": "code",
   "execution_count": 11,
   "metadata": {},
   "outputs": [
    {
     "data": {
      "text/plain": [
       "array([ 1,  1,  2,  3,  4,  5,  6,  7,  8,  9, 10])"
      ]
     },
     "execution_count": 11,
     "metadata": {},
     "output_type": "execute_result"
    }
   ],
   "source": [
    "arr=np.linspace(1,10,11,dtype=np.int32)\n",
    "arr"
   ]
  },
  {
   "cell_type": "code",
   "execution_count": 12,
   "metadata": {},
   "outputs": [
    {
     "data": {
      "text/plain": [
       "array([ 1. ,  1.9,  2.8,  3.7,  4.6,  5.5,  6.4,  7.3,  8.2,  9.1, 10. ],\n",
       "      dtype=float32)"
      ]
     },
     "execution_count": 12,
     "metadata": {},
     "output_type": "execute_result"
    }
   ],
   "source": [
    "arr=np.linspace(1,10,11,dtype=np.float32)\n",
    "arr"
   ]
  },
  {
   "cell_type": "markdown",
   "metadata": {},
   "source": [
    "Note: Check the difference in the array created due to difference in datatype."
   ]
  },
  {
   "cell_type": "markdown",
   "metadata": {},
   "source": [
    "# Indexing and Slicing in NumPy Arrays"
   ]
  },
  {
   "cell_type": "code",
   "execution_count": 13,
   "metadata": {},
   "outputs": [
    {
     "name": "stdout",
     "output_type": "stream",
     "text": [
      "[0 1 2 3 4 5 6 7 8 9]\n"
     ]
    }
   ],
   "source": [
    "# Create an array with 10 elements\n",
    "a = np.arange(0, 10)\n",
    "print(a)"
   ]
  },
  {
   "cell_type": "code",
   "execution_count": 14,
   "metadata": {},
   "outputs": [
    {
     "name": "stdout",
     "output_type": "stream",
     "text": [
      "[0 1 2 3 4 5 6 7 8 9]\n"
     ]
    }
   ],
   "source": [
    "print(a[:])"
   ]
  },
  {
   "cell_type": "code",
   "execution_count": 15,
   "metadata": {},
   "outputs": [
    {
     "name": "stdout",
     "output_type": "stream",
     "text": [
      "[1 2 3 4 5 6 7 8 9]\n"
     ]
    }
   ],
   "source": [
    "print(a[1:])"
   ]
  },
  {
   "cell_type": "code",
   "execution_count": 16,
   "metadata": {},
   "outputs": [
    {
     "name": "stdout",
     "output_type": "stream",
     "text": [
      "[1 2]\n"
     ]
    }
   ],
   "source": [
    "print(a[1:3])"
   ]
  },
  {
   "cell_type": "code",
   "execution_count": 17,
   "metadata": {},
   "outputs": [
    {
     "name": "stdout",
     "output_type": "stream",
     "text": [
      "[1 2 3 4 5 6 7 8]\n"
     ]
    }
   ],
   "source": [
    "print(a[1:-1])"
   ]
  },
  {
   "cell_type": "code",
   "execution_count": 18,
   "metadata": {},
   "outputs": [
    {
     "name": "stdout",
     "output_type": "stream",
     "text": [
      "[0 1]\n"
     ]
    }
   ],
   "source": [
    "print(a[:2])"
   ]
  },
  {
   "cell_type": "code",
   "execution_count": 19,
   "metadata": {},
   "outputs": [
    {
     "name": "stdout",
     "output_type": "stream",
     "text": [
      "[0 2 4 6 8]\n"
     ]
    }
   ],
   "source": [
    "print(a[::2])"
   ]
  },
  {
   "cell_type": "code",
   "execution_count": 20,
   "metadata": {},
   "outputs": [
    {
     "name": "stdout",
     "output_type": "stream",
     "text": [
      "[1 3 5 7 9]\n"
     ]
    }
   ],
   "source": [
    "print(a[1::2])"
   ]
  },
  {
   "cell_type": "code",
   "execution_count": 21,
   "metadata": {},
   "outputs": [
    {
     "name": "stdout",
     "output_type": "stream",
     "text": [
      "[9 8 7 6 5 4 3 2 1 0]\n"
     ]
    }
   ],
   "source": [
    "# Reverse the array\n",
    "print(a[::-1])"
   ]
  },
  {
   "cell_type": "code",
   "execution_count": 22,
   "metadata": {},
   "outputs": [
    {
     "name": "stdout",
     "output_type": "stream",
     "text": [
      "[9 7 5 3]\n"
     ]
    }
   ],
   "source": [
    "# The default start index for negative step sizes is -1\n",
    "print(a[:1:-2])"
   ]
  },
  {
   "cell_type": "code",
   "execution_count": 23,
   "metadata": {},
   "outputs": [
    {
     "name": "stdout",
     "output_type": "stream",
     "text": [
      "[9 7 5 3]\n"
     ]
    }
   ],
   "source": [
    "print(a[-1:1:-2])"
   ]
  },
  {
   "cell_type": "code",
   "execution_count": 24,
   "metadata": {},
   "outputs": [
    {
     "data": {
      "text/plain": [
       "array([ 0,  1, 12,  3,  4,  5,  6,  7,  8,  9])"
      ]
     },
     "execution_count": 24,
     "metadata": {},
     "output_type": "execute_result"
    }
   ],
   "source": [
    "# Assignment of a value to an index\n",
    "a[2]=12\n",
    "a"
   ]
  },
  {
   "cell_type": "code",
   "execution_count": 25,
   "metadata": {},
   "outputs": [
    {
     "data": {
      "text/plain": [
       "array([101,   1, 101,   3, 101,   5, 101,   7, 101,   9])"
      ]
     },
     "execution_count": 25,
     "metadata": {},
     "output_type": "execute_result"
    }
   ],
   "source": [
    "# Assignment of a value to an extended slice\n",
    "a[::2]=101\n",
    "a"
   ]
  },
  {
   "cell_type": "code",
   "execution_count": 26,
   "metadata": {},
   "outputs": [
    {
     "data": {
      "text/plain": [
       "array([[ 0,  1,  2,  3],\n",
       "       [ 4,  5,  6,  7],\n",
       "       [ 8,  9, 10, 11],\n",
       "       [12, 13, 14, 15]])"
      ]
     },
     "execution_count": 26,
     "metadata": {},
     "output_type": "execute_result"
    }
   ],
   "source": [
    "a = np.arange(16)\n",
    "\n",
    "# converts array a from a single-axis array print(a)\n",
    "a = a.reshape((4,4))\n",
    "a"
   ]
  },
  {
   "cell_type": "code",
   "execution_count": 27,
   "metadata": {},
   "outputs": [
    {
     "name": "stdout",
     "output_type": "stream",
     "text": [
      "[ 1  5  9 13]\n"
     ]
    }
   ],
   "source": [
    "print(a[:, 1])"
   ]
  },
  {
   "cell_type": "code",
   "execution_count": 28,
   "metadata": {},
   "outputs": [
    {
     "name": "stdout",
     "output_type": "stream",
     "text": [
      "[4 5 6 7]\n"
     ]
    }
   ],
   "source": [
    "print(a[1, :])"
   ]
  },
  {
   "cell_type": "code",
   "execution_count": 29,
   "metadata": {},
   "outputs": [
    {
     "name": "stdout",
     "output_type": "stream",
     "text": [
      "[4 6]\n"
     ]
    }
   ],
   "source": [
    "print(a[1, ::2])"
   ]
  },
  {
   "cell_type": "code",
   "execution_count": 30,
   "metadata": {},
   "outputs": [
    {
     "name": "stdout",
     "output_type": "stream",
     "text": [
      "[[ 0  1  2]\n",
      " [ 4  5  6]\n",
      " [ 8  9 10]\n",
      " [12 13 14]]\n"
     ]
    }
   ],
   "source": [
    "print(a[:, :-1])"
   ]
  },
  {
   "cell_type": "code",
   "execution_count": 31,
   "metadata": {},
   "outputs": [
    {
     "name": "stdout",
     "output_type": "stream",
     "text": [
      "[[ 0  1  2  3]\n",
      " [ 4  5  6  7]\n",
      " [ 8  9 10 11]]\n"
     ]
    }
   ],
   "source": [
    "print(a[:-1]) # Same as a[:-1, :]"
   ]
  },
  {
   "cell_type": "code",
   "execution_count": 32,
   "metadata": {},
   "outputs": [
    {
     "name": "stdout",
     "output_type": "stream",
     "text": [
      "[[[ 0  1  2]\n",
      "  [ 3  4  5]\n",
      "  [ 6  7  8]]\n",
      "\n",
      " [[ 9 10 11]\n",
      "  [12 13 14]\n",
      "  [15 16 17]]\n",
      "\n",
      " [[18 19 20]\n",
      "  [21 22 23]\n",
      "  [24 25 26]]]\n",
      "[0 3 6]\n"
     ]
    }
   ],
   "source": [
    "b = np.arange(3**3)\n",
    "b = b.reshape((3,3,3))\n",
    "print(b)\n",
    "print(b[0, ..., 0])"
   ]
  },
  {
   "cell_type": "code",
   "execution_count": 33,
   "metadata": {},
   "outputs": [
    {
     "name": "stdout",
     "output_type": "stream",
     "text": [
      "[[ 3  4  5]\n",
      " [12 13 14]\n",
      " [21 22 23]]\n"
     ]
    }
   ],
   "source": [
    "# Incase of only 2 or 1 arguments, the indexes are considered in 3d,2d,1d axis.\n",
    "print(b[:, 1])"
   ]
  },
  {
   "cell_type": "code",
   "execution_count": 34,
   "metadata": {},
   "outputs": [
    {
     "name": "stdout",
     "output_type": "stream",
     "text": [
      "[[ 1  4  7]\n",
      " [10 13 16]\n",
      " [19 22 25]]\n"
     ]
    }
   ],
   "source": [
    "print(b[...,:, 1])"
   ]
  },
  {
   "cell_type": "code",
   "execution_count": 35,
   "metadata": {},
   "outputs": [
    {
     "name": "stdout",
     "output_type": "stream",
     "text": [
      "[[ 1  4  7]\n",
      " [10 13 16]\n",
      " [19 22 25]]\n"
     ]
    }
   ],
   "source": [
    "print(b[:,:, 1])"
   ]
  },
  {
   "cell_type": "code",
   "execution_count": 36,
   "metadata": {},
   "outputs": [
    {
     "data": {
      "text/plain": [
       "' Specify a boolean array with exactly the same shape. If\\nthe boolean value at position (i,j) is True, the element\\nwill be selected, otherwise not '"
      ]
     },
     "execution_count": 36,
     "metadata": {},
     "output_type": "execute_result"
    }
   ],
   "source": [
    "''' Specify a boolean array with exactly the same shape. If\n",
    "the boolean value at position (i,j) is True, the element\n",
    "will be selected, otherwise not '''"
   ]
  },
  {
   "cell_type": "code",
   "execution_count": 37,
   "metadata": {},
   "outputs": [
    {
     "name": "stdout",
     "output_type": "stream",
     "text": [
      "[[0 1 2]\n",
      " [3 4 5]\n",
      " [6 7 8]]\n"
     ]
    }
   ],
   "source": [
    "c = np.arange(9)\n",
    "c = c.reshape((3,3))\n",
    "print(c)"
   ]
  },
  {
   "cell_type": "code",
   "execution_count": 38,
   "metadata": {},
   "outputs": [
    {
     "name": "stdout",
     "output_type": "stream",
     "text": [
      "[0 4 8]\n"
     ]
    }
   ],
   "source": [
    "b = np.array(\n",
    "[[ True, False, False],\n",
    "[ False, True, False],\n",
    "[ False, False, True]])\n",
    "print(c[b])"
   ]
  },
  {
   "cell_type": "markdown",
   "metadata": {},
   "source": [
    "Note: Only those elements from array 'c' is selected for which the boolean value in array 'b' at respective position (i,j) is True."
   ]
  },
  {
   "cell_type": "markdown",
   "metadata": {},
   "source": [
    "## Exercise I\n",
    "1.  Extracting Array Dimensionality       - ndim\n",
    "2.  Accessing Array Shape                 - shape\n",
    "3.  Restructuring Array                   - reshape()\n",
    "4.  Averaging 1D Arrays                   - average()\n",
    "5.  Working with Not a Number             - np.NaN is checked with np.isnan()\n",
    "6.  Creating Numerical Sequences          - np.arange()\n",
    "7.  Creating Numerical Intervals          - np.linspace()\n",
    "8.  Initializing Multi-Dimensional Arrays - \n",
    "9.  Revisiting Linear Algebra             - np.eyes()\n",
    "10. Understanding the Hadamard Product    - \n",
    "11. Broadcasting                          -\n",
    "12. Practicing Simple Indexing            - \n",
    "13. The Boolean Indexing Trick            -\n",
    "14. Slicing Matrices Like Paper           -\n",
    "15. Simple Array Logic                    - comparison operators directly on NumPy arrays\n",
    "16. Mastering Slice Assignments           -\n",
    "17. Sorting an Array (Part 1)             - sort()\n",
    "18. Sorting an Array (Part 2)             - argsort()\n",
    "19. Computing Array Element Differences   - diff()\n",
    "20. Computing Array of Cumulative Sums    - cumsum()"
   ]
  },
  {
   "cell_type": "code",
   "execution_count": 39,
   "metadata": {},
   "outputs": [
    {
     "name": "stdout",
     "output_type": "stream",
     "text": [
      "[10.  3. nan  7. nan  5.]\n",
      "Results with '==' check : Students Present - 6\n",
      "Results with 'np.isnan()' check : Students Present - 4\n"
     ]
    }
   ],
   "source": [
    "# 5. Working with Not a Number             - np.NaN is checked with np.isnan()\n",
    "\n",
    "import numpy as np\n",
    "# Students' quiz results.\n",
    "# NaN for students that were absent.\n",
    "data = np.array([10, 3, np.NaN, 7, np.NaN, 5])\n",
    "print(data)\n",
    "students_present = 0\n",
    "students_absent = 0\n",
    "for result in data:\n",
    "    if result == np.NaN:\n",
    "        students_absent += 1\n",
    "    else:\n",
    "        students_present += 1\n",
    "print('''Results with '==' check : Students Present -''',students_present)\n",
    "\n",
    "# Using np.isnan()\n",
    "students_present = 0\n",
    "students_absent = 0\n",
    "for result in data:\n",
    "    if np.isnan(result):\n",
    "        students_absent += 1\n",
    "    else:\n",
    "        students_present += 1\n",
    "print('''Results with 'np.isnan()' check : Students Present -''',students_present)"
   ]
  },
  {
   "cell_type": "code",
   "execution_count": 40,
   "metadata": {},
   "outputs": [
    {
     "name": "stdout",
     "output_type": "stream",
     "text": [
      "1\n"
     ]
    }
   ],
   "source": [
    "# 7. Creating Numerical Intervals          - np.linspace()\n",
    "\n",
    "import numpy as np\n",
    "\n",
    "year = np.linspace(0, 365, 366)\n",
    "\n",
    "print(int(year[-1] - year[-2]))"
   ]
  },
  {
   "cell_type": "code",
   "execution_count": 41,
   "metadata": {},
   "outputs": [
    {
     "name": "stdout",
     "output_type": "stream",
     "text": [
      "2\n"
     ]
    }
   ],
   "source": [
    "# 8. Initializing Multi-Dimensional Arrays - \n",
    "\n",
    "import numpy as np\n",
    "n = 100 # dimensionality\n",
    "W = np.zeros((n,n))\n",
    "\n",
    "for i in range(len(W)):\n",
    "    W[i][i] = 2\n",
    "\n",
    "X = np.ones((n,n))\n",
    "Y = W * X\n",
    "\n",
    "print(int(Y[-1][-1]))"
   ]
  },
  {
   "cell_type": "code",
   "execution_count": 42,
   "metadata": {},
   "outputs": [
    {
     "data": {
      "text/plain": [
       "array([[2., 0., 0., ..., 0., 0., 0.],\n",
       "       [0., 2., 0., ..., 0., 0., 0.],\n",
       "       [0., 0., 2., ..., 0., 0., 0.],\n",
       "       ...,\n",
       "       [0., 0., 0., ..., 2., 0., 0.],\n",
       "       [0., 0., 0., ..., 0., 2., 0.],\n",
       "       [0., 0., 0., ..., 0., 0., 2.]])"
      ]
     },
     "execution_count": 42,
     "metadata": {},
     "output_type": "execute_result"
    }
   ],
   "source": [
    "Y"
   ]
  },
  {
   "cell_type": "code",
   "execution_count": 43,
   "metadata": {},
   "outputs": [
    {
     "name": "stdout",
     "output_type": "stream",
     "text": [
      "5.0\n",
      "5\n",
      "[[5. 0. 0. 0. 0. 0. 0. 0. 0. 0.]\n",
      " [0. 5. 0. 0. 0. 0. 0. 0. 0. 0.]\n",
      " [0. 0. 5. 0. 0. 0. 0. 0. 0. 0.]\n",
      " [0. 0. 0. 5. 0. 0. 0. 0. 0. 0.]\n",
      " [0. 0. 0. 0. 5. 0. 0. 0. 0. 0.]\n",
      " [0. 0. 0. 0. 0. 5. 0. 0. 0. 0.]\n",
      " [0. 0. 0. 0. 0. 0. 5. 0. 0. 0.]\n",
      " [0. 0. 0. 0. 0. 0. 0. 5. 0. 0.]\n",
      " [0. 0. 0. 0. 0. 0. 0. 0. 5. 0.]\n",
      " [0. 0. 0. 0. 0. 0. 0. 0. 0. 5.]]\n"
     ]
    }
   ],
   "source": [
    "# 9. Revisiting Linear Algebra             - np.eyes()\n",
    "\n",
    "import numpy as np\n",
    "\n",
    "# dimensionality\n",
    "n = 10\n",
    "W = np.zeros((n, n))\n",
    "\n",
    "for i in range(len(W)):\n",
    "    W[i][i] = 2\n",
    "\n",
    "# Create nxn matrix\n",
    "M = np.eye(n, k=0)\n",
    "\n",
    "S = W + 3 * M\n",
    "print(S[-1][-1])\n",
    "print(int(S[-1][-1]))\n",
    "print(S)"
   ]
  },
  {
   "cell_type": "code",
   "execution_count": 44,
   "metadata": {},
   "outputs": [
    {
     "data": {
      "text/plain": [
       "array([[1., 0., 0., 0., 0., 0., 0., 0., 0., 0.],\n",
       "       [0., 1., 0., 0., 0., 0., 0., 0., 0., 0.],\n",
       "       [0., 0., 1., 0., 0., 0., 0., 0., 0., 0.],\n",
       "       [0., 0., 0., 1., 0., 0., 0., 0., 0., 0.],\n",
       "       [0., 0., 0., 0., 1., 0., 0., 0., 0., 0.],\n",
       "       [0., 0., 0., 0., 0., 1., 0., 0., 0., 0.],\n",
       "       [0., 0., 0., 0., 0., 0., 1., 0., 0., 0.],\n",
       "       [0., 0., 0., 0., 0., 0., 0., 1., 0., 0.],\n",
       "       [0., 0., 0., 0., 0., 0., 0., 0., 1., 0.],\n",
       "       [0., 0., 0., 0., 0., 0., 0., 0., 0., 1.]])"
      ]
     },
     "execution_count": 44,
     "metadata": {},
     "output_type": "execute_result"
    }
   ],
   "source": [
    "# Demonstration of usage of eye()\n",
    "# Create nxn matrix\n",
    "AZ = np.eye(n, k=0)\n",
    "AZ"
   ]
  },
  {
   "cell_type": "code",
   "execution_count": 45,
   "metadata": {},
   "outputs": [
    {
     "data": {
      "text/plain": [
       "array([[0., 1., 0., 0., 0., 0., 0., 0., 0., 0.],\n",
       "       [0., 0., 1., 0., 0., 0., 0., 0., 0., 0.],\n",
       "       [0., 0., 0., 1., 0., 0., 0., 0., 0., 0.],\n",
       "       [0., 0., 0., 0., 1., 0., 0., 0., 0., 0.],\n",
       "       [0., 0., 0., 0., 0., 1., 0., 0., 0., 0.],\n",
       "       [0., 0., 0., 0., 0., 0., 1., 0., 0., 0.],\n",
       "       [0., 0., 0., 0., 0., 0., 0., 1., 0., 0.],\n",
       "       [0., 0., 0., 0., 0., 0., 0., 0., 1., 0.],\n",
       "       [0., 0., 0., 0., 0., 0., 0., 0., 0., 1.],\n",
       "       [0., 0., 0., 0., 0., 0., 0., 0., 0., 0.]])"
      ]
     },
     "execution_count": 45,
     "metadata": {},
     "output_type": "execute_result"
    }
   ],
   "source": [
    "# Create nxn matrix\n",
    "BY = np.eye(n, k=1)\n",
    "BY"
   ]
  },
  {
   "cell_type": "code",
   "execution_count": 46,
   "metadata": {},
   "outputs": [
    {
     "data": {
      "text/plain": [
       "array([[0., 0., 0., 0., 0., 0., 0., 0., 0., 0.],\n",
       "       [1., 0., 0., 0., 0., 0., 0., 0., 0., 0.],\n",
       "       [0., 1., 0., 0., 0., 0., 0., 0., 0., 0.],\n",
       "       [0., 0., 1., 0., 0., 0., 0., 0., 0., 0.],\n",
       "       [0., 0., 0., 1., 0., 0., 0., 0., 0., 0.],\n",
       "       [0., 0., 0., 0., 1., 0., 0., 0., 0., 0.],\n",
       "       [0., 0., 0., 0., 0., 1., 0., 0., 0., 0.],\n",
       "       [0., 0., 0., 0., 0., 0., 1., 0., 0., 0.],\n",
       "       [0., 0., 0., 0., 0., 0., 0., 1., 0., 0.],\n",
       "       [0., 0., 0., 0., 0., 0., 0., 0., 1., 0.]])"
      ]
     },
     "execution_count": 46,
     "metadata": {},
     "output_type": "execute_result"
    }
   ],
   "source": [
    "# Create nxn matrix\n",
    "CX = np.eye(n, k=-1)\n",
    "CX"
   ]
  },
  {
   "cell_type": "markdown",
   "metadata": {},
   "source": [
    "Note: \n",
    "1. eye() creates an array with diagonal as 1.\n",
    "2. k changes the position of the diagonal."
   ]
  },
  {
   "cell_type": "code",
   "execution_count": 47,
   "metadata": {},
   "outputs": [
    {
     "name": "stdout",
     "output_type": "stream",
     "text": [
      "False\n",
      "106.2\n",
      "118\n"
     ]
    }
   ],
   "source": [
    "# 10. Understanding the Hadamard Product    -\n",
    "# The multiplication operator ‘*’ creates a new matrix by multiplying the two values at position (i,j) of the two matrices. We call this the Hadamard Product.\n",
    "\n",
    "import numpy as np\n",
    "\n",
    "# salary in ($1000) [2015, 2016, 2017]\n",
    "dataScientist = [133, 132, 137]\n",
    "productManager = [127, 140, 145]\n",
    "designer = [118, 118, 127]\n",
    "softwareEngineer = [129, 131, 137]\n",
    "\n",
    "# Salary matrix\n",
    "S = np.array([dataScientist,\n",
    "              productManager,\n",
    "              designer,\n",
    "              softwareEngineer])\n",
    "\n",
    "# Salary increase matrix\n",
    "I = np.array([[1.1, 1.2, 1.3],\n",
    "              [1.0, 1.0, 1.0],\n",
    "              [0.9, 0.8, 0.7],\n",
    "              [1.1, 1.1, 1.1]])\n",
    "\n",
    "# Updated salary\n",
    "S2 = S * I\n",
    "print(S2[2][0] > S[2][0])\n",
    "print(S2[2][0])\n",
    "print(S[2][0])"
   ]
  },
  {
   "cell_type": "code",
   "execution_count": 48,
   "metadata": {},
   "outputs": [
    {
     "name": "stdout",
     "output_type": "stream",
     "text": [
      "143.0\n",
      "143\n",
      "[[143.  145.2 150.7]\n",
      " [127.  140.  145. ]\n",
      " [118.  118.  127. ]\n",
      " [129.  131.  137. ]]\n"
     ]
    }
   ],
   "source": [
    "# 11. Broadcasting\n",
    "\n",
    "import numpy as np\n",
    "\n",
    "# salary in ($1000) [2015, 2016, 2017]\n",
    "dataScientist = [130, 132, 137]\n",
    "productManager = [127, 140, 145]\n",
    "designer = [118, 118, 127]\n",
    "softwareEngineer = [129, 131, 137]\n",
    "\n",
    "A = np.array([dataScientist,\n",
    "              productManager,\n",
    "              designer,\n",
    "              softwareEngineer])\n",
    "\n",
    "# salary raise for data scientists\n",
    "B = np.ones((4,1))\n",
    "B[0] = 1.1\n",
    "\n",
    "# new salary calculation\n",
    "C = A * B\n",
    "\n",
    "print(C[0][0])\n",
    "print(int(C[0][0]))\n",
    "print(C)\n"
   ]
  },
  {
   "cell_type": "markdown",
   "metadata": {},
   "source": [
    "Note:\n",
    "1. Please note that the *-operator calculates the Hadamard Product and not standard matrix multiplication. \n",
    "2. In fact,it would not even be possible to multiply a (4,3) matrix with a (4,1) vector because you can only multiply (n,m) with (m,o) matrices.\n",
    "3. Instead, NumPy uses the useful feature of broadcasting.\n",
    "4. In other words, it automatically fixes the shapes of incompatible arrays by expanding the smaller one.\n",
    "5. In the above example, NumPy creates a (virtual) matrix consisting of three times the column vector B."
   ]
  },
  {
   "cell_type": "code",
   "execution_count": 49,
   "metadata": {},
   "outputs": [
    {
     "name": "stdout",
     "output_type": "stream",
     "text": [
      "42.5\n",
      "30.0\n",
      "11.0\n"
     ]
    }
   ],
   "source": [
    "# 12. Practicing Simple Indexing            - \n",
    "\n",
    "import numpy as np\n",
    "# air quality index AQI data\n",
    "hong_kong = np.array([ 42, 40, 41, 43, 44, 43 ])\n",
    "new_york = np.array([ 30, 31, 29, 29, 29, 30 ])\n",
    "montreal = np.array([ 11, 11, 12, 13, 11, 12 ])\n",
    "\n",
    "hk_mean = (hong_kong[0] +hong_kong[-1]) / 2.0\n",
    "ny_mean = (new_york[1] +new_york[-3]) / 2.0\n",
    "m_mean = (montreal[1] +montreal[-0]) / 2.0\n",
    "\n",
    "print(hk_mean)\n",
    "print(ny_mean)\n",
    "print(m_mean)\n",
    "\n",
    "# to understand behaviour of index [-0]\n",
    "# print(montreal[0])\n",
    "# print(montreal[-0])"
   ]
  },
  {
   "cell_type": "code",
   "execution_count": 50,
   "metadata": {},
   "outputs": [
    {
     "name": "stdout",
     "output_type": "stream",
     "text": [
      "[2000 2004 2005 2008]\n",
      "1\n",
      "2008\n",
      "[2000 2004 2005 2008]\n"
     ]
    }
   ],
   "source": [
    "# 13. The Boolean Indexing Trick            -\n",
    "\n",
    "import numpy as np\n",
    "\n",
    "years = np.array([[ 2000, 2001, 2002],\n",
    "                  [ 2003, 2004, 2005],\n",
    "                  [ 2006, 2007, 2008]])\n",
    "\n",
    "leap_years_indices = np.array([[ True, False, False],\n",
    "                               [ False, True, True],\n",
    "                               [ False, False, True]])\n",
    "\n",
    "# creation of an array with leap years\n",
    "leap_years=years[leap_years_indices]\n",
    "print(leap_years)\n",
    "# checking the dimension of leap_years\n",
    "print(leap_years.ndim)\n",
    "\n",
    "print(years[leap_years_indices][-1])\n",
    "print(years[leap_years_indices])"
   ]
  },
  {
   "cell_type": "code",
   "execution_count": 51,
   "metadata": {},
   "outputs": [
    {
     "name": "stdout",
     "output_type": "stream",
     "text": [
      "['e' 'a' 't']\n",
      "1\n",
      "[['e']\n",
      " ['a']\n",
      " ['t']]\n",
      "2\n",
      "[' ' 'a' 'p' 'p']\n",
      "1\n",
      "[[' ' 'a' 'p' 'p']]\n",
      "2\n",
      "['l' 'e' 's']\n",
      "1\n",
      "eat apples"
     ]
    }
   ],
   "source": [
    "# 14. Slicing Matrices Like Paper           -\n",
    "\n",
    "import numpy as np\n",
    "\n",
    "# Prints out a multi dimensional numpy array as,! one line\n",
    "# Example: np.array([['a'], ['b'], ['c']]) -->,! abc\n",
    "\n",
    "def glow(snippet):\n",
    "    for c in snippet:\n",
    "        print(*c, end='')\n",
    "        \n",
    "newspaper = np.array([[' ', 'a', 'p', 'p'],\n",
    "                      ['b', 'a', 'n', 'a'],\n",
    "                      ['t', 'o', 'm', 't'],\n",
    "                      ['c', 'u', 'c', 'a'],\n",
    "                      ['l', 'e', 's', 'e'],\n",
    "                      ['p', 'r', 'e', 's'],\n",
    "                      ['c', 'a', 'r', 's'],\n",
    "                      ['y', 'e', 'a', 'r']])\n",
    "\n",
    "snippet0 = newspaper[2:5, -1][::-1] # added\n",
    "snippet1 = newspaper[2:5, -1:][::-1]\n",
    "snippet2 = newspaper[0, :]\n",
    "snippet3 = newspaper[0:1, :] # added\n",
    "snippet4 = newspaper[4, :-1]\n",
    "\n",
    "print(snippet0)\n",
    "print(snippet0.ndim)\n",
    "print(snippet1)\n",
    "print(snippet1.ndim)\n",
    "print(snippet2)\n",
    "print(snippet2.ndim)\n",
    "print(snippet3)\n",
    "print(snippet3.ndim)\n",
    "print(snippet4)\n",
    "print(snippet4.ndim)\n",
    "\n",
    "glow(snippet1)\n",
    "glow(snippet2)\n",
    "glow(snippet4)"
   ]
  },
  {
   "cell_type": "markdown",
   "metadata": {},
   "source": [
    "Note:\n",
    "It is very important to notice how a ':' produces a subtle difference in the dimension of the arrays.\n",
    "For example, snippet0 and snippet1 are 1d and 2d with almost the same slicing except a ':'.\n",
    "Similarly, difference between snippet2 and snippet3 is worth-noting."
   ]
  },
  {
   "cell_type": "code",
   "execution_count": 52,
   "metadata": {},
   "outputs": [
    {
     "name": "stdout",
     "output_type": "stream",
     "text": [
      "[ True  True False  True  True False]\n",
      "True\n",
      "False\n"
     ]
    }
   ],
   "source": [
    "# 15. Simple Array Logic                    - comparison operators directly on NumPy arrays\n",
    "\n",
    "import numpy as np\n",
    "\n",
    "# popular instagram accounts\n",
    "# (millions followers)\n",
    "inst = [232, #\"@instagram\"\n",
    "        133, #\"@selenagomez\"\n",
    "        59, #\"@victoriassecret\"\n",
    "        120, #\"@cristiano\"\n",
    "        111, #\"@beyonce\"\n",
    "        76] #\"@nike\"\n",
    "\n",
    "inst = np.array(inst)\n",
    "\n",
    "superstars = inst > 100\n",
    "\n",
    "print(superstars)\n",
    "print(superstars[0])\n",
    "print(superstars[2])"
   ]
  },
  {
   "cell_type": "markdown",
   "metadata": {},
   "source": [
    "Note:\n",
    "1. Using comparison operators directly on NumPy arrays, the result is an equally-sized NumPy array with Boolean values.\n",
    "2. Each Boolean value in cell (i,j) indicates whether the comparison evaluates to True for its respective value in cell (i,j) of the original array."
   ]
  },
  {
   "cell_type": "code",
   "execution_count": 53,
   "metadata": {},
   "outputs": [
    {
     "name": "stdout",
     "output_type": "stream",
     "text": [
      "2\n"
     ]
    }
   ],
   "source": [
    "# 16. Mastering Slice Assignments           -\n",
    "\n",
    "import numpy as np\n",
    "\n",
    "# The fibonacci series\n",
    "F = np.array([0, 1, 1, 2, 3, 5, 8])\n",
    "F[::3] = 0\n",
    "\n",
    "print(sum(F[:4]))\n",
    "#print(F)"
   ]
  },
  {
   "cell_type": "code",
   "execution_count": 54,
   "metadata": {},
   "outputs": [
    {
     "name": "stdout",
     "output_type": "stream",
     "text": [
      "6\n"
     ]
    }
   ],
   "source": [
    "# 17. Sorting an Array (Part 1)             - sort()\n",
    "\n",
    "import numpy as np\n",
    "\n",
    "# Quiz scores for different students\n",
    "scores = np.array([7, 6, 8, 5, 9])\n",
    "scores = np.sort(scores)\n",
    "scores = scores[::-1]\n",
    "print(scores[-2])"
   ]
  },
  {
   "cell_type": "markdown",
   "metadata": {},
   "source": [
    "Note:\n",
    "sort() is used to sort array, default is ascending. The statement 'scores = scores[::-1]' re-assigns the reversed array into scores."
   ]
  },
  {
   "cell_type": "code",
   "execution_count": 55,
   "metadata": {},
   "outputs": [
    {
     "name": "stdout",
     "output_type": "stream",
     "text": [
      "[1 3 2 4 0]\n",
      "33\n"
     ]
    }
   ],
   "source": [
    "# 18. Sorting an Array (Part 2)             - argsort()\n",
    "\n",
    "import numpy as np\n",
    "\n",
    "# Sensor IDs and the corresponding sensor values\n",
    "ids = [56, 61, 33, 17, 82]\n",
    "values = np.array([10, 6, 8, 7, 9])\n",
    "\n",
    "indices = np.argsort(values)\n",
    "\n",
    "print(indices)\n",
    "print(ids[indices[2]])"
   ]
  },
  {
   "cell_type": "markdown",
   "metadata": {},
   "source": [
    "Note:\n",
    "1. argsort() function, sort the values in ascending order.\n",
    "2. Instead of returning the sorted array, this function returns the indices of elements from the original values array in the order in which they occur in the sorted array.\n",
    "3. Observe the indices array."
   ]
  },
  {
   "cell_type": "code",
   "execution_count": 56,
   "metadata": {},
   "outputs": [
    {
     "name": "stdout",
     "output_type": "stream",
     "text": [
      "[[56 10]\n",
      " [61  6]\n",
      " [33  8]\n",
      " [17  7]\n",
      " [82  9]]\n"
     ]
    },
    {
     "ename": "TypeError",
     "evalue": "sort() got an unexpected keyword argument 'key'",
     "output_type": "error",
     "traceback": [
      "\u001b[1;31m---------------------------------------------------------------------------\u001b[0m",
      "\u001b[1;31mTypeError\u001b[0m                                 Traceback (most recent call last)",
      "\u001b[1;32m<ipython-input-56-1c848cf0f4ee>\u001b[0m in \u001b[0;36m<module>\u001b[1;34m\u001b[0m\n\u001b[0;32m      3\u001b[0m \u001b[0mlst\u001b[0m\u001b[1;33m=\u001b[0m\u001b[0mnp\u001b[0m\u001b[1;33m.\u001b[0m\u001b[0marray\u001b[0m\u001b[1;33m(\u001b[0m\u001b[1;33m[\u001b[0m\u001b[0mc\u001b[0m \u001b[1;32mfor\u001b[0m \u001b[0mc\u001b[0m \u001b[1;32min\u001b[0m \u001b[0mzip\u001b[0m\u001b[1;33m(\u001b[0m\u001b[0mids\u001b[0m\u001b[1;33m,\u001b[0m\u001b[0mvalues\u001b[0m\u001b[1;33m)\u001b[0m\u001b[1;33m]\u001b[0m\u001b[1;33m)\u001b[0m\u001b[1;33m\u001b[0m\u001b[1;33m\u001b[0m\u001b[0m\n\u001b[0;32m      4\u001b[0m \u001b[0mprint\u001b[0m\u001b[1;33m(\u001b[0m\u001b[0mlst\u001b[0m\u001b[1;33m)\u001b[0m\u001b[1;33m\u001b[0m\u001b[1;33m\u001b[0m\u001b[0m\n\u001b[1;32m----> 5\u001b[1;33m \u001b[0mlst\u001b[0m\u001b[1;33m=\u001b[0m\u001b[0mnp\u001b[0m\u001b[1;33m.\u001b[0m\u001b[0msort\u001b[0m\u001b[1;33m(\u001b[0m\u001b[0mlst\u001b[0m\u001b[1;33m,\u001b[0m\u001b[0mkey\u001b[0m\u001b[1;33m=\u001b[0m\u001b[0mtakeSecond\u001b[0m\u001b[1;33m)\u001b[0m\u001b[1;33m\u001b[0m\u001b[1;33m\u001b[0m\u001b[0m\n\u001b[0m",
      "\u001b[1;31mTypeError\u001b[0m: sort() got an unexpected keyword argument 'key'"
     ]
    }
   ],
   "source": [
    "def takeSecond(elem):\n",
    "    return elem[1]\n",
    "lst=np.array([c for c in zip(ids,values)])\n",
    "print(lst)\n",
    "lst=np.sort(lst,key=takeSecond)"
   ]
  },
  {
   "cell_type": "markdown",
   "metadata": {},
   "source": [
    "i want to sort the first array based on the values from second array. for list it can be done through key= option in sort()"
   ]
  },
  {
   "cell_type": "code",
   "execution_count": 57,
   "metadata": {},
   "outputs": [
    {
     "name": "stdout",
     "output_type": "stream",
     "text": [
      "[1 0 1 1 2 3 5 8]\n",
      "2\n"
     ]
    }
   ],
   "source": [
    "# 19. Computing Array Element Differences   - diff()\n",
    "\n",
    "import numpy as np\n",
    "\n",
    "# Fibonacci Sequence with first 8 numbers\n",
    "fibs = np.array([0, 1, 1, 2, 3, 5, 8, 13, 21])\n",
    "\n",
    "diff_fibs = np.diff(fibs)\n",
    "\n",
    "print(diff_fibs)\n",
    "print(diff_fibs[4])"
   ]
  },
  {
   "cell_type": "markdown",
   "metadata": {},
   "source": [
    "Note:\n",
    "1. diff() function calculates the difference between consecutive numbers in a NumPy array.\n",
    "2. These differences can be stored as another array.\n",
    "3. Since, diff() returns an array of differences, this array’s size is smaller than the length of the input array by 1 element."
   ]
  },
  {
   "cell_type": "code",
   "execution_count": 58,
   "metadata": {},
   "outputs": [
    {
     "name": "stdout",
     "output_type": "stream",
     "text": [
      "[ 2.   5.   7.5 11.  15.  18.5]\n",
      "7.5\n"
     ]
    }
   ],
   "source": [
    "# 20. Computing Array of Cumulative Sums    - cumsum()\n",
    "\n",
    "import numpy as np\n",
    "\n",
    "# Per-day charity donations in thousands of dollars received in a charity compaign\n",
    "donations = np.array([2, 3, 2.5, 3.5, 4, 3.5])\n",
    "cum_donations = np.cumsum(donations)\n",
    "\n",
    "print(cum_donations)\n",
    "print(cum_donations[-4])"
   ]
  },
  {
   "cell_type": "markdown",
   "metadata": {},
   "source": [
    "Note: NumPy’s cumsum() function generate the cumulative sum of array."
   ]
  },
  {
   "cell_type": "markdown",
   "metadata": {},
   "source": [
    "## Exercise II\n",
    "1.  Calculating 1D Dot Product            - np.dot()\n",
    "2.  Multiplying 2D Matrices               - @, np.matmul()\n",
    "3.  Enhancing Vector Operations           - \n",
    "4.  Linear Algebra Made Simple            - \n",
    "5.  Revisiting Average                    - np.average()\n",
    "6.  Reshaping 1D Arrays                   - reshape()\n",
    "7.  Averaging 2D Arrays                   - np.average()\n",
    "8.  Weighted Averaging Along Axes         - \n",
    "9.  Calculating 1D Variance               - np.var()\n",
    "10. Axis Variance of a 2D Array           - np.var()\n",
    "11. 1D Axis Standard Deviation            -"
   ]
  },
  {
   "cell_type": "code",
   "execution_count": 60,
   "metadata": {},
   "outputs": [
    {
     "name": "stdout",
     "output_type": "stream",
     "text": [
      "1134.1\n",
      "1131\n",
      "buy\n"
     ]
    }
   ],
   "source": [
    "# 1.  Calculating 1D Dot Product            - np.dot()\n",
    "\n",
    "import numpy as np\n",
    "\n",
    "# simple regression model\n",
    "W = np.array([0.7, 0.2, 0.1])\n",
    "\n",
    "# Google stock prices (in US-$) [today, yesterday, 2 days ago]\n",
    "x = np.array([1131, 1142, 1140])\n",
    "\n",
    "# prediction\n",
    "y = np.dot(W, x)\n",
    "\n",
    "print(y)\n",
    "print(x[0])\n",
    "# do we expect growing prices?\n",
    "if y > x[0]:\n",
    "    print(\"buy\")\n",
    "else:\n",
    "    print(\"sell\")"
   ]
  },
  {
   "cell_type": "markdown",
   "metadata": {},
   "source": [
    "Note:\n",
    "1. The stock prices of the last three days are 1132, 1142 and 1140.\n",
    "2. The predicted stock price for the next day is y = 0.7 * 1132 + 0.2 * 1142 + 0.1 * 1140 = 1134.8."
   ]
  },
  {
   "cell_type": "code",
   "execution_count": 66,
   "metadata": {},
   "outputs": [
    {
     "name": "stdout",
     "output_type": "stream",
     "text": [
      "[[2 2]\n",
      " [2 0]]\n",
      "[[2 2]\n",
      " [2 0]]\n",
      "True\n"
     ]
    }
   ],
   "source": [
    "# 2.  Multiplying 2D Matrices               - @, np.matmul()\n",
    "\n",
    "import numpy as np\n",
    "# graphics data\n",
    "a = [[1, 1],[1, 0]]\n",
    "a = np.array(a)\n",
    "\n",
    "# stretch vectors\n",
    "b = [[2, 0],[0, 2]]\n",
    "b = np.array(b)\n",
    "\n",
    "c = a @ b\n",
    "d = np.matmul(a,b)\n",
    "\n",
    "print(c)\n",
    "print(d)\n",
    "print((c == d)[0,0])"
   ]
  },
  {
   "cell_type": "markdown",
   "metadata": {},
   "source": [
    "Note:\n",
    "1. NumPy supports two syntaxes for matrix multiplication: the matmul function and the @ operator.\n",
    "2. The * operator performs element-wise matrix multiplication and is therefore different."
   ]
  },
  {
   "cell_type": "code",
   "execution_count": 67,
   "metadata": {},
   "outputs": [
    {
     "name": "stdout",
     "output_type": "stream",
     "text": [
      "5\n"
     ]
    }
   ],
   "source": [
    "# 3.  Enhancing Vector Operations           - \n",
    "\n",
    "import numpy as np\n",
    "\n",
    "# Two points in 3D space\n",
    "a = np.array([5, -3, 2])\n",
    "b = np.array([1, 0, 2])\n",
    "\n",
    "c = b - a\n",
    "vec_len = np.sqrt(sum(c ** 2))\n",
    "\n",
    "print(int(vec_len))"
   ]
  },
  {
   "cell_type": "code",
   "execution_count": 68,
   "metadata": {},
   "outputs": [
    {
     "name": "stdout",
     "output_type": "stream",
     "text": [
      "[-6 -8  3]\n",
      "0\n"
     ]
    }
   ],
   "source": [
    "# 4.  Linear Algebra Made Simple            - \n",
    "\n",
    "import numpy as np\n",
    "\n",
    "# Two vectors in 3D space\n",
    "a = np.array([5, -3, 2])\n",
    "b = np.array([1, 0, 2])\n",
    "\n",
    "c = np.cross(a, b)\n",
    "\n",
    "scalar_prod = np.dot(a, c)\n",
    "\n",
    "print(c)\n",
    "print(scalar_prod)"
   ]
  },
  {
   "cell_type": "code",
   "execution_count": 69,
   "metadata": {},
   "outputs": [
    {
     "name": "stdout",
     "output_type": "stream",
     "text": [
      "True\n"
     ]
    }
   ],
   "source": [
    "# 5.  Revisiting Average                    - average()\n",
    "\n",
    "import numpy as np\n",
    "\n",
    "# Goals in five matches\n",
    "goals_brazil = np.array([1,2,3,1,2])\n",
    "goals_germany = np.array([1,0,1,2,0])\n",
    "\n",
    "br = np.average(goals_brazil)\n",
    "ge = np.average(goals_germany)\n",
    "\n",
    "print(br>ge)"
   ]
  },
  {
   "cell_type": "code",
   "execution_count": 70,
   "metadata": {},
   "outputs": [
    {
     "name": "stdout",
     "output_type": "stream",
     "text": [
      "186.5\n"
     ]
    }
   ],
   "source": [
    "# 6.  Reshaping 1D Arrays                   - np.reshape()\n",
    "\n",
    "import numpy as np\n",
    "\n",
    "def makeTwoDim(x):\n",
    "    if len(x.shape)==1:\n",
    "        x = x.reshape(len(x) // 2, 2)\n",
    "        return x\n",
    "\n",
    "# apple stock prices (May 2018)\n",
    "prices = [ 189, 186, 186, 188,\n",
    "           187, 188, 188, 186,\n",
    "           188, 188, 187, 186 ]\n",
    "\n",
    "data = np.array(prices)\n",
    "data = makeTwoDim(data)\n",
    "\n",
    "print(np.average(data[-1]))"
   ]
  },
  {
   "cell_type": "markdown",
   "metadata": {},
   "source": [
    "Note:\n",
    "1. It creates a one-dimensional NumPy array from raw price data. \n",
    "2. Note that the shape property of an ndimensional NumPy array is a tuple with n elements.\n",
    "3. Thus, a one-dimensional NumPy array has a shape property of length one.\n",
    "4. The function makeTwoDim(x) uses this to detect onedimensional NumPy arrays.\n",
    "5. Then, it transforms these into two-dimensional arrays using the reshape function."
   ]
  },
  {
   "cell_type": "code",
   "execution_count": 71,
   "metadata": {},
   "outputs": [
    {
     "name": "stdout",
     "output_type": "stream",
     "text": [
      "3.0\n"
     ]
    }
   ],
   "source": [
    "# 7.  Averaging 2D Arrays                   - np.average()\n",
    "\n",
    "import numpy as np\n",
    "\n",
    "# stock prices (3x per day) [morning, midday, evening]\n",
    "solar_x = np.array( [[2, 3, 4], # day 1\n",
    "                    [2, 2, 5]]) # day 2\n",
    "\n",
    "print(np.average(solar_x))"
   ]
  },
  {
   "cell_type": "markdown",
   "metadata": {},
   "source": [
    "Note:\n",
    "1. The average function of the NumPy library, applied to a 1D NumPy array, returns the average of the array values. \n",
    "2. When applied to a 2D NumPy array, NumPy simply flattens the array.\n",
    "3. The result is the average of the flattened 1D array."
   ]
  },
  {
   "cell_type": "code",
   "execution_count": 72,
   "metadata": {},
   "outputs": [
    {
     "name": "stdout",
     "output_type": "stream",
     "text": [
      "2.75\n"
     ]
    }
   ],
   "source": [
    "# 8.  Weighted Averaging Along Axes         - \n",
    "\n",
    "import numpy as np\n",
    "# daily stock prices [morning, midday, evening]\n",
    "solar_x = np.array([[2, 3, 4], # today\n",
    "                   [2, 2, 5]]) # yesterday\n",
    "\n",
    "# midday - weighted average\n",
    "print(np.average(solar_x, axis=0,weights=[3/4, 1/4])[1])"
   ]
  },
  {
   "cell_type": "code",
   "execution_count": null,
   "metadata": {},
   "outputs": [],
   "source": []
  }
 ],
 "metadata": {
  "kernelspec": {
   "display_name": "Python 3",
   "language": "python",
   "name": "python3"
  },
  "language_info": {
   "codemirror_mode": {
    "name": "ipython",
    "version": 3
   },
   "file_extension": ".py",
   "mimetype": "text/x-python",
   "name": "python",
   "nbconvert_exporter": "python",
   "pygments_lexer": "ipython3",
   "version": "3.7.4"
  }
 },
 "nbformat": 4,
 "nbformat_minor": 2
}
